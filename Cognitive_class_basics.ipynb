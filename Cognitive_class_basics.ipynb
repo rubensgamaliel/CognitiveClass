{
  "nbformat": 4,
  "nbformat_minor": 0,
  "metadata": {
    "colab": {
      "name": "Cognitive_class_basics.ipynb",
      "provenance": [],
      "authorship_tag": "ABX9TyOziDy642W72VDfD4huMX94",
      "include_colab_link": true
    },
    "kernelspec": {
      "name": "python3",
      "display_name": "Python 3"
    }
  },
  "cells": [
    {
      "cell_type": "markdown",
      "metadata": {
        "id": "view-in-github",
        "colab_type": "text"
      },
      "source": [
        "<a href=\"https://colab.research.google.com/github/rubensgamaliel/CognitiveClass/blob/main/Cognitive_class_basics.ipynb\" target=\"_parent\"><img src=\"https://colab.research.google.com/assets/colab-badge.svg\" alt=\"Open In Colab\"/></a>"
      ]
    },
    {
      "cell_type": "markdown",
      "metadata": {
        "id": "0wO9XNnHJd6c"
      },
      "source": [
        "Material from the **Python for data science** class from **IBM** by [cognitive class](https://courses.cognitiveclass.ai/courses/course-v1:Cognitiveclass+PY0101EN+v2/course/)"
      ]
    },
    {
      "cell_type": "code",
      "metadata": {
        "id": "rttTen36JUlZ"
      },
      "source": [
        ""
      ],
      "execution_count": null,
      "outputs": []
    }
  ]
}