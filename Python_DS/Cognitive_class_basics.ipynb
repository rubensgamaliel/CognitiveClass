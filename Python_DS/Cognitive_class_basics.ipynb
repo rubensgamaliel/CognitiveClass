{
  "nbformat": 4,
  "nbformat_minor": 0,
  "metadata": {
    "colab": {
      "name": "Cognitive_class_basics.ipynb",
      "provenance": [],
      "authorship_tag": "ABX9TyMlci9rrQbgZczNP+q7ZpRZ",
      "include_colab_link": true
    },
    "kernelspec": {
      "name": "python3",
      "display_name": "Python 3"
    }
  },
  "cells": [
    {
      "cell_type": "markdown",
      "metadata": {
        "id": "view-in-github",
        "colab_type": "text"
      },
      "source": [
        "<a href=\"https://colab.research.google.com/github/rubensgamaliel/CognitiveClass/blob/main/Python_DS/Cognitive_class_basics.ipynb\" target=\"_parent\"><img src=\"https://colab.research.google.com/assets/colab-badge.svg\" alt=\"Open In Colab\"/></a>"
      ]
    },
    {
      "cell_type": "markdown",
      "metadata": {
        "id": "0wO9XNnHJd6c"
      },
      "source": [
        "#Material from the **Python for data science** class from **IBM** by [cognitive class](https://courses.cognitiveclass.ai/courses/course-v1:Cognitiveclass+PY0101EN+v2/course/)"
      ]
    },
    {
      "cell_type": "markdown",
      "metadata": {
        "id": "a0xLw5mD3uG8"
      },
      "source": [
        "##Module 1"
      ]
    },
    {
      "cell_type": "markdown",
      "metadata": {
        "id": "cbREu3_r3hqW"
      },
      "source": [
        "Using the Practice Lab find the result of executing `print(\"Hello\\nWorld!\")` statement"
      ]
    },
    {
      "cell_type": "code",
      "metadata": {
        "id": "fFqH2W853irN",
        "colab": {
          "base_uri": "https://localhost:8080/"
        },
        "outputId": "3342ee40-f2e4-4306-d2c0-11ade8fb06a8"
      },
      "source": [
        "print(\"Hello\\nWorld!\") "
      ],
      "execution_count": 1,
      "outputs": [
        {
          "output_type": "stream",
          "text": [
            "Hello\n",
            "World!\n"
          ],
          "name": "stdout"
        }
      ]
    },
    {
      "cell_type": "markdown",
      "metadata": {
        "id": "F3yELEvu3oQP"
      },
      "source": [
        "what is the output of executing the following statement: `# print('Hello World!')`"
      ]
    },
    {
      "cell_type": "code",
      "metadata": {
        "id": "d6dvYnoB3pEc"
      },
      "source": [
        "# print('Hello World!')"
      ],
      "execution_count": 2,
      "outputs": []
    },
    {
      "cell_type": "markdown",
      "metadata": {
        "id": "jJqVEOTG37Sq"
      },
      "source": [
        "What is the type of the following `int(1.0)`?"
      ]
    },
    {
      "cell_type": "code",
      "metadata": {
        "id": "-IXM1wzp39Ec",
        "colab": {
          "base_uri": "https://localhost:8080/"
        },
        "outputId": "4e785866-e643-42e8-cfc9-f7dcc71388a0"
      },
      "source": [
        "type(int(1.0))"
      ],
      "execution_count": 3,
      "outputs": [
        {
          "output_type": "execute_result",
          "data": {
            "text/plain": [
              "int"
            ]
          },
          "metadata": {
            "tags": []
          },
          "execution_count": 3
        }
      ]
    },
    {
      "cell_type": "markdown",
      "metadata": {
        "id": "XQsYXfn64CbL"
      },
      "source": [
        "Enter the code to convert the number 1 to a Boolean ?"
      ]
    },
    {
      "cell_type": "code",
      "metadata": {
        "id": "IIH9UCyj4EGd",
        "colab": {
          "base_uri": "https://localhost:8080/"
        },
        "outputId": "eea7a017-510e-4660-d685-37d178176caf"
      },
      "source": [
        "bool(1)"
      ],
      "execution_count": 4,
      "outputs": [
        {
          "output_type": "execute_result",
          "data": {
            "text/plain": [
              "True"
            ]
          },
          "metadata": {
            "tags": []
          },
          "execution_count": 4
        }
      ]
    },
    {
      "cell_type": "markdown",
      "metadata": {
        "id": "Zdt406oK3yNu"
      },
      "source": [
        "##Module 2"
      ]
    },
    {
      "cell_type": "markdown",
      "metadata": {
        "id": "-i-wCzaEa5oC"
      },
      "source": [
        "Consider the following string:\r\n",
        "\r\n",
        "`Numbers=\"0123456\"`\r\n",
        "\r\n",
        "how would you obtain the even elements ?"
      ]
    },
    {
      "cell_type": "code",
      "metadata": {
        "id": "rttTen36JUlZ",
        "colab": {
          "base_uri": "https://localhost:8080/",
          "height": 0
        },
        "outputId": "53ec9ad8-f85a-49c0-ed15-93ae5e5964c9"
      },
      "source": [
        "Numbers=\"0123456\"\r\n",
        "Numbers[::2]"
      ],
      "execution_count": 5,
      "outputs": [
        {
          "output_type": "execute_result",
          "data": {
            "application/vnd.google.colaboratory.intrinsic+json": {
              "type": "string"
            },
            "text/plain": [
              "'0246'"
            ]
          },
          "metadata": {
            "tags": []
          },
          "execution_count": 5
        }
      ]
    },
    {
      "cell_type": "markdown",
      "metadata": {
        "id": "6XqVspbLbYpI"
      },
      "source": [
        "What is the result of the following line of code:\r\n",
        "\r\n",
        "`\"0123456\".find('1')`"
      ]
    },
    {
      "cell_type": "code",
      "metadata": {
        "colab": {
          "base_uri": "https://localhost:8080/"
        },
        "id": "_RFi-gaWbEvX",
        "outputId": "246ddee5-8575-45af-a10a-87ed3d45e099"
      },
      "source": [
        "\"0123456\".find('1')"
      ],
      "execution_count": 6,
      "outputs": [
        {
          "output_type": "execute_result",
          "data": {
            "text/plain": [
              "1"
            ]
          },
          "metadata": {
            "tags": []
          },
          "execution_count": 6
        }
      ]
    },
    {
      "cell_type": "code",
      "metadata": {
        "colab": {
          "base_uri": "https://localhost:8080/"
        },
        "id": "w_Kf7cmxbaeD",
        "outputId": "6bb00136-6360-489c-f54e-2494b6079886"
      },
      "source": [
        "type(\"0123456\".find('1'))"
      ],
      "execution_count": 7,
      "outputs": [
        {
          "output_type": "execute_result",
          "data": {
            "text/plain": [
              "int"
            ]
          },
          "metadata": {
            "tags": []
          },
          "execution_count": 7
        }
      ]
    },
    {
      "cell_type": "markdown",
      "metadata": {
        "id": "z4ewUN8wdfGz"
      },
      "source": [
        "What is the result of the following operation in Python:\r\n",
        "\r\n",
        "`3 + 2 * 2`"
      ]
    },
    {
      "cell_type": "code",
      "metadata": {
        "colab": {
          "base_uri": "https://localhost:8080/"
        },
        "id": "fidV5KWtbfEr",
        "outputId": "d8f73e06-6fc3-4177-b573-587a85dfaf80"
      },
      "source": [
        "3 + 2 * 2"
      ],
      "execution_count": 8,
      "outputs": [
        {
          "output_type": "execute_result",
          "data": {
            "text/plain": [
              "7"
            ]
          },
          "metadata": {
            "tags": []
          },
          "execution_count": 8
        }
      ]
    },
    {
      "cell_type": "markdown",
      "metadata": {
        "id": "fPD75JH-dlx4"
      },
      "source": [
        "In Python, if you executed `name = 'Lizz'`, what would be the output of `print(name[0:2])`?"
      ]
    },
    {
      "cell_type": "code",
      "metadata": {
        "colab": {
          "base_uri": "https://localhost:8080/"
        },
        "id": "DmJ8KUM4dht_",
        "outputId": "4d7fb755-14d0-42bf-fa40-3dea4d16e4e5"
      },
      "source": [
        "name = 'Lizz'\r\n",
        "print(name[0:2])"
      ],
      "execution_count": 9,
      "outputs": [
        {
          "output_type": "stream",
          "text": [
            "Li\n"
          ],
          "name": "stdout"
        }
      ]
    },
    {
      "cell_type": "markdown",
      "metadata": {
        "id": "xxKqRkfaduQe"
      },
      "source": [
        "In Python, if you executed `var = '01234567'`, what would be the result of `print(var[::2])`?"
      ]
    },
    {
      "cell_type": "code",
      "metadata": {
        "colab": {
          "base_uri": "https://localhost:8080/"
        },
        "id": "o-mLTGVvdqXt",
        "outputId": "3684268d-7208-4e71-8661-44434c6a22d1"
      },
      "source": [
        "var = '01234567'\r\n",
        "print(var[::2])"
      ],
      "execution_count": 10,
      "outputs": [
        {
          "output_type": "stream",
          "text": [
            "0246\n"
          ],
          "name": "stdout"
        }
      ]
    },
    {
      "cell_type": "markdown",
      "metadata": {
        "id": "QXGyodHYd2WR"
      },
      "source": [
        "In Python, what is the result of the following operation `'1'+'2'`"
      ]
    },
    {
      "cell_type": "code",
      "metadata": {
        "colab": {
          "base_uri": "https://localhost:8080/",
          "height": 0
        },
        "id": "8GwxQCYAdyy1",
        "outputId": "805e0387-5c43-4b95-b463-df29f555a79b"
      },
      "source": [
        "'1'+'2'"
      ],
      "execution_count": 11,
      "outputs": [
        {
          "output_type": "execute_result",
          "data": {
            "application/vnd.google.colaboratory.intrinsic+json": {
              "type": "string"
            },
            "text/plain": [
              "'12'"
            ]
          },
          "metadata": {
            "tags": []
          },
          "execution_count": 11
        }
      ]
    },
    {
      "cell_type": "markdown",
      "metadata": {
        "id": "DSyCkOBbd7gR"
      },
      "source": [
        "Given `myvar = 'hello'`, how would you convert myvar into uppercase?"
      ]
    },
    {
      "cell_type": "code",
      "metadata": {
        "colab": {
          "base_uri": "https://localhost:8080/",
          "height": 0
        },
        "id": "xU-K7b3Ed4Mj",
        "outputId": "38caf4f7-7556-49d0-ff1f-9111ee713933"
      },
      "source": [
        "myvar = 'hello'\r\n",
        "myvar.upper()"
      ],
      "execution_count": 12,
      "outputs": [
        {
          "output_type": "execute_result",
          "data": {
            "application/vnd.google.colaboratory.intrinsic+json": {
              "type": "string"
            },
            "text/plain": [
              "'HELLO'"
            ]
          },
          "metadata": {
            "tags": []
          },
          "execution_count": 12
        }
      ]
    },
    {
      "cell_type": "markdown",
      "metadata": {
        "id": "BFLC1WSex4o4"
      },
      "source": [
        "how do you access the last element of the tuple: `A=(0,1,2,3)` :"
      ]
    },
    {
      "cell_type": "code",
      "metadata": {
        "colab": {
          "base_uri": "https://localhost:8080/"
        },
        "id": "qpAXaEJzd_iY",
        "outputId": "556648ca-ac2c-4425-a487-bed2b7d3dffe"
      },
      "source": [
        "A=(0,1,2,3)\r\n",
        "A[-1]\r\n",
        "A[3]"
      ],
      "execution_count": 13,
      "outputs": [
        {
          "output_type": "execute_result",
          "data": {
            "text/plain": [
              "3"
            ]
          },
          "metadata": {
            "tags": []
          },
          "execution_count": 13
        }
      ]
    },
    {
      "cell_type": "markdown",
      "metadata": {
        "id": "7u0Um1ugyG6P"
      },
      "source": [
        "Consider the list `B=[\"a\",\"b\",\"c\"]`\r\n",
        "\r\n",
        "what is the result of the following `B[1:]`"
      ]
    },
    {
      "cell_type": "code",
      "metadata": {
        "colab": {
          "base_uri": "https://localhost:8080/"
        },
        "id": "L6zptoGvx9Bx",
        "outputId": "17b34509-0587-4ce3-b168-b254c3b36ea6"
      },
      "source": [
        "B=[\"a\",\"b\",\"c\"]\r\n",
        "B[1:]"
      ],
      "execution_count": 14,
      "outputs": [
        {
          "output_type": "execute_result",
          "data": {
            "text/plain": [
              "['b', 'c']"
            ]
          },
          "metadata": {
            "tags": []
          },
          "execution_count": 14
        }
      ]
    },
    {
      "cell_type": "markdown",
      "metadata": {
        "id": "bo4qLWq6z5UI"
      },
      "source": [
        "What is the result of the following lines of code:\r\n",
        "\r\n",
        "\r\n",
        "\r\n",
        "```\r\n",
        "S={'A','B','C'}\r\n",
        "\r\n",
        "U={'A','Z','C'}\r\n",
        "\r\n",
        "U.union(S)\r\n",
        "```\r\n",
        "\r\n"
      ]
    },
    {
      "cell_type": "code",
      "metadata": {
        "colab": {
          "base_uri": "https://localhost:8080/"
        },
        "id": "ohm6UeZpyKV-",
        "outputId": "62881f95-d0f0-478d-c440-4932d49e8239"
      },
      "source": [
        "S={'A','B','C'}\r\n",
        "\r\n",
        "U={'A','Z','C'}\r\n",
        "\r\n",
        "U.union(S)"
      ],
      "execution_count": 15,
      "outputs": [
        {
          "output_type": "execute_result",
          "data": {
            "text/plain": [
              "{'A', 'B', 'C', 'Z'}"
            ]
          },
          "metadata": {
            "tags": []
          },
          "execution_count": 15
        }
      ]
    },
    {
      "cell_type": "markdown",
      "metadata": {
        "id": "kf_yI6eF0DuJ"
      },
      "source": [
        "What is the intersection of set S and U\r\n",
        "\r\n",
        "\r\n",
        "\r\n",
        "```\r\n",
        "S={'A','B','C'}\r\n",
        "\r\n",
        "U={'A','Z','C'}\r\n",
        "```\r\n",
        "\r\n"
      ]
    },
    {
      "cell_type": "code",
      "metadata": {
        "colab": {
          "base_uri": "https://localhost:8080/"
        },
        "id": "mpJSDI9nz-nF",
        "outputId": "96b925b5-2a6e-4b08-c808-7bb4900c9a97"
      },
      "source": [
        "S={'A','B','C'}\r\n",
        "\r\n",
        "U={'A','Z','C'}\r\n",
        "\r\n",
        "S & U"
      ],
      "execution_count": 16,
      "outputs": [
        {
          "output_type": "execute_result",
          "data": {
            "text/plain": [
              "{'A', 'C'}"
            ]
          },
          "metadata": {
            "tags": []
          },
          "execution_count": 16
        }
      ]
    },
    {
      "cell_type": "markdown",
      "metadata": {
        "id": "WWUR2sgXJpVY"
      },
      "source": [
        "Consider the following dictionary:\r\n",
        "\r\n",
        "`D={'a':0,'b':1,'c':2}`\r\n",
        "\r\n",
        "What is the result of the following: D.values()"
      ]
    },
    {
      "cell_type": "code",
      "metadata": {
        "colab": {
          "base_uri": "https://localhost:8080/"
        },
        "id": "krtV--jo0HzM",
        "outputId": "63521603-62ac-4a84-9e77-306a9fb1b0e5"
      },
      "source": [
        "D={'a':0,'b':1,'c':2}\r\n",
        "D.values()"
      ],
      "execution_count": 17,
      "outputs": [
        {
          "output_type": "execute_result",
          "data": {
            "text/plain": [
              "dict_values([0, 1, 2])"
            ]
          },
          "metadata": {
            "tags": []
          },
          "execution_count": 17
        }
      ]
    },
    {
      "cell_type": "markdown",
      "metadata": {
        "id": "GUHNkv2zJzUi"
      },
      "source": [
        "Consider the following dictionary:\r\n",
        "\r\n",
        "`D={'a':0,'b':1,'c':2}`\r\n",
        "What is the output of the following `D['b']` :"
      ]
    },
    {
      "cell_type": "code",
      "metadata": {
        "id": "shA80HK-JtC-",
        "colab": {
          "base_uri": "https://localhost:8080/"
        },
        "outputId": "03284e9b-9386-4588-f72e-ccdae106ef22"
      },
      "source": [
        "D={'a':0,'b':1,'c':2}\r\n",
        "D['b']"
      ],
      "execution_count": 18,
      "outputs": [
        {
          "output_type": "execute_result",
          "data": {
            "text/plain": [
              "1"
            ]
          },
          "metadata": {
            "tags": []
          },
          "execution_count": 18
        }
      ]
    },
    {
      "cell_type": "markdown",
      "metadata": {
        "id": "JiCHwN9VMc_r"
      },
      "source": [
        "What is the syntax to obtain the first element of the tuple:\r\n",
        "\r\n",
        "`A=('a','b','c')`"
      ]
    },
    {
      "cell_type": "code",
      "metadata": {
        "id": "U3IqsbZSJ3Ym",
        "colab": {
          "base_uri": "https://localhost:8080/",
          "height": 0
        },
        "outputId": "7ab78ddf-5201-41a9-a105-76b7f032e24e"
      },
      "source": [
        "A=('a','b','c')\r\n",
        "A[0]"
      ],
      "execution_count": 19,
      "outputs": [
        {
          "output_type": "execute_result",
          "data": {
            "application/vnd.google.colaboratory.intrinsic+json": {
              "type": "string"
            },
            "text/plain": [
              "'a'"
            ]
          },
          "metadata": {
            "tags": []
          },
          "execution_count": 19
        }
      ]
    },
    {
      "cell_type": "markdown",
      "metadata": {
        "id": "anPRQxAVMndz"
      },
      "source": [
        "After applying the following method,`L.append(['a','b'])`, the following list will only be one element longer."
      ]
    },
    {
      "cell_type": "code",
      "metadata": {
        "id": "E7LXc-jtMgza",
        "colab": {
          "base_uri": "https://localhost:8080/"
        },
        "outputId": "4e668417-b2bf-46e7-b9ce-7b16a586f0b6"
      },
      "source": [
        "L=['0']\r\n",
        "L.append(['a','b'])\r\n",
        "len(L)\r\n",
        "#True"
      ],
      "execution_count": 20,
      "outputs": [
        {
          "output_type": "execute_result",
          "data": {
            "text/plain": [
              "2"
            ]
          },
          "metadata": {
            "tags": []
          },
          "execution_count": 20
        }
      ]
    },
    {
      "cell_type": "markdown",
      "metadata": {
        "id": "R2PEOB4MNKDu"
      },
      "source": [
        "How many duplicate elements can you have in a set?\r\n",
        "\r\n",
        ">0, you can only have one unique element in a set correct"
      ]
    },
    {
      "cell_type": "markdown",
      "metadata": {
        "id": "PkaYh-KhNQMh"
      },
      "source": [
        "Consider the following Python Dictionary:\r\n",
        "\r\n",
        "`Dict={\"A\":1,\"B\":\"2\",\"C\":[3,3,3],\"D\":(4,4,4),'E':5,'F':6}`\r\n",
        "\r\n",
        ", what is the result of the following operation: `Dict[\"D\"]`"
      ]
    },
    {
      "cell_type": "code",
      "metadata": {
        "id": "5A4eViT_MwLe",
        "colab": {
          "base_uri": "https://localhost:8080/"
        },
        "outputId": "11ae63e4-194a-44bf-b85e-3af3cc04e040"
      },
      "source": [
        "Dict={\"A\":1,\"B\":\"2\",\"C\":[3,3,3],\"D\":(4,4,4),'E':5,'F':6}\r\n",
        "Dict[\"D\"]"
      ],
      "execution_count": 21,
      "outputs": [
        {
          "output_type": "execute_result",
          "data": {
            "text/plain": [
              "(4, 4, 4)"
            ]
          },
          "metadata": {
            "tags": []
          },
          "execution_count": 21
        }
      ]
    },
    {
      "cell_type": "markdown",
      "metadata": {
        "id": "3pb9y_6XHn0d"
      },
      "source": [
        "#Module 3"
      ]
    },
    {
      "cell_type": "markdown",
      "metadata": {
        "id": "cU87fQjBIyhn"
      },
      "source": [
        "Find the values of i that produces a True for the following:\r\n",
        "\r\n",
        "`i!=0`"
      ]
    },
    {
      "cell_type": "code",
      "metadata": {
        "id": "71i-26IpNhT_",
        "outputId": "71f1d5a4-2215-4680-f3d5-034984d8abb8",
        "colab": {
          "base_uri": "https://localhost:8080/"
        }
      },
      "source": [
        "#any value not equal (!=) to zero will satisfy the condition\r\n",
        "i=-1\r\n",
        "i!=0"
      ],
      "execution_count": 22,
      "outputs": [
        {
          "output_type": "execute_result",
          "data": {
            "text/plain": [
              "True"
            ]
          },
          "metadata": {
            "tags": []
          },
          "execution_count": 22
        }
      ]
    },
    {
      "cell_type": "markdown",
      "metadata": {
        "id": "wWBxFyK-JQtJ"
      },
      "source": [
        "What is the output of the following:\r\n",
        "\r\n",
        "\r\n",
        "\r\n",
        "```\r\n",
        "x='a'\r\n",
        "\r\n",
        "if(x!='a'):\r\n",
        "\r\n",
        "  print(\"this is not a\")\r\n",
        "\r\n",
        "else:\r\n",
        "\r\n",
        "  print(\"this is a\")\r\n",
        "```\r\n",
        "\r\n"
      ]
    },
    {
      "cell_type": "code",
      "metadata": {
        "id": "-k6QaTGYJBfO",
        "outputId": "05d13c3d-af31-4911-d8ce-c7a64b153e8d",
        "colab": {
          "base_uri": "https://localhost:8080/"
        }
      },
      "source": [
        "x='a'\r\n",
        "\r\n",
        "if(x!='a'):\r\n",
        "\r\n",
        "  print(\"this is not a\")\r\n",
        "\r\n",
        "else:\r\n",
        "\r\n",
        "  print(\"this is a\")"
      ],
      "execution_count": 23,
      "outputs": [
        {
          "output_type": "stream",
          "text": [
            "this is a\n"
          ],
          "name": "stdout"
        }
      ]
    },
    {
      "cell_type": "markdown",
      "metadata": {
        "id": "hKgLU8mAKBEh"
      },
      "source": [
        "Write an if statement to determine if an album had a rating greater than 8. Test it using the rating for the album “Back in Black” that had a rating of 8.5. If the statement is true print \"This album is Amazing!\""
      ]
    },
    {
      "cell_type": "code",
      "metadata": {
        "id": "EXt2YlvRJYn-",
        "outputId": "87fb5f78-d0d5-459a-db42-d7cd911bbf14",
        "colab": {
          "base_uri": "https://localhost:8080/"
        }
      },
      "source": [
        "album_rating=8.5\r\n",
        "\r\n",
        "if album_rating>8:\r\n",
        "  print('This album is Amazing')"
      ],
      "execution_count": 24,
      "outputs": [
        {
          "output_type": "stream",
          "text": [
            "This album is Amazing\n"
          ],
          "name": "stdout"
        }
      ]
    },
    {
      "cell_type": "markdown",
      "metadata": {
        "id": "dWKkwJemKYs1"
      },
      "source": [
        "Write an if-else statement that performs the following. If the rating is larger then eight print “this album is amazing”. If the rating is less than or equal to 8 print “this album is ok”."
      ]
    },
    {
      "cell_type": "code",
      "metadata": {
        "id": "5td3sn9NKRF4",
        "outputId": "168c4a80-5c22-4382-c64f-b18830614e8a",
        "colab": {
          "base_uri": "https://localhost:8080/"
        }
      },
      "source": [
        "album_rating=8.5\r\n",
        "\r\n",
        "if album_rating>8:\r\n",
        "  print('This album is Amazing')\r\n",
        "else:\r\n",
        "  print('this album is ok')"
      ],
      "execution_count": 25,
      "outputs": [
        {
          "output_type": "stream",
          "text": [
            "This album is Amazing\n"
          ],
          "name": "stdout"
        }
      ]
    },
    {
      "cell_type": "markdown",
      "metadata": {
        "id": "AUeHJ323LQ8-"
      },
      "source": [
        "##Loops"
      ]
    },
    {
      "cell_type": "markdown",
      "metadata": {
        "id": "rUS7kjTbLktc"
      },
      "source": [
        "Use loops to print out the elements in the list A"
      ]
    },
    {
      "cell_type": "code",
      "metadata": {
        "id": "whmTvOEwKeyw",
        "outputId": "c3e4c680-a12c-47d9-ad10-9adc764671e6",
        "colab": {
          "base_uri": "https://localhost:8080/"
        }
      },
      "source": [
        "A=[1,2,3,4,5]\r\n",
        "for a in A:\r\n",
        "    print(a)"
      ],
      "execution_count": 26,
      "outputs": [
        {
          "output_type": "stream",
          "text": [
            "1\n",
            "2\n",
            "3\n",
            "4\n",
            "5\n"
          ],
          "name": "stdout"
        }
      ]
    },
    {
      "cell_type": "markdown",
      "metadata": {
        "id": "QVdZ49z0LrGB"
      },
      "source": [
        "Find the value of  x  that will print out the sequence  1,2,..,10 "
      ]
    },
    {
      "cell_type": "code",
      "metadata": {
        "id": "ijHIn5MFLorf",
        "outputId": "d35faefa-f37f-4dfb-bf4c-c723ed0fd7ba",
        "colab": {
          "base_uri": "https://localhost:8080/"
        }
      },
      "source": [
        "x=11\r\n",
        "y=1\r\n",
        "while(y< x):\r\n",
        "    print(y)\r\n",
        "    y=y+1"
      ],
      "execution_count": 27,
      "outputs": [
        {
          "output_type": "stream",
          "text": [
            "1\n",
            "2\n",
            "3\n",
            "4\n",
            "5\n",
            "6\n",
            "7\n",
            "8\n",
            "9\n",
            "10\n"
          ],
          "name": "stdout"
        }
      ]
    },
    {
      "cell_type": "markdown",
      "metadata": {
        "id": "KbidpG5OL0r7"
      },
      "source": [
        "what is the output of the following lines of code:\r\n",
        "\r\n",
        "\r\n",
        "\r\n",
        "```\r\n",
        "A=[3,4,5]\r\n",
        "\r\n",
        "for a in A:\r\n",
        "\r\n",
        "  print(a)\r\n",
        "```\r\n",
        "\r\n"
      ]
    },
    {
      "cell_type": "code",
      "metadata": {
        "id": "PgU2IA_GLwqR",
        "outputId": "d83cd6c4-ac0f-4d61-aa34-4a15e8512bfa",
        "colab": {
          "base_uri": "https://localhost:8080/"
        }
      },
      "source": [
        "A=[3,4,5]\r\n",
        "\r\n",
        "for a in A:\r\n",
        "\r\n",
        "  print(a)"
      ],
      "execution_count": 28,
      "outputs": [
        {
          "output_type": "stream",
          "text": [
            "3\n",
            "4\n",
            "5\n"
          ],
          "name": "stdout"
        }
      ]
    },
    {
      "cell_type": "markdown",
      "metadata": {
        "id": "nydS1BCAMBcr"
      },
      "source": [
        "what is the output of the following lines of code:\r\n",
        "\r\n",
        "\r\n",
        "\r\n",
        "```\r\n",
        "x=3\r\n",
        "\r\n",
        "y=1\r\n",
        "\r\n",
        "while(y!= x):\r\n",
        "\r\n",
        "  print(y)\r\n",
        "\r\n",
        "  y=y+1\r\n",
        "```\r\n",
        "\r\n"
      ]
    },
    {
      "cell_type": "code",
      "metadata": {
        "id": "JKZj5oGXL7oj",
        "outputId": "15403440-8724-4df1-ce31-55384c72319a",
        "colab": {
          "base_uri": "https://localhost:8080/"
        }
      },
      "source": [
        "x=3\r\n",
        "\r\n",
        "y=1\r\n",
        "\r\n",
        "while(y!= x):\r\n",
        "\r\n",
        "  print(y)\r\n",
        "\r\n",
        "  y=y+1"
      ],
      "execution_count": 29,
      "outputs": [
        {
          "output_type": "stream",
          "text": [
            "1\n",
            "2\n"
          ],
          "name": "stdout"
        }
      ]
    },
    {
      "cell_type": "markdown",
      "metadata": {
        "id": "myaFgmizMu3c"
      },
      "source": [
        "Write a for loop the prints out all the element between -5 and 5 using the range function."
      ]
    },
    {
      "cell_type": "code",
      "metadata": {
        "id": "M4qcSD4WMHnu",
        "outputId": "50943049-bc12-4850-9445-c250fc3f40f3",
        "colab": {
          "base_uri": "https://localhost:8080/"
        }
      },
      "source": [
        "for i in range(-5,6):\r\n",
        "  print(i)\r\n"
      ],
      "execution_count": 30,
      "outputs": [
        {
          "output_type": "stream",
          "text": [
            "-5\n",
            "-4\n",
            "-3\n",
            "-2\n",
            "-1\n",
            "0\n",
            "1\n",
            "2\n",
            "3\n",
            "4\n",
            "5\n"
          ],
          "name": "stdout"
        }
      ]
    },
    {
      "cell_type": "markdown",
      "metadata": {
        "id": "lymYJAbhM7uR"
      },
      "source": [
        "Print the elements of the following list: \r\n",
        "`Genres=[ 'rock', 'R&B', 'Soundtrack', 'R&B', 'soul', 'pop'] `\r\n",
        "\r\n",
        "Make sure you follow Python conventions."
      ]
    },
    {
      "cell_type": "code",
      "metadata": {
        "id": "-DiFv_1xM2vb",
        "outputId": "40edb2b9-43bc-4d98-8eda-b2f722795e21",
        "colab": {
          "base_uri": "https://localhost:8080/"
        }
      },
      "source": [
        "Genres=[ 'rock', 'R&B', 'Soundtrack', 'R&B', 'soul', 'pop'] \r\n",
        "for Genre in Genres:\r\n",
        "  print(Genre)"
      ],
      "execution_count": 31,
      "outputs": [
        {
          "output_type": "stream",
          "text": [
            "rock\n",
            "R&B\n",
            "Soundtrack\n",
            "R&B\n",
            "soul\n",
            "pop\n"
          ],
          "name": "stdout"
        }
      ]
    },
    {
      "cell_type": "markdown",
      "metadata": {
        "id": "gz8kQk02NSCM"
      },
      "source": [
        "Write a for loop that prints out the following list: `squares=['red', 'yellow', 'green', 'purple', 'blue']`"
      ]
    },
    {
      "cell_type": "code",
      "metadata": {
        "id": "aLcVT8PUNF7h",
        "outputId": "1e541330-efc3-4e8f-98cb-9c0621d78e80",
        "colab": {
          "base_uri": "https://localhost:8080/"
        }
      },
      "source": [
        "squares=['red', 'yellow', 'green', 'purple', 'blue']\r\n",
        "for square in squares:\r\n",
        "  print(square)"
      ],
      "execution_count": 32,
      "outputs": [
        {
          "output_type": "stream",
          "text": [
            "red\n",
            "yellow\n",
            "green\n",
            "purple\n",
            "blue\n"
          ],
          "name": "stdout"
        }
      ]
    },
    {
      "cell_type": "markdown",
      "metadata": {
        "id": "6UwdwMBINgYu"
      },
      "source": [
        "Write a while loop to display the values of the Rating of an album playlist stored in the list PlayListRatings. If the score is less than 6, exit the loop. The list PlayListRatings is given by: `PlayListRatings = [10, 9.5, 10, 8, 7.5, 5, 10, 10]`"
      ]
    },
    {
      "cell_type": "code",
      "metadata": {
        "id": "Qv6M7nzlNa4s",
        "outputId": "5509ed84-20a9-42ee-9774-ffdf51212b8b",
        "colab": {
          "base_uri": "https://localhost:8080/"
        }
      },
      "source": [
        "PlayListRatings = [10, 9.5, 10, 8, 7.5, 5, 10, 10]\r\n",
        "i = 1\r\n",
        "Rating = PlayListRatings[0]\r\n",
        "while(Rating >= 6):\r\n",
        "    print(Rating)\r\n",
        "    Rating = PlayListRatings[i]\r\n",
        "    i = i + 1"
      ],
      "execution_count": 33,
      "outputs": [
        {
          "output_type": "stream",
          "text": [
            "10\n",
            "9.5\n",
            "10\n",
            "8\n",
            "7.5\n"
          ],
          "name": "stdout"
        }
      ]
    },
    {
      "cell_type": "markdown",
      "metadata": {
        "id": "fo1SKrUON2Ft"
      },
      "source": [
        "Write a while loop to copy the strings 'orange' of the list squares to the list new_squares. Stop and exit the loop if the value on the list is not 'orange':"
      ]
    },
    {
      "cell_type": "code",
      "metadata": {
        "id": "s6oOEzPYNwXj",
        "outputId": "9a1bf027-513c-452d-9130-04e709464e65",
        "colab": {
          "base_uri": "https://localhost:8080/"
        }
      },
      "source": [
        "squares = ['orange', 'orange', 'purple', 'blue ', 'orange']\r\n",
        "new_squares = []\r\n",
        "i = 0\r\n",
        "while(squares[i] == 'orange'):\r\n",
        "    new_squares.append(squares[i])\r\n",
        "    i = i + 1\r\n",
        "print (new_squares)"
      ],
      "execution_count": 34,
      "outputs": [
        {
          "output_type": "stream",
          "text": [
            "['orange', 'orange']\n"
          ],
          "name": "stdout"
        }
      ]
    },
    {
      "cell_type": "markdown",
      "metadata": {
        "id": "6a2OoHMlONqW"
      },
      "source": [
        "##Functions"
      ]
    },
    {
      "cell_type": "markdown",
      "metadata": {
        "id": "-3HqDcEMPwLA"
      },
      "source": [
        "complete the function  f  so that it returns the product of  a  and  b  , you the next cell to test the function"
      ]
    },
    {
      "cell_type": "code",
      "metadata": {
        "id": "PV4VwzyaOHiU"
      },
      "source": [
        "def f(a,b):\r\n",
        "    \r\n",
        "    return a*b"
      ],
      "execution_count": 35,
      "outputs": []
    },
    {
      "cell_type": "markdown",
      "metadata": {
        "id": "wXKjnMtwPz3M"
      },
      "source": [
        "test the function using the next cell:"
      ]
    },
    {
      "cell_type": "code",
      "metadata": {
        "id": "JG3GxRJuPySQ",
        "outputId": "adc859d9-7392-4d06-8296-5a4412a776f3",
        "colab": {
          "base_uri": "https://localhost:8080/"
        }
      },
      "source": [
        "a=4\r\n",
        "b=2\r\n",
        "\r\n",
        "if a*b==f(a,b):   \r\n",
        "    print(\"correct\")   \r\n",
        "else:    \r\n",
        "    print(\"incorrect\")"
      ],
      "execution_count": 36,
      "outputs": [
        {
          "output_type": "stream",
          "text": [
            "correct\n"
          ],
          "name": "stdout"
        }
      ]
    },
    {
      "cell_type": "markdown",
      "metadata": {
        "id": "vqxZVKukP4C_"
      },
      "source": [
        "\r\n",
        "Complete the function  g  such that the input  c  is a list of integers and the output is the sum of all the elements in the list"
      ]
    },
    {
      "cell_type": "code",
      "metadata": {
        "id": "roxW8GgGP1_u"
      },
      "source": [
        "def g(c):\r\n",
        "\r\n",
        "    return sum(c)"
      ],
      "execution_count": 37,
      "outputs": []
    },
    {
      "cell_type": "markdown",
      "metadata": {
        "id": "1giOVmvaQBWK"
      },
      "source": [
        "\r\n",
        "test the function using the next cell:"
      ]
    },
    {
      "cell_type": "code",
      "metadata": {
        "id": "RzQrqGoAQB7W",
        "outputId": "36de49f1-7336-4e77-9aff-0fb0af0fb59d",
        "colab": {
          "base_uri": "https://localhost:8080/"
        }
      },
      "source": [
        "c=[1,2,3,4,5]\r\n",
        "\r\n",
        "if sum(c)==g(c):   \r\n",
        "    print(\"correct\")   \r\n",
        "else:    \r\n",
        "    print(\"incorrect\")"
      ],
      "execution_count": 38,
      "outputs": [
        {
          "output_type": "stream",
          "text": [
            "correct\n"
          ],
          "name": "stdout"
        }
      ]
    },
    {
      "cell_type": "markdown",
      "metadata": {
        "id": "qbpmXdK9QPKr"
      },
      "source": [
        "What is the value of c after the following block of code is run ?\r\n",
        "\r\n",
        "\r\n",
        "\r\n",
        "```\r\n",
        "a=1\r\n",
        "\r\n",
        "def add(b):\r\n",
        "\r\n",
        "  return a+b\r\n",
        "\r\n",
        "c=add(10)\r\n",
        "```\r\n",
        "\r\n"
      ]
    },
    {
      "cell_type": "code",
      "metadata": {
        "id": "TZE9EW8WQFGH",
        "outputId": "cc270ab7-253c-4db9-9051-c11c3d000518",
        "colab": {
          "base_uri": "https://localhost:8080/"
        }
      },
      "source": [
        "a=1\r\n",
        " \r\n",
        "def add(b):\r\n",
        " \r\n",
        "  return a+b\r\n",
        " \r\n",
        "c=add(10)\r\n",
        "c"
      ],
      "execution_count": 39,
      "outputs": [
        {
          "output_type": "execute_result",
          "data": {
            "text/plain": [
              "11"
            ]
          },
          "metadata": {
            "tags": []
          },
          "execution_count": 39
        }
      ]
    },
    {
      "cell_type": "markdown",
      "metadata": {
        "id": "EtMSRXlCQgXt"
      },
      "source": [
        "What is the value of c after the following block of code is run ?\r\n",
        "\r\n",
        "\r\n",
        "\r\n",
        "```\r\n",
        "def f(*x):\r\n",
        "\r\n",
        "  return sum(c)\r\n",
        "```\r\n",
        "\r\n"
      ]
    },
    {
      "cell_type": "code",
      "metadata": {
        "id": "WswqxU95QWbQ"
      },
      "source": [
        "def f(*x):\r\n",
        "\r\n",
        "  return sum(c) #c not defined"
      ],
      "execution_count": 40,
      "outputs": []
    },
    {
      "cell_type": "markdown",
      "metadata": {
        "id": "yjqmfKysS_xy"
      },
      "source": [
        "Come up with a function that divides the first input by the second input:"
      ]
    },
    {
      "cell_type": "code",
      "metadata": {
        "id": "QhaR2bkFQl4K"
      },
      "source": [
        "def divide(a,b):\r\n",
        "  return a/b"
      ],
      "execution_count": 41,
      "outputs": []
    },
    {
      "cell_type": "code",
      "metadata": {
        "id": "25jG9W-eTFOp",
        "outputId": "f894e302-0694-45b4-8992-af4a42fe646d",
        "colab": {
          "base_uri": "https://localhost:8080/"
        }
      },
      "source": [
        "divide(6,2)"
      ],
      "execution_count": 42,
      "outputs": [
        {
          "output_type": "execute_result",
          "data": {
            "text/plain": [
              "3.0"
            ]
          },
          "metadata": {
            "tags": []
          },
          "execution_count": 42
        }
      ]
    },
    {
      "cell_type": "markdown",
      "metadata": {
        "id": "It7Vx8YLTPPb"
      },
      "source": [
        "Use the function con for the following question."
      ]
    },
    {
      "cell_type": "code",
      "metadata": {
        "id": "u4uh60S-TIGu"
      },
      "source": [
        "def con(a, b):\r\n",
        "    return(a + b)"
      ],
      "execution_count": 43,
      "outputs": []
    },
    {
      "cell_type": "markdown",
      "metadata": {
        "id": "sOnYzG-1TT-7"
      },
      "source": [
        "Can the con function we defined before be used to add to integers or strings?"
      ]
    },
    {
      "cell_type": "code",
      "metadata": {
        "id": "b6jFzgTDTRuW",
        "outputId": "b73a0b27-bf1c-45c2-b453-edcf94ef8f25",
        "colab": {
          "base_uri": "https://localhost:8080/"
        }
      },
      "source": [
        "con(2,1)"
      ],
      "execution_count": 44,
      "outputs": [
        {
          "output_type": "execute_result",
          "data": {
            "text/plain": [
              "3"
            ]
          },
          "metadata": {
            "tags": []
          },
          "execution_count": 44
        }
      ]
    },
    {
      "cell_type": "code",
      "metadata": {
        "id": "X0xnzE-6TeTB",
        "outputId": "1de2542a-1c74-4301-83c3-c048fe14f1ac",
        "colab": {
          "base_uri": "https://localhost:8080/",
          "height": 35
        }
      },
      "source": [
        "con('abra ','kadabra')"
      ],
      "execution_count": 45,
      "outputs": [
        {
          "output_type": "execute_result",
          "data": {
            "application/vnd.google.colaboratory.intrinsic+json": {
              "type": "string"
            },
            "text/plain": [
              "'abra kadabra'"
            ]
          },
          "metadata": {
            "tags": []
          },
          "execution_count": 45
        }
      ]
    },
    {
      "cell_type": "markdown",
      "metadata": {
        "id": "Kn9KyWEDTsBL"
      },
      "source": [
        "Can the con function we defined before be used to concentrate a list or tuple?"
      ]
    },
    {
      "cell_type": "code",
      "metadata": {
        "id": "3L1xCOZiTi-o",
        "outputId": "8fa73ed5-25ec-446b-b972-50dc7237fec3",
        "colab": {
          "base_uri": "https://localhost:8080/"
        }
      },
      "source": [
        "con(['a', 1], ['b', 1])"
      ],
      "execution_count": 46,
      "outputs": [
        {
          "output_type": "execute_result",
          "data": {
            "text/plain": [
              "['a', 1, 'b', 1]"
            ]
          },
          "metadata": {
            "tags": []
          },
          "execution_count": 46
        }
      ]
    },
    {
      "cell_type": "code",
      "metadata": {
        "id": "ijA0vv_FTupC",
        "outputId": "061d83f0-4e86-40e7-b9f2-8376b8614745",
        "colab": {
          "base_uri": "https://localhost:8080/"
        }
      },
      "source": [
        "con(('a', 1), ('b', 1))"
      ],
      "execution_count": 47,
      "outputs": [
        {
          "output_type": "execute_result",
          "data": {
            "text/plain": [
              "('a', 1, 'b', 1)"
            ]
          },
          "metadata": {
            "tags": []
          },
          "execution_count": 47
        }
      ]
    },
    {
      "cell_type": "markdown",
      "metadata": {
        "id": "m-1iUPLB9jGi"
      },
      "source": [
        "##Object and Classes"
      ]
    },
    {
      "cell_type": "code",
      "metadata": {
        "id": "ntsqTHPBTx_I"
      },
      "source": [
        "class Car(object):\r\n",
        "    def __init__(self,make,model,color):\r\n",
        "        self.make=make;\r\n",
        "        self.model=model;\r\n",
        "        self.color=color;\r\n",
        "        self.owner_number=0 \r\n",
        "    def car_info(self):\r\n",
        "        print(\"make: \",self.make)\r\n",
        "        print(\"model:\", self.model)\r\n",
        "        print(\"color:\",self.color)\r\n",
        "        print(\"number of owners:\",self.owner_number)\r\n",
        "    def sell(self):\r\n",
        "        self.owner_number=self.owner_number+1"
      ],
      "execution_count": 48,
      "outputs": []
    },
    {
      "cell_type": "markdown",
      "metadata": {
        "id": "cpS1kufs-F5-"
      },
      "source": [
        "Create a  Car  object my_car with the given data attributes:\r\n",
        "\r\n",
        "\r\n",
        "\r\n",
        "```\r\n",
        "make=\"BMW\"\r\n",
        "model=\"M3\"\r\n",
        "color=\"red\"\r\n",
        "```\r\n",
        "\r\n"
      ]
    },
    {
      "cell_type": "code",
      "metadata": {
        "id": "ueRBMEAd96Jt",
        "outputId": "fabf4c9b-9e60-4538-ce84-f4d59a7ca0c4",
        "colab": {
          "base_uri": "https://localhost:8080/"
        }
      },
      "source": [
        "car=Car(make='bmw',model='M3',color='Red')\r\n",
        "car.car_info()"
      ],
      "execution_count": 55,
      "outputs": [
        {
          "output_type": "stream",
          "text": [
            "make:  bmw\n",
            "model: M3\n",
            "color: Red\n",
            "number of owners: 0\n"
          ],
          "name": "stdout"
        }
      ]
    },
    {
      "cell_type": "code",
      "metadata": {
        "id": "W1w8zh2u-aoK",
        "outputId": "b484a316-3dde-40a2-ded7-2327577018a4",
        "colab": {
          "base_uri": "https://localhost:8080/"
        }
      },
      "source": [
        "car=Car('bmw','M3','Red')\r\n",
        "car.car_info()"
      ],
      "execution_count": 59,
      "outputs": [
        {
          "output_type": "stream",
          "text": [
            "make:  bmw\n",
            "model: M3\n",
            "color: Red\n",
            "number of owners: 0\n"
          ],
          "name": "stdout"
        }
      ]
    },
    {
      "cell_type": "markdown",
      "metadata": {
        "id": "0BYxXR8j_g-B"
      },
      "source": [
        "Call the method  sell()  in the loop, then call the method  car_info() again"
      ]
    },
    {
      "cell_type": "code",
      "metadata": {
        "id": "1swyFWMD-3Qz",
        "outputId": "959fe4b6-1229-4d2c-b459-8b18b5f226f9",
        "colab": {
          "base_uri": "https://localhost:8080/"
        }
      },
      "source": [
        "for i in range(5):\r\n",
        "    car.sell()\r\n",
        "car.car_info()"
      ],
      "execution_count": 60,
      "outputs": [
        {
          "output_type": "stream",
          "text": [
            "make:  bmw\n",
            "model: M3\n",
            "color: Red\n",
            "number of owners: 5\n"
          ],
          "name": "stdout"
        }
      ]
    },
    {
      "cell_type": "code",
      "metadata": {
        "id": "lkU1OWfD_Mbb"
      },
      "source": [
        "import matplotlib.pyplot as plt\r\n",
        "%matplotlib inline  "
      ],
      "execution_count": 61,
      "outputs": []
    },
    {
      "cell_type": "code",
      "metadata": {
        "id": "Kc-MBOSqCNHJ"
      },
      "source": [
        "# Create a class Circle\r\n",
        "\r\n",
        "class Circle(object):\r\n",
        "    \r\n",
        "    # Constructor\r\n",
        "    def __init__(self, radius=3, color='blue'):\r\n",
        "        self.radius = radius\r\n",
        "        self.color = color \r\n",
        "    \r\n",
        "    # Method\r\n",
        "    def add_radius(self, r):\r\n",
        "        self.radius = self.radius + r\r\n",
        "        return(self.radius)\r\n",
        "    \r\n",
        "    # Method\r\n",
        "    def drawCircle(self):\r\n",
        "        plt.gca().add_patch(plt.Circle((0, 0), radius=self.radius, fc=self.color))\r\n",
        "        plt.axis('scaled')\r\n",
        "        plt.show() "
      ],
      "execution_count": 62,
      "outputs": []
    },
    {
      "cell_type": "code",
      "metadata": {
        "id": "6FrPHQrsCOc0"
      },
      "source": [
        "# Create an object RedCircle\r\n",
        "\r\n",
        "RedCircle = Circle(10, 'red')"
      ],
      "execution_count": 71,
      "outputs": []
    },
    {
      "cell_type": "code",
      "metadata": {
        "id": "yi2vLeagC19b",
        "outputId": "eebaeca5-de11-4ff6-bf42-e3d92d821378",
        "colab": {
          "base_uri": "https://localhost:8080/"
        }
      },
      "source": [
        "# Find out the methods can be used on the object RedCircle\r\n",
        "\r\n",
        "dir(RedCircle)"
      ],
      "execution_count": 74,
      "outputs": [
        {
          "output_type": "execute_result",
          "data": {
            "text/plain": [
              "['__class__',\n",
              " '__delattr__',\n",
              " '__dict__',\n",
              " '__dir__',\n",
              " '__doc__',\n",
              " '__eq__',\n",
              " '__format__',\n",
              " '__ge__',\n",
              " '__getattribute__',\n",
              " '__gt__',\n",
              " '__hash__',\n",
              " '__init__',\n",
              " '__init_subclass__',\n",
              " '__le__',\n",
              " '__lt__',\n",
              " '__module__',\n",
              " '__ne__',\n",
              " '__new__',\n",
              " '__reduce__',\n",
              " '__reduce_ex__',\n",
              " '__repr__',\n",
              " '__setattr__',\n",
              " '__sizeof__',\n",
              " '__str__',\n",
              " '__subclasshook__',\n",
              " '__weakref__',\n",
              " 'add_radius',\n",
              " 'color',\n",
              " 'drawCircle',\n",
              " 'radius']"
            ]
          },
          "metadata": {
            "tags": []
          },
          "execution_count": 74
        }
      ]
    },
    {
      "cell_type": "code",
      "metadata": {
        "id": "XHlL4XbyCR86",
        "outputId": "75bad2cc-f707-46ae-b8d2-6afe371255d2",
        "colab": {
          "base_uri": "https://localhost:8080/"
        }
      },
      "source": [
        "RedCircle.add_radius(-8)"
      ],
      "execution_count": 72,
      "outputs": [
        {
          "output_type": "execute_result",
          "data": {
            "text/plain": [
              "2"
            ]
          },
          "metadata": {
            "tags": []
          },
          "execution_count": 72
        }
      ]
    },
    {
      "cell_type": "code",
      "metadata": {
        "id": "Cdx17PIPCaS-",
        "outputId": "ebab0759-d3e7-4f94-e5f4-0b89316ecaf0",
        "colab": {
          "base_uri": "https://localhost:8080/",
          "height": 265
        }
      },
      "source": [
        "RedCircle.drawCircle()"
      ],
      "execution_count": 73,
      "outputs": [
        {
          "output_type": "display_data",
          "data": {
            "image/png": "[encoded data removed]",
            "text/plain": [
              "<Figure size 432x288 with 1 Axes>"
            ]
          },
          "metadata": {
            "tags": [],
            "needs_background": "light"
          }
        }
      ]
    },
    {
      "cell_type": "code",
      "metadata": {
        "id": "YOjIULevCp4q"
      },
      "source": [
        "# Create a new Rectangle class for creating a rectangle object\r\n",
        "\r\n",
        "class Rectangle(object):\r\n",
        "    \r\n",
        "    # Constructor\r\n",
        "    def __init__(self, width=2, height=3, color='r'):\r\n",
        "        self.height = height \r\n",
        "        self.width = width\r\n",
        "        self.color = color\r\n",
        "    \r\n",
        "    # Method\r\n",
        "    def drawRectangle(self):\r\n",
        "        plt.gca().add_patch(plt.Rectangle((0, 0), self.width, self.height ,fc=self.color))\r\n",
        "        plt.axis('scaled')\r\n",
        "        plt.show()"
      ],
      "execution_count": 75,
      "outputs": []
    },
    {
      "cell_type": "code",
      "metadata": {
        "id": "fmVcHgmuDOR0"
      },
      "source": [
        "# Create a new object rectangle\r\n",
        "\r\n",
        "SkinnyBlueRectangle = Rectangle(2, 10, 'blue')"
      ],
      "execution_count": 76,
      "outputs": []
    },
    {
      "cell_type": "code",
      "metadata": {
        "id": "AdztpIgeDTsE",
        "outputId": "c4a89075-8114-480a-cd05-cb37dc37cfe5",
        "colab": {
          "base_uri": "https://localhost:8080/"
        }
      },
      "source": [
        "# Print the object attribute height\r\n",
        "\r\n",
        "SkinnyBlueRectangle.height "
      ],
      "execution_count": 77,
      "outputs": [
        {
          "output_type": "execute_result",
          "data": {
            "text/plain": [
              "10"
            ]
          },
          "metadata": {
            "tags": []
          },
          "execution_count": 77
        }
      ]
    },
    {
      "cell_type": "code",
      "metadata": {
        "id": "oVkbGVDcDWGk",
        "outputId": "56659b77-2849-410d-86b2-ad4f575ae987",
        "colab": {
          "base_uri": "https://localhost:8080/"
        }
      },
      "source": [
        "# Print the object attribute width\r\n",
        "\r\n",
        "SkinnyBlueRectangle.width"
      ],
      "execution_count": 78,
      "outputs": [
        {
          "output_type": "execute_result",
          "data": {
            "text/plain": [
              "2"
            ]
          },
          "metadata": {
            "tags": []
          },
          "execution_count": 78
        }
      ]
    },
    {
      "cell_type": "code",
      "metadata": {
        "id": "8rbrrW3MDX_Q",
        "outputId": "63f26374-e38e-4adc-8fe8-aa49fb8c00ab",
        "colab": {
          "base_uri": "https://localhost:8080/",
          "height": 265
        }
      },
      "source": [
        "SkinnyBlueRectangle.drawRectangle()"
      ],
      "execution_count": 79,
      "outputs": [
        {
          "output_type": "display_data",
          "data": {
            "image/png": "[encoded data removed]",
            "text/plain": [
              "<Figure size 432x288 with 1 Axes>"
            ]
          },
          "metadata": {
            "tags": [],
            "needs_background": "light"
          }
        }
      ]
    },
    {
      "cell_type": "code",
      "metadata": {
        "id": "FGT4yYkSDd5_"
      },
      "source": [
        "# Create a new object rectangle\r\n",
        "\r\n",
        "FatYellowRectangle = Rectangle(20, 5, 'yellow')"
      ],
      "execution_count": 80,
      "outputs": []
    },
    {
      "cell_type": "code",
      "metadata": {
        "id": "YzVIpMqODhte",
        "outputId": "531f2fc8-54e1-4e1e-9315-fd54357671b0",
        "colab": {
          "base_uri": "https://localhost:8080/"
        }
      },
      "source": [
        "# Print the object attribute height\r\n",
        "\r\n",
        "FatYellowRectangle.height "
      ],
      "execution_count": 81,
      "outputs": [
        {
          "output_type": "execute_result",
          "data": {
            "text/plain": [
              "5"
            ]
          },
          "metadata": {
            "tags": []
          },
          "execution_count": 81
        }
      ]
    },
    {
      "cell_type": "code",
      "metadata": {
        "id": "n67tWxSeDkN4",
        "outputId": "8b54d4c0-2bc4-46f5-b28b-6ecaa3705208",
        "colab": {
          "base_uri": "https://localhost:8080/"
        }
      },
      "source": [
        "# Print the object attribute width\r\n",
        "\r\n",
        "FatYellowRectangle.width"
      ],
      "execution_count": 82,
      "outputs": [
        {
          "output_type": "execute_result",
          "data": {
            "text/plain": [
              "20"
            ]
          },
          "metadata": {
            "tags": []
          },
          "execution_count": 82
        }
      ]
    },
    {
      "cell_type": "code",
      "metadata": {
        "id": "BsD7JlQyDnfh",
        "outputId": "62d0d668-adc1-4040-8e96-2a7d6302bf9f",
        "colab": {
          "base_uri": "https://localhost:8080/",
          "height": 35
        }
      },
      "source": [
        "# Print the object attribute color\r\n",
        "\r\n",
        "FatYellowRectangle.color"
      ],
      "execution_count": 83,
      "outputs": [
        {
          "output_type": "execute_result",
          "data": {
            "application/vnd.google.colaboratory.intrinsic+json": {
              "type": "string"
            },
            "text/plain": [
              "'yellow'"
            ]
          },
          "metadata": {
            "tags": []
          },
          "execution_count": 83
        }
      ]
    },
    {
      "cell_type": "code",
      "metadata": {
        "id": "B5-29jbBDptx",
        "outputId": "86c7a168-17e2-4115-cb48-f517fe093cec",
        "colab": {
          "base_uri": "https://localhost:8080/",
          "height": 132
        }
      },
      "source": [
        "# Use the drawRectangle method to draw the shape\r\n",
        "\r\n",
        "FatYellowRectangle.drawRectangle()"
      ],
      "execution_count": 84,
      "outputs": [
        {
          "output_type": "display_data",
          "data": {
            "image/png": "[encoded data removed]",
            "text/plain": [
              "<Figure size 432x288 with 1 Axes>"
            ]
          },
          "metadata": {
            "tags": [],
            "needs_background": "light"
          }
        }
      ]
    },
    {
      "cell_type": "markdown",
      "metadata": {
        "id": "Rpl18e_QKkIB"
      },
      "source": [
        "What is the output of the following lines of code:"
      ]
    },
    {
      "cell_type": "code",
      "metadata": {
        "id": "N5MtDnCIDsyT",
        "outputId": "87c262fd-41bb-4815-f024-e8dae8665847",
        "colab": {
          "base_uri": "https://localhost:8080/"
        }
      },
      "source": [
        "x=1\r\n",
        "\r\n",
        "if(x!=1):\r\n",
        "\r\n",
        "  print('Hello')\r\n",
        "\r\n",
        "else:\r\n",
        "\r\n",
        "  print('Hi')\r\n",
        "\r\n",
        "print('Mike')"
      ],
      "execution_count": 85,
      "outputs": [
        {
          "output_type": "stream",
          "text": [
            "Hi\n",
            "Mike\n"
          ],
          "name": "stdout"
        }
      ]
    },
    {
      "cell_type": "markdown",
      "metadata": {
        "id": "CDcsENv7KvL6"
      },
      "source": [
        "What is the output of the following few lines of code ?"
      ]
    },
    {
      "cell_type": "code",
      "metadata": {
        "id": "UKEOwj2_Kn93",
        "outputId": "4ec1461c-9094-4526-f81a-f1ed37ee8a8f",
        "colab": {
          "base_uri": "https://localhost:8080/"
        }
      },
      "source": [
        "A=['1','2','3']\r\n",
        "\r\n",
        "for a in A:\r\n",
        "\r\n",
        "  print(2*a)"
      ],
      "execution_count": 86,
      "outputs": [
        {
          "output_type": "stream",
          "text": [
            "11\n",
            "22\n",
            "33\n"
          ],
          "name": "stdout"
        }
      ]
    },
    {
      "cell_type": "markdown",
      "metadata": {
        "id": "E_sG2RcIK3CV"
      },
      "source": [
        "Consider the function Delta, when will the function return a value of 1"
      ]
    },
    {
      "cell_type": "code",
      "metadata": {
        "id": "xe0Q_J27KyrJ"
      },
      "source": [
        "def Delta(x):\r\n",
        "\r\n",
        "  if x==0:\r\n",
        "\r\n",
        "    y=1;\r\n",
        "\r\n",
        "  else:\r\n",
        "\r\n",
        "    y=0;\r\n",
        "\r\n",
        "  return(y)"
      ],
      "execution_count": 87,
      "outputs": []
    },
    {
      "cell_type": "code",
      "metadata": {
        "id": "CBTR6lPjK7iD",
        "outputId": "7bac6cdb-bde5-4fcf-8389-211770bc851d",
        "colab": {
          "base_uri": "https://localhost:8080/"
        }
      },
      "source": [
        "Delta(0)"
      ],
      "execution_count": 89,
      "outputs": [
        {
          "output_type": "execute_result",
          "data": {
            "text/plain": [
              "1"
            ]
          },
          "metadata": {
            "tags": []
          },
          "execution_count": 89
        }
      ]
    },
    {
      "cell_type": "markdown",
      "metadata": {
        "id": "Hv6W72RlLPEN"
      },
      "source": [
        "What is the correct way to sort the list 'B' using a method, the result should not return a new list, just change the list 'B'."
      ]
    },
    {
      "cell_type": "code",
      "metadata": {
        "id": "W8ieid_iK_Fg",
        "outputId": "f577aa9a-ee85-4b36-8594-bab66d79c641",
        "colab": {
          "base_uri": "https://localhost:8080/"
        }
      },
      "source": [
        "B=[1,3,4,0,-2]\r\n",
        "B"
      ],
      "execution_count": 90,
      "outputs": [
        {
          "output_type": "execute_result",
          "data": {
            "text/plain": [
              "[1, 3, 4, 0, -2]"
            ]
          },
          "metadata": {
            "tags": []
          },
          "execution_count": 90
        }
      ]
    },
    {
      "cell_type": "code",
      "metadata": {
        "id": "h6mMuljBLT2u",
        "outputId": "ebaf352b-2199-4277-8e66-2fd16d7b456b",
        "colab": {
          "base_uri": "https://localhost:8080/"
        }
      },
      "source": [
        "#creates a new list sorted\r\n",
        "sorted(B)"
      ],
      "execution_count": 94,
      "outputs": [
        {
          "output_type": "execute_result",
          "data": {
            "text/plain": [
              "[-2, 0, 1, 3, 4]"
            ]
          },
          "metadata": {
            "tags": []
          },
          "execution_count": 94
        }
      ]
    },
    {
      "cell_type": "code",
      "metadata": {
        "id": "txi_ke4DLV_X"
      },
      "source": [
        "#sorts the list without creating a new one\r\n",
        "B.sort()"
      ],
      "execution_count": 96,
      "outputs": []
    },
    {
      "cell_type": "code",
      "metadata": {
        "id": "bhj9aLyELiVx",
        "outputId": "d8d15419-5ee2-4706-e7b7-cb6bc04019db",
        "colab": {
          "base_uri": "https://localhost:8080/"
        }
      },
      "source": [
        "B"
      ],
      "execution_count": 97,
      "outputs": [
        {
          "output_type": "execute_result",
          "data": {
            "text/plain": [
              "[-2, 0, 1, 3, 4]"
            ]
          },
          "metadata": {
            "tags": []
          },
          "execution_count": 97
        }
      ]
    },
    {
      "cell_type": "markdown",
      "metadata": {
        "id": "9CwZ-fgKNHA7"
      },
      "source": [
        "what are the keys of the of the following {'a':1,'b':2}"
      ]
    },
    {
      "cell_type": "code",
      "metadata": {
        "id": "grpxPXBJM3D2",
        "outputId": "44c4b25e-2eee-4764-ef5e-e952aef3e2c9",
        "colab": {
          "base_uri": "https://localhost:8080/"
        }
      },
      "source": [
        "dic={'a':1,'b':2}\r\n",
        "dic.keys()"
      ],
      "execution_count": 99,
      "outputs": [
        {
          "output_type": "execute_result",
          "data": {
            "text/plain": [
              "dict_keys(['a', 'b'])"
            ]
          },
          "metadata": {
            "tags": []
          },
          "execution_count": 99
        }
      ]
    },
    {
      "cell_type": "markdown",
      "metadata": {
        "id": "Z8UcoVwpNYpl"
      },
      "source": [
        "#Module 4"
      ]
    },
    {
      "cell_type": "code",
      "metadata": {
        "id": "MXr5qDLwNKfO"
      },
      "source": [
        ""
      ],
      "execution_count": null,
      "outputs": []
    }
  ]
}