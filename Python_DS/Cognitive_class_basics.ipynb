{
  "nbformat": 4,
  "nbformat_minor": 0,
  "metadata": {
    "colab": {
      "name": "Cognitive_class_basics.ipynb",
      "provenance": [],
      "authorship_tag": "ABX9TyML6eHUrRW2tt5PLwTX7uZa",
      "include_colab_link": true
    },
    "kernelspec": {
      "name": "python3",
      "display_name": "Python 3"
    }
  },
  "cells": [
    {
      "cell_type": "markdown",
      "metadata": {
        "id": "view-in-github",
        "colab_type": "text"
      },
      "source": [
        "<a href=\"https://colab.research.google.com/github/rubensgamaliel/CognitiveClass/blob/main/Python_DS/Cognitive_class_basics.ipynb\" target=\"_parent\"><img src=\"https://colab.research.google.com/assets/colab-badge.svg\" alt=\"Open In Colab\"/></a>"
      ]
    },
    {
      "cell_type": "markdown",
      "metadata": {
        "id": "0wO9XNnHJd6c"
      },
      "source": [
        "#Material from the **Python for data science** class from **IBM** by [cognitive class](https://courses.cognitiveclass.ai/courses/course-v1:Cognitiveclass+PY0101EN+v2/course/)"
      ]
    },
    {
      "cell_type": "markdown",
      "metadata": {
        "id": "a0xLw5mD3uG8"
      },
      "source": [
        "##Module 1"
      ]
    },
    {
      "cell_type": "markdown",
      "metadata": {
        "id": "cbREu3_r3hqW"
      },
      "source": [
        "Using the Practice Lab find the result of executing `print(\"Hello\\nWorld!\")` statement"
      ]
    },
    {
      "cell_type": "code",
      "metadata": {
        "id": "fFqH2W853irN",
        "outputId": "7e38c284-5e21-4d80-c609-e91e071aa565",
        "colab": {
          "base_uri": "https://localhost:8080/"
        }
      },
      "source": [
        "print(\"Hello\\nWorld!\") "
      ],
      "execution_count": 18,
      "outputs": [
        {
          "output_type": "stream",
          "text": [
            "Hello\n",
            "World!\n"
          ],
          "name": "stdout"
        }
      ]
    },
    {
      "cell_type": "markdown",
      "metadata": {
        "id": "F3yELEvu3oQP"
      },
      "source": [
        "what is the output of executing the following statement: `# print('Hello World!')`"
      ]
    },
    {
      "cell_type": "code",
      "metadata": {
        "id": "d6dvYnoB3pEc"
      },
      "source": [
        "# print('Hello World!')"
      ],
      "execution_count": 19,
      "outputs": []
    },
    {
      "cell_type": "markdown",
      "metadata": {
        "id": "jJqVEOTG37Sq"
      },
      "source": [
        "What is the type of the following `int(1.0)`?"
      ]
    },
    {
      "cell_type": "code",
      "metadata": {
        "id": "-IXM1wzp39Ec",
        "outputId": "be03283f-cad9-42fb-b646-6cbfdab5741d",
        "colab": {
          "base_uri": "https://localhost:8080/"
        }
      },
      "source": [
        "type(int(1.0))"
      ],
      "execution_count": 20,
      "outputs": [
        {
          "output_type": "execute_result",
          "data": {
            "text/plain": [
              "int"
            ]
          },
          "metadata": {
            "tags": []
          },
          "execution_count": 20
        }
      ]
    },
    {
      "cell_type": "markdown",
      "metadata": {
        "id": "XQsYXfn64CbL"
      },
      "source": [
        "Enter the code to convert the number 1 to a Boolean ?"
      ]
    },
    {
      "cell_type": "code",
      "metadata": {
        "id": "IIH9UCyj4EGd",
        "outputId": "54cade4a-4bca-4f2f-98aa-899de6c9cf5b",
        "colab": {
          "base_uri": "https://localhost:8080/"
        }
      },
      "source": [
        "bool(1)"
      ],
      "execution_count": 21,
      "outputs": [
        {
          "output_type": "execute_result",
          "data": {
            "text/plain": [
              "True"
            ]
          },
          "metadata": {
            "tags": []
          },
          "execution_count": 21
        }
      ]
    },
    {
      "cell_type": "markdown",
      "metadata": {
        "id": "Zdt406oK3yNu"
      },
      "source": [
        "##Module 2"
      ]
    },
    {
      "cell_type": "markdown",
      "metadata": {
        "id": "-i-wCzaEa5oC"
      },
      "source": [
        "Consider the following string:\r\n",
        "\r\n",
        "`Numbers=\"0123456\"`\r\n",
        "\r\n",
        "how would you obtain the even elements ?"
      ]
    },
    {
      "cell_type": "code",
      "metadata": {
        "id": "rttTen36JUlZ",
        "colab": {
          "base_uri": "https://localhost:8080/",
          "height": 35
        },
        "outputId": "a515f157-22e3-4c96-a1bd-8e798dd2f738"
      },
      "source": [
        "Numbers=\"0123456\"\r\n",
        "Numbers[::2]"
      ],
      "execution_count": 4,
      "outputs": [
        {
          "output_type": "execute_result",
          "data": {
            "application/vnd.google.colaboratory.intrinsic+json": {
              "type": "string"
            },
            "text/plain": [
              "'0246'"
            ]
          },
          "metadata": {
            "tags": []
          },
          "execution_count": 4
        }
      ]
    },
    {
      "cell_type": "markdown",
      "metadata": {
        "id": "6XqVspbLbYpI"
      },
      "source": [
        "What is the result of the following line of code:\r\n",
        "\r\n",
        "`\"0123456\".find('1')`"
      ]
    },
    {
      "cell_type": "code",
      "metadata": {
        "colab": {
          "base_uri": "https://localhost:8080/"
        },
        "id": "_RFi-gaWbEvX",
        "outputId": "a00c04b7-ef6b-4be9-ed33-4181af595e35"
      },
      "source": [
        "\"0123456\".find('1')"
      ],
      "execution_count": 5,
      "outputs": [
        {
          "output_type": "execute_result",
          "data": {
            "text/plain": [
              "1"
            ]
          },
          "metadata": {
            "tags": []
          },
          "execution_count": 5
        }
      ]
    },
    {
      "cell_type": "code",
      "metadata": {
        "colab": {
          "base_uri": "https://localhost:8080/"
        },
        "id": "w_Kf7cmxbaeD",
        "outputId": "455e5d1a-482a-46b8-a531-1485869697e9"
      },
      "source": [
        "type(\"0123456\".find('1'))"
      ],
      "execution_count": 6,
      "outputs": [
        {
          "output_type": "execute_result",
          "data": {
            "text/plain": [
              "int"
            ]
          },
          "metadata": {
            "tags": []
          },
          "execution_count": 6
        }
      ]
    },
    {
      "cell_type": "markdown",
      "metadata": {
        "id": "z4ewUN8wdfGz"
      },
      "source": [
        "What is the result of the following operation in Python:\r\n",
        "\r\n",
        "`3 + 2 * 2`"
      ]
    },
    {
      "cell_type": "code",
      "metadata": {
        "colab": {
          "base_uri": "https://localhost:8080/"
        },
        "id": "fidV5KWtbfEr",
        "outputId": "c134bd24-bbc4-4e46-df16-2aa6b47876b0"
      },
      "source": [
        "3 + 2 * 2"
      ],
      "execution_count": 7,
      "outputs": [
        {
          "output_type": "execute_result",
          "data": {
            "text/plain": [
              "7"
            ]
          },
          "metadata": {
            "tags": []
          },
          "execution_count": 7
        }
      ]
    },
    {
      "cell_type": "markdown",
      "metadata": {
        "id": "fPD75JH-dlx4"
      },
      "source": [
        "In Python, if you executed `name = 'Lizz'`, what would be the output of `print(name[0:2])`?"
      ]
    },
    {
      "cell_type": "code",
      "metadata": {
        "colab": {
          "base_uri": "https://localhost:8080/"
        },
        "id": "DmJ8KUM4dht_",
        "outputId": "2e32836d-cf45-4b6a-cf4a-a0c1cfa88204"
      },
      "source": [
        "name = 'Lizz'\r\n",
        "print(name[0:2])"
      ],
      "execution_count": 8,
      "outputs": [
        {
          "output_type": "stream",
          "text": [
            "Li\n"
          ],
          "name": "stdout"
        }
      ]
    },
    {
      "cell_type": "markdown",
      "metadata": {
        "id": "xxKqRkfaduQe"
      },
      "source": [
        "In Python, if you executed `var = '01234567'`, what would be the result of `print(var[::2])`?"
      ]
    },
    {
      "cell_type": "code",
      "metadata": {
        "colab": {
          "base_uri": "https://localhost:8080/"
        },
        "id": "o-mLTGVvdqXt",
        "outputId": "d6bb7977-5906-416c-c905-d46b14cc1e2d"
      },
      "source": [
        "var = '01234567'\r\n",
        "print(var[::2])"
      ],
      "execution_count": 9,
      "outputs": [
        {
          "output_type": "stream",
          "text": [
            "0246\n"
          ],
          "name": "stdout"
        }
      ]
    },
    {
      "cell_type": "markdown",
      "metadata": {
        "id": "QXGyodHYd2WR"
      },
      "source": [
        "In Python, what is the result of the following operation `'1'+'2'`"
      ]
    },
    {
      "cell_type": "code",
      "metadata": {
        "colab": {
          "base_uri": "https://localhost:8080/",
          "height": 35
        },
        "id": "8GwxQCYAdyy1",
        "outputId": "9b85adee-1c4e-4cee-979d-cf311a9d514f"
      },
      "source": [
        "'1'+'2'"
      ],
      "execution_count": 10,
      "outputs": [
        {
          "output_type": "execute_result",
          "data": {
            "application/vnd.google.colaboratory.intrinsic+json": {
              "type": "string"
            },
            "text/plain": [
              "'12'"
            ]
          },
          "metadata": {
            "tags": []
          },
          "execution_count": 10
        }
      ]
    },
    {
      "cell_type": "markdown",
      "metadata": {
        "id": "DSyCkOBbd7gR"
      },
      "source": [
        "Given `myvar = 'hello'`, how would you convert myvar into uppercase?"
      ]
    },
    {
      "cell_type": "code",
      "metadata": {
        "colab": {
          "base_uri": "https://localhost:8080/",
          "height": 35
        },
        "id": "xU-K7b3Ed4Mj",
        "outputId": "06ef917b-524f-4d19-d81d-cfef42cdb8d3"
      },
      "source": [
        "myvar = 'hello'\r\n",
        "myvar.upper()"
      ],
      "execution_count": 12,
      "outputs": [
        {
          "output_type": "execute_result",
          "data": {
            "application/vnd.google.colaboratory.intrinsic+json": {
              "type": "string"
            },
            "text/plain": [
              "'HELLO'"
            ]
          },
          "metadata": {
            "tags": []
          },
          "execution_count": 12
        }
      ]
    },
    {
      "cell_type": "markdown",
      "metadata": {
        "id": "BFLC1WSex4o4"
      },
      "source": [
        "how do you access the last element of the tuple: `A=(0,1,2,3)` :"
      ]
    },
    {
      "cell_type": "code",
      "metadata": {
        "colab": {
          "base_uri": "https://localhost:8080/"
        },
        "id": "qpAXaEJzd_iY",
        "outputId": "ce528820-42ff-4efb-b6a2-da11bd3dd51e"
      },
      "source": [
        "A=(0,1,2,3)\r\n",
        "A[-1]\r\n",
        "A[3]"
      ],
      "execution_count": 14,
      "outputs": [
        {
          "output_type": "execute_result",
          "data": {
            "text/plain": [
              "3"
            ]
          },
          "metadata": {
            "tags": []
          },
          "execution_count": 14
        }
      ]
    },
    {
      "cell_type": "markdown",
      "metadata": {
        "id": "7u0Um1ugyG6P"
      },
      "source": [
        "Consider the list `B=[\"a\",\"b\",\"c\"]`\r\n",
        "\r\n",
        "what is the result of the following `B[1:]`"
      ]
    },
    {
      "cell_type": "code",
      "metadata": {
        "colab": {
          "base_uri": "https://localhost:8080/"
        },
        "id": "L6zptoGvx9Bx",
        "outputId": "4f9bf4c8-061d-4eb9-bf06-db39ce193775"
      },
      "source": [
        "B=[\"a\",\"b\",\"c\"]\r\n",
        "B[1:]"
      ],
      "execution_count": 15,
      "outputs": [
        {
          "output_type": "execute_result",
          "data": {
            "text/plain": [
              "['b', 'c']"
            ]
          },
          "metadata": {
            "tags": []
          },
          "execution_count": 15
        }
      ]
    },
    {
      "cell_type": "markdown",
      "metadata": {
        "id": "bo4qLWq6z5UI"
      },
      "source": [
        "What is the result of the following lines of code:\r\n",
        "\r\n",
        "\r\n",
        "\r\n",
        "```\r\n",
        "S={'A','B','C'}\r\n",
        "\r\n",
        "U={'A','Z','C'}\r\n",
        "\r\n",
        "U.union(S)\r\n",
        "```\r\n",
        "\r\n"
      ]
    },
    {
      "cell_type": "code",
      "metadata": {
        "colab": {
          "base_uri": "https://localhost:8080/"
        },
        "id": "ohm6UeZpyKV-",
        "outputId": "7643506d-a85b-4bac-86e9-bccd208c83a8"
      },
      "source": [
        "S={'A','B','C'}\r\n",
        "\r\n",
        "U={'A','Z','C'}\r\n",
        "\r\n",
        "U.union(S)"
      ],
      "execution_count": 16,
      "outputs": [
        {
          "output_type": "execute_result",
          "data": {
            "text/plain": [
              "{'A', 'B', 'C', 'Z'}"
            ]
          },
          "metadata": {
            "tags": []
          },
          "execution_count": 16
        }
      ]
    },
    {
      "cell_type": "markdown",
      "metadata": {
        "id": "kf_yI6eF0DuJ"
      },
      "source": [
        "What is the intersection of set S and U\r\n",
        "\r\n",
        "\r\n",
        "\r\n",
        "```\r\n",
        "S={'A','B','C'}\r\n",
        "\r\n",
        "U={'A','Z','C'}\r\n",
        "```\r\n",
        "\r\n"
      ]
    },
    {
      "cell_type": "code",
      "metadata": {
        "colab": {
          "base_uri": "https://localhost:8080/"
        },
        "id": "mpJSDI9nz-nF",
        "outputId": "cd0e614c-c319-4284-a997-ebd6422160d4"
      },
      "source": [
        "S={'A','B','C'}\r\n",
        "\r\n",
        "U={'A','Z','C'}\r\n",
        "\r\n",
        "S & U"
      ],
      "execution_count": 17,
      "outputs": [
        {
          "output_type": "execute_result",
          "data": {
            "text/plain": [
              "{'A', 'C'}"
            ]
          },
          "metadata": {
            "tags": []
          },
          "execution_count": 17
        }
      ]
    },
    {
      "cell_type": "markdown",
      "metadata": {
        "id": "WWUR2sgXJpVY"
      },
      "source": [
        "Consider the following dictionary:\r\n",
        "\r\n",
        "`D={'a':0,'b':1,'c':2}`\r\n",
        "\r\n",
        "What is the result of the following: D.values()"
      ]
    },
    {
      "cell_type": "code",
      "metadata": {
        "colab": {
          "base_uri": "https://localhost:8080/"
        },
        "id": "krtV--jo0HzM",
        "outputId": "6d748354-c97a-4c0a-92ae-ab35e31660a4"
      },
      "source": [
        "D={'a':0,'b':1,'c':2}\r\n",
        "D.values()"
      ],
      "execution_count": 22,
      "outputs": [
        {
          "output_type": "execute_result",
          "data": {
            "text/plain": [
              "dict_values([0, 1, 2])"
            ]
          },
          "metadata": {
            "tags": []
          },
          "execution_count": 22
        }
      ]
    },
    {
      "cell_type": "markdown",
      "metadata": {
        "id": "GUHNkv2zJzUi"
      },
      "source": [
        "Consider the following dictionary:\r\n",
        "\r\n",
        "`D={'a':0,'b':1,'c':2}`\r\n",
        "What is the output of the following `D['b']` :"
      ]
    },
    {
      "cell_type": "code",
      "metadata": {
        "id": "shA80HK-JtC-",
        "outputId": "e2b8fb4c-9e99-42d9-94ad-f177aca4b69f",
        "colab": {
          "base_uri": "https://localhost:8080/"
        }
      },
      "source": [
        "D={'a':0,'b':1,'c':2}\r\n",
        "D['b']"
      ],
      "execution_count": 23,
      "outputs": [
        {
          "output_type": "execute_result",
          "data": {
            "text/plain": [
              "1"
            ]
          },
          "metadata": {
            "tags": []
          },
          "execution_count": 23
        }
      ]
    },
    {
      "cell_type": "markdown",
      "metadata": {
        "id": "JiCHwN9VMc_r"
      },
      "source": [
        "What is the syntax to obtain the first element of the tuple:\r\n",
        "\r\n",
        "`A=('a','b','c')`"
      ]
    },
    {
      "cell_type": "code",
      "metadata": {
        "id": "U3IqsbZSJ3Ym",
        "outputId": "7621098c-c37c-48b3-e4b0-66c3c40f132e",
        "colab": {
          "base_uri": "https://localhost:8080/",
          "height": 35
        }
      },
      "source": [
        "A=('a','b','c')\r\n",
        "A[0]"
      ],
      "execution_count": 26,
      "outputs": [
        {
          "output_type": "execute_result",
          "data": {
            "application/vnd.google.colaboratory.intrinsic+json": {
              "type": "string"
            },
            "text/plain": [
              "'a'"
            ]
          },
          "metadata": {
            "tags": []
          },
          "execution_count": 26
        }
      ]
    },
    {
      "cell_type": "markdown",
      "metadata": {
        "id": "anPRQxAVMndz"
      },
      "source": [
        "After applying the following method,`L.append(['a','b'])`, the following list will only be one element longer."
      ]
    },
    {
      "cell_type": "code",
      "metadata": {
        "id": "E7LXc-jtMgza",
        "outputId": "3aafdecb-6700-49c1-acbd-a4a602a6d86f",
        "colab": {
          "base_uri": "https://localhost:8080/"
        }
      },
      "source": [
        "L=['0']\r\n",
        "L.append(['a','b'])\r\n",
        "len(L)\r\n",
        "#True"
      ],
      "execution_count": 33,
      "outputs": [
        {
          "output_type": "execute_result",
          "data": {
            "text/plain": [
              "2"
            ]
          },
          "metadata": {
            "tags": []
          },
          "execution_count": 33
        }
      ]
    },
    {
      "cell_type": "markdown",
      "metadata": {
        "id": "R2PEOB4MNKDu"
      },
      "source": [
        "How many duplicate elements can you have in a set?\r\n",
        "\r\n",
        ">0, you can only have one unique element in a set correct"
      ]
    },
    {
      "cell_type": "markdown",
      "metadata": {
        "id": "PkaYh-KhNQMh"
      },
      "source": [
        "Consider the following Python Dictionary:\r\n",
        "\r\n",
        "`Dict={\"A\":1,\"B\":\"2\",\"C\":[3,3,3],\"D\":(4,4,4),'E':5,'F':6}`\r\n",
        "\r\n",
        ", what is the result of the following operation: `Dict[\"D\"]`"
      ]
    },
    {
      "cell_type": "code",
      "metadata": {
        "id": "5A4eViT_MwLe",
        "outputId": "980fa7ed-f52e-49bd-f486-abeb5cdaee71",
        "colab": {
          "base_uri": "https://localhost:8080/"
        }
      },
      "source": [
        "Dict={\"A\":1,\"B\":\"2\",\"C\":[3,3,3],\"D\":(4,4,4),'E':5,'F':6}\r\n",
        "Dict[\"D\"]"
      ],
      "execution_count": 34,
      "outputs": [
        {
          "output_type": "execute_result",
          "data": {
            "text/plain": [
              "(4, 4, 4)"
            ]
          },
          "metadata": {
            "tags": []
          },
          "execution_count": 34
        }
      ]
    },
    {
      "cell_type": "code",
      "metadata": {
        "id": "71i-26IpNhT_"
      },
      "source": [
        ""
      ],
      "execution_count": null,
      "outputs": []
    }
  ]
}