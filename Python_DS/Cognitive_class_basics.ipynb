{
  "nbformat": 4,
  "nbformat_minor": 0,
  "metadata": {
    "colab": {
      "name": "Cognitive_class_basics.ipynb",
      "provenance": [],
      "authorship_tag": "ABX9TyPOIuc4d7vjS+6E9uGYNOiQ",
      "include_colab_link": true
    },
    "kernelspec": {
      "name": "python3",
      "display_name": "Python 3"
    }
  },
  "cells": [
    {
      "cell_type": "markdown",
      "metadata": {
        "id": "view-in-github",
        "colab_type": "text"
      },
      "source": [
        "<a href=\"https://colab.research.google.com/github/rubensgamaliel/CognitiveClass/blob/main/Python_DS/Cognitive_class_basics.ipynb\" target=\"_parent\"><img src=\"https://colab.research.google.com/assets/colab-badge.svg\" alt=\"Open In Colab\"/></a>"
      ]
    },
    {
      "cell_type": "markdown",
      "metadata": {
        "id": "0wO9XNnHJd6c"
      },
      "source": [
        "#Material from the **Python for data science** class from **IBM** by [cognitive class](https://courses.cognitiveclass.ai/courses/course-v1:Cognitiveclass+PY0101EN+v2/course/)"
      ]
    },
    {
      "cell_type": "markdown",
      "metadata": {
        "id": "a0xLw5mD3uG8"
      },
      "source": [
        "#Module 1"
      ]
    },
    {
      "cell_type": "markdown",
      "metadata": {
        "id": "cbREu3_r3hqW"
      },
      "source": [
        "Using the Practice Lab find the result of executing `print(\"Hello\\nWorld!\")` statement"
      ]
    },
    {
      "cell_type": "code",
      "metadata": {
        "id": "fFqH2W853irN",
        "colab": {
          "base_uri": "https://localhost:8080/"
        },
        "outputId": "3342ee40-f2e4-4306-d2c0-11ade8fb06a8"
      },
      "source": [
        "print(\"Hello\\nWorld!\") "
      ],
      "execution_count": 1,
      "outputs": [
        {
          "output_type": "stream",
          "text": [
            "Hello\n",
            "World!\n"
          ],
          "name": "stdout"
        }
      ]
    },
    {
      "cell_type": "markdown",
      "metadata": {
        "id": "F3yELEvu3oQP"
      },
      "source": [
        "what is the output of executing the following statement: `# print('Hello World!')`"
      ]
    },
    {
      "cell_type": "code",
      "metadata": {
        "id": "d6dvYnoB3pEc"
      },
      "source": [
        "# print('Hello World!')"
      ],
      "execution_count": 2,
      "outputs": []
    },
    {
      "cell_type": "markdown",
      "metadata": {
        "id": "jJqVEOTG37Sq"
      },
      "source": [
        "What is the type of the following `int(1.0)`?"
      ]
    },
    {
      "cell_type": "code",
      "metadata": {
        "id": "-IXM1wzp39Ec",
        "colab": {
          "base_uri": "https://localhost:8080/"
        },
        "outputId": "4e785866-e643-42e8-cfc9-f7dcc71388a0"
      },
      "source": [
        "type(int(1.0))"
      ],
      "execution_count": 3,
      "outputs": [
        {
          "output_type": "execute_result",
          "data": {
            "text/plain": [
              "int"
            ]
          },
          "metadata": {
            "tags": []
          },
          "execution_count": 3
        }
      ]
    },
    {
      "cell_type": "markdown",
      "metadata": {
        "id": "XQsYXfn64CbL"
      },
      "source": [
        "Enter the code to convert the number 1 to a Boolean ?"
      ]
    },
    {
      "cell_type": "code",
      "metadata": {
        "id": "IIH9UCyj4EGd",
        "colab": {
          "base_uri": "https://localhost:8080/"
        },
        "outputId": "eea7a017-510e-4660-d685-37d178176caf"
      },
      "source": [
        "bool(1)"
      ],
      "execution_count": 4,
      "outputs": [
        {
          "output_type": "execute_result",
          "data": {
            "text/plain": [
              "True"
            ]
          },
          "metadata": {
            "tags": []
          },
          "execution_count": 4
        }
      ]
    },
    {
      "cell_type": "markdown",
      "metadata": {
        "id": "Zdt406oK3yNu"
      },
      "source": [
        "#Module 2"
      ]
    },
    {
      "cell_type": "markdown",
      "metadata": {
        "id": "-i-wCzaEa5oC"
      },
      "source": [
        "Consider the following string:\r\n",
        "\r\n",
        "`Numbers=\"0123456\"`\r\n",
        "\r\n",
        "how would you obtain the even elements ?"
      ]
    },
    {
      "cell_type": "code",
      "metadata": {
        "id": "rttTen36JUlZ",
        "colab": {
          "base_uri": "https://localhost:8080/",
          "height": 35
        },
        "outputId": "53ec9ad8-f85a-49c0-ed15-93ae5e5964c9"
      },
      "source": [
        "Numbers=\"0123456\"\r\n",
        "Numbers[::2]"
      ],
      "execution_count": 5,
      "outputs": [
        {
          "output_type": "execute_result",
          "data": {
            "application/vnd.google.colaboratory.intrinsic+json": {
              "type": "string"
            },
            "text/plain": [
              "'0246'"
            ]
          },
          "metadata": {
            "tags": []
          },
          "execution_count": 5
        }
      ]
    },
    {
      "cell_type": "markdown",
      "metadata": {
        "id": "6XqVspbLbYpI"
      },
      "source": [
        "What is the result of the following line of code:\r\n",
        "\r\n",
        "`\"0123456\".find('1')`"
      ]
    },
    {
      "cell_type": "code",
      "metadata": {
        "colab": {
          "base_uri": "https://localhost:8080/"
        },
        "id": "_RFi-gaWbEvX",
        "outputId": "246ddee5-8575-45af-a10a-87ed3d45e099"
      },
      "source": [
        "\"0123456\".find('1')"
      ],
      "execution_count": 6,
      "outputs": [
        {
          "output_type": "execute_result",
          "data": {
            "text/plain": [
              "1"
            ]
          },
          "metadata": {
            "tags": []
          },
          "execution_count": 6
        }
      ]
    },
    {
      "cell_type": "code",
      "metadata": {
        "colab": {
          "base_uri": "https://localhost:8080/"
        },
        "id": "w_Kf7cmxbaeD",
        "outputId": "6bb00136-6360-489c-f54e-2494b6079886"
      },
      "source": [
        "type(\"0123456\".find('1'))"
      ],
      "execution_count": 7,
      "outputs": [
        {
          "output_type": "execute_result",
          "data": {
            "text/plain": [
              "int"
            ]
          },
          "metadata": {
            "tags": []
          },
          "execution_count": 7
        }
      ]
    },
    {
      "cell_type": "markdown",
      "metadata": {
        "id": "z4ewUN8wdfGz"
      },
      "source": [
        "What is the result of the following operation in Python:\r\n",
        "\r\n",
        "`3 + 2 * 2`"
      ]
    },
    {
      "cell_type": "code",
      "metadata": {
        "colab": {
          "base_uri": "https://localhost:8080/"
        },
        "id": "fidV5KWtbfEr",
        "outputId": "d8f73e06-6fc3-4177-b573-587a85dfaf80"
      },
      "source": [
        "3 + 2 * 2"
      ],
      "execution_count": 8,
      "outputs": [
        {
          "output_type": "execute_result",
          "data": {
            "text/plain": [
              "7"
            ]
          },
          "metadata": {
            "tags": []
          },
          "execution_count": 8
        }
      ]
    },
    {
      "cell_type": "markdown",
      "metadata": {
        "id": "fPD75JH-dlx4"
      },
      "source": [
        "In Python, if you executed `name = 'Lizz'`, what would be the output of `print(name[0:2])`?"
      ]
    },
    {
      "cell_type": "code",
      "metadata": {
        "colab": {
          "base_uri": "https://localhost:8080/"
        },
        "id": "DmJ8KUM4dht_",
        "outputId": "4d7fb755-14d0-42bf-fa40-3dea4d16e4e5"
      },
      "source": [
        "name = 'Lizz'\r\n",
        "print(name[0:2])"
      ],
      "execution_count": 9,
      "outputs": [
        {
          "output_type": "stream",
          "text": [
            "Li\n"
          ],
          "name": "stdout"
        }
      ]
    },
    {
      "cell_type": "markdown",
      "metadata": {
        "id": "xxKqRkfaduQe"
      },
      "source": [
        "In Python, if you executed `var = '01234567'`, what would be the result of `print(var[::2])`?"
      ]
    },
    {
      "cell_type": "code",
      "metadata": {
        "colab": {
          "base_uri": "https://localhost:8080/"
        },
        "id": "o-mLTGVvdqXt",
        "outputId": "3684268d-7208-4e71-8661-44434c6a22d1"
      },
      "source": [
        "var = '01234567'\r\n",
        "print(var[::2])"
      ],
      "execution_count": 10,
      "outputs": [
        {
          "output_type": "stream",
          "text": [
            "0246\n"
          ],
          "name": "stdout"
        }
      ]
    },
    {
      "cell_type": "markdown",
      "metadata": {
        "id": "QXGyodHYd2WR"
      },
      "source": [
        "In Python, what is the result of the following operation `'1'+'2'`"
      ]
    },
    {
      "cell_type": "code",
      "metadata": {
        "colab": {
          "base_uri": "https://localhost:8080/",
          "height": 35
        },
        "id": "8GwxQCYAdyy1",
        "outputId": "805e0387-5c43-4b95-b463-df29f555a79b"
      },
      "source": [
        "'1'+'2'"
      ],
      "execution_count": 11,
      "outputs": [
        {
          "output_type": "execute_result",
          "data": {
            "application/vnd.google.colaboratory.intrinsic+json": {
              "type": "string"
            },
            "text/plain": [
              "'12'"
            ]
          },
          "metadata": {
            "tags": []
          },
          "execution_count": 11
        }
      ]
    },
    {
      "cell_type": "markdown",
      "metadata": {
        "id": "DSyCkOBbd7gR"
      },
      "source": [
        "Given `myvar = 'hello'`, how would you convert myvar into uppercase?"
      ]
    },
    {
      "cell_type": "code",
      "metadata": {
        "colab": {
          "base_uri": "https://localhost:8080/",
          "height": 35
        },
        "id": "xU-K7b3Ed4Mj",
        "outputId": "38caf4f7-7556-49d0-ff1f-9111ee713933"
      },
      "source": [
        "myvar = 'hello'\r\n",
        "myvar.upper()"
      ],
      "execution_count": 12,
      "outputs": [
        {
          "output_type": "execute_result",
          "data": {
            "application/vnd.google.colaboratory.intrinsic+json": {
              "type": "string"
            },
            "text/plain": [
              "'HELLO'"
            ]
          },
          "metadata": {
            "tags": []
          },
          "execution_count": 12
        }
      ]
    },
    {
      "cell_type": "markdown",
      "metadata": {
        "id": "BFLC1WSex4o4"
      },
      "source": [
        "how do you access the last element of the tuple: `A=(0,1,2,3)` :"
      ]
    },
    {
      "cell_type": "code",
      "metadata": {
        "colab": {
          "base_uri": "https://localhost:8080/"
        },
        "id": "qpAXaEJzd_iY",
        "outputId": "556648ca-ac2c-4425-a487-bed2b7d3dffe"
      },
      "source": [
        "A=(0,1,2,3)\r\n",
        "A[-1]\r\n",
        "A[3]"
      ],
      "execution_count": 13,
      "outputs": [
        {
          "output_type": "execute_result",
          "data": {
            "text/plain": [
              "3"
            ]
          },
          "metadata": {
            "tags": []
          },
          "execution_count": 13
        }
      ]
    },
    {
      "cell_type": "markdown",
      "metadata": {
        "id": "7u0Um1ugyG6P"
      },
      "source": [
        "Consider the list `B=[\"a\",\"b\",\"c\"]`\r\n",
        "\r\n",
        "what is the result of the following `B[1:]`"
      ]
    },
    {
      "cell_type": "code",
      "metadata": {
        "colab": {
          "base_uri": "https://localhost:8080/"
        },
        "id": "L6zptoGvx9Bx",
        "outputId": "17b34509-0587-4ce3-b168-b254c3b36ea6"
      },
      "source": [
        "B=[\"a\",\"b\",\"c\"]\r\n",
        "B[1:]"
      ],
      "execution_count": 14,
      "outputs": [
        {
          "output_type": "execute_result",
          "data": {
            "text/plain": [
              "['b', 'c']"
            ]
          },
          "metadata": {
            "tags": []
          },
          "execution_count": 14
        }
      ]
    },
    {
      "cell_type": "markdown",
      "metadata": {
        "id": "bo4qLWq6z5UI"
      },
      "source": [
        "What is the result of the following lines of code:\r\n",
        "\r\n",
        "\r\n",
        "\r\n",
        "```\r\n",
        "S={'A','B','C'}\r\n",
        "\r\n",
        "U={'A','Z','C'}\r\n",
        "\r\n",
        "U.union(S)\r\n",
        "```\r\n",
        "\r\n"
      ]
    },
    {
      "cell_type": "code",
      "metadata": {
        "colab": {
          "base_uri": "https://localhost:8080/"
        },
        "id": "ohm6UeZpyKV-",
        "outputId": "62881f95-d0f0-478d-c440-4932d49e8239"
      },
      "source": [
        "S={'A','B','C'}\r\n",
        "\r\n",
        "U={'A','Z','C'}\r\n",
        "\r\n",
        "U.union(S)"
      ],
      "execution_count": 15,
      "outputs": [
        {
          "output_type": "execute_result",
          "data": {
            "text/plain": [
              "{'A', 'B', 'C', 'Z'}"
            ]
          },
          "metadata": {
            "tags": []
          },
          "execution_count": 15
        }
      ]
    },
    {
      "cell_type": "markdown",
      "metadata": {
        "id": "kf_yI6eF0DuJ"
      },
      "source": [
        "What is the intersection of set S and U\r\n",
        "\r\n",
        "\r\n",
        "\r\n",
        "```\r\n",
        "S={'A','B','C'}\r\n",
        "\r\n",
        "U={'A','Z','C'}\r\n",
        "```\r\n",
        "\r\n"
      ]
    },
    {
      "cell_type": "code",
      "metadata": {
        "colab": {
          "base_uri": "https://localhost:8080/"
        },
        "id": "mpJSDI9nz-nF",
        "outputId": "96b925b5-2a6e-4b08-c808-7bb4900c9a97"
      },
      "source": [
        "S={'A','B','C'}\r\n",
        "\r\n",
        "U={'A','Z','C'}\r\n",
        "\r\n",
        "S & U"
      ],
      "execution_count": 16,
      "outputs": [
        {
          "output_type": "execute_result",
          "data": {
            "text/plain": [
              "{'A', 'C'}"
            ]
          },
          "metadata": {
            "tags": []
          },
          "execution_count": 16
        }
      ]
    },
    {
      "cell_type": "markdown",
      "metadata": {
        "id": "WWUR2sgXJpVY"
      },
      "source": [
        "Consider the following dictionary:\r\n",
        "\r\n",
        "`D={'a':0,'b':1,'c':2}`\r\n",
        "\r\n",
        "What is the result of the following: D.values()"
      ]
    },
    {
      "cell_type": "code",
      "metadata": {
        "colab": {
          "base_uri": "https://localhost:8080/"
        },
        "id": "krtV--jo0HzM",
        "outputId": "63521603-62ac-4a84-9e77-306a9fb1b0e5"
      },
      "source": [
        "D={'a':0,'b':1,'c':2}\r\n",
        "D.values()"
      ],
      "execution_count": 17,
      "outputs": [
        {
          "output_type": "execute_result",
          "data": {
            "text/plain": [
              "dict_values([0, 1, 2])"
            ]
          },
          "metadata": {
            "tags": []
          },
          "execution_count": 17
        }
      ]
    },
    {
      "cell_type": "markdown",
      "metadata": {
        "id": "GUHNkv2zJzUi"
      },
      "source": [
        "Consider the following dictionary:\r\n",
        "\r\n",
        "`D={'a':0,'b':1,'c':2}`\r\n",
        "What is the output of the following `D['b']` :"
      ]
    },
    {
      "cell_type": "code",
      "metadata": {
        "id": "shA80HK-JtC-",
        "colab": {
          "base_uri": "https://localhost:8080/"
        },
        "outputId": "03284e9b-9386-4588-f72e-ccdae106ef22"
      },
      "source": [
        "D={'a':0,'b':1,'c':2}\r\n",
        "D['b']"
      ],
      "execution_count": 18,
      "outputs": [
        {
          "output_type": "execute_result",
          "data": {
            "text/plain": [
              "1"
            ]
          },
          "metadata": {
            "tags": []
          },
          "execution_count": 18
        }
      ]
    },
    {
      "cell_type": "markdown",
      "metadata": {
        "id": "JiCHwN9VMc_r"
      },
      "source": [
        "What is the syntax to obtain the first element of the tuple:\r\n",
        "\r\n",
        "`A=('a','b','c')`"
      ]
    },
    {
      "cell_type": "code",
      "metadata": {
        "id": "U3IqsbZSJ3Ym",
        "colab": {
          "base_uri": "https://localhost:8080/",
          "height": 35
        },
        "outputId": "7ab78ddf-5201-41a9-a105-76b7f032e24e"
      },
      "source": [
        "A=('a','b','c')\r\n",
        "A[0]"
      ],
      "execution_count": 19,
      "outputs": [
        {
          "output_type": "execute_result",
          "data": {
            "application/vnd.google.colaboratory.intrinsic+json": {
              "type": "string"
            },
            "text/plain": [
              "'a'"
            ]
          },
          "metadata": {
            "tags": []
          },
          "execution_count": 19
        }
      ]
    },
    {
      "cell_type": "markdown",
      "metadata": {
        "id": "anPRQxAVMndz"
      },
      "source": [
        "After applying the following method,`L.append(['a','b'])`, the following list will only be one element longer."
      ]
    },
    {
      "cell_type": "code",
      "metadata": {
        "id": "E7LXc-jtMgza",
        "colab": {
          "base_uri": "https://localhost:8080/"
        },
        "outputId": "4e668417-b2bf-46e7-b9ce-7b16a586f0b6"
      },
      "source": [
        "L=['0']\r\n",
        "L.append(['a','b'])\r\n",
        "len(L)\r\n",
        "#True"
      ],
      "execution_count": 20,
      "outputs": [
        {
          "output_type": "execute_result",
          "data": {
            "text/plain": [
              "2"
            ]
          },
          "metadata": {
            "tags": []
          },
          "execution_count": 20
        }
      ]
    },
    {
      "cell_type": "markdown",
      "metadata": {
        "id": "R2PEOB4MNKDu"
      },
      "source": [
        "How many duplicate elements can you have in a set?\r\n",
        "\r\n",
        ">0, you can only have one unique element in a set correct"
      ]
    },
    {
      "cell_type": "markdown",
      "metadata": {
        "id": "PkaYh-KhNQMh"
      },
      "source": [
        "Consider the following Python Dictionary:\r\n",
        "\r\n",
        "`Dict={\"A\":1,\"B\":\"2\",\"C\":[3,3,3],\"D\":(4,4,4),'E':5,'F':6}`\r\n",
        "\r\n",
        ", what is the result of the following operation: `Dict[\"D\"]`"
      ]
    },
    {
      "cell_type": "code",
      "metadata": {
        "id": "5A4eViT_MwLe",
        "colab": {
          "base_uri": "https://localhost:8080/"
        },
        "outputId": "11ae63e4-194a-44bf-b85e-3af3cc04e040"
      },
      "source": [
        "Dict={\"A\":1,\"B\":\"2\",\"C\":[3,3,3],\"D\":(4,4,4),'E':5,'F':6}\r\n",
        "Dict[\"D\"]"
      ],
      "execution_count": 21,
      "outputs": [
        {
          "output_type": "execute_result",
          "data": {
            "text/plain": [
              "(4, 4, 4)"
            ]
          },
          "metadata": {
            "tags": []
          },
          "execution_count": 21
        }
      ]
    },
    {
      "cell_type": "markdown",
      "metadata": {
        "id": "3pb9y_6XHn0d"
      },
      "source": [
        "#Module 3"
      ]
    },
    {
      "cell_type": "markdown",
      "metadata": {
        "id": "cU87fQjBIyhn"
      },
      "source": [
        "Find the values of i that produces a True for the following:\r\n",
        "\r\n",
        "`i!=0`"
      ]
    },
    {
      "cell_type": "code",
      "metadata": {
        "id": "71i-26IpNhT_",
        "colab": {
          "base_uri": "https://localhost:8080/"
        },
        "outputId": "71f1d5a4-2215-4680-f3d5-034984d8abb8"
      },
      "source": [
        "#any value not equal (!=) to zero will satisfy the condition\r\n",
        "i=-1\r\n",
        "i!=0"
      ],
      "execution_count": 22,
      "outputs": [
        {
          "output_type": "execute_result",
          "data": {
            "text/plain": [
              "True"
            ]
          },
          "metadata": {
            "tags": []
          },
          "execution_count": 22
        }
      ]
    },
    {
      "cell_type": "markdown",
      "metadata": {
        "id": "wWBxFyK-JQtJ"
      },
      "source": [
        "What is the output of the following:\r\n",
        "\r\n",
        "\r\n",
        "\r\n",
        "```\r\n",
        "x='a'\r\n",
        "\r\n",
        "if(x!='a'):\r\n",
        "\r\n",
        "  print(\"this is not a\")\r\n",
        "\r\n",
        "else:\r\n",
        "\r\n",
        "  print(\"this is a\")\r\n",
        "```\r\n",
        "\r\n"
      ]
    },
    {
      "cell_type": "code",
      "metadata": {
        "colab": {
          "base_uri": "https://localhost:8080/"
        },
        "id": "-k6QaTGYJBfO",
        "outputId": "05d13c3d-af31-4911-d8ce-c7a64b153e8d"
      },
      "source": [
        "x='a'\r\n",
        "\r\n",
        "if(x!='a'):\r\n",
        "\r\n",
        "  print(\"this is not a\")\r\n",
        "\r\n",
        "else:\r\n",
        "\r\n",
        "  print(\"this is a\")"
      ],
      "execution_count": 23,
      "outputs": [
        {
          "output_type": "stream",
          "text": [
            "this is a\n"
          ],
          "name": "stdout"
        }
      ]
    },
    {
      "cell_type": "markdown",
      "metadata": {
        "id": "hKgLU8mAKBEh"
      },
      "source": [
        "Write an if statement to determine if an album had a rating greater than 8. Test it using the rating for the album “Back in Black” that had a rating of 8.5. If the statement is true print \"This album is Amazing!\""
      ]
    },
    {
      "cell_type": "code",
      "metadata": {
        "colab": {
          "base_uri": "https://localhost:8080/"
        },
        "id": "EXt2YlvRJYn-",
        "outputId": "87fb5f78-d0d5-459a-db42-d7cd911bbf14"
      },
      "source": [
        "album_rating=8.5\r\n",
        "\r\n",
        "if album_rating>8:\r\n",
        "  print('This album is Amazing')"
      ],
      "execution_count": 24,
      "outputs": [
        {
          "output_type": "stream",
          "text": [
            "This album is Amazing\n"
          ],
          "name": "stdout"
        }
      ]
    },
    {
      "cell_type": "markdown",
      "metadata": {
        "id": "dWKkwJemKYs1"
      },
      "source": [
        "Write an if-else statement that performs the following. If the rating is larger then eight print “this album is amazing”. If the rating is less than or equal to 8 print “this album is ok”."
      ]
    },
    {
      "cell_type": "code",
      "metadata": {
        "colab": {
          "base_uri": "https://localhost:8080/"
        },
        "id": "5td3sn9NKRF4",
        "outputId": "168c4a80-5c22-4382-c64f-b18830614e8a"
      },
      "source": [
        "album_rating=8.5\r\n",
        "\r\n",
        "if album_rating>8:\r\n",
        "  print('This album is Amazing')\r\n",
        "else:\r\n",
        "  print('this album is ok')"
      ],
      "execution_count": 25,
      "outputs": [
        {
          "output_type": "stream",
          "text": [
            "This album is Amazing\n"
          ],
          "name": "stdout"
        }
      ]
    },
    {
      "cell_type": "markdown",
      "metadata": {
        "id": "AUeHJ323LQ8-"
      },
      "source": [
        "##Loops"
      ]
    },
    {
      "cell_type": "markdown",
      "metadata": {
        "id": "rUS7kjTbLktc"
      },
      "source": [
        "Use loops to print out the elements in the list A"
      ]
    },
    {
      "cell_type": "code",
      "metadata": {
        "colab": {
          "base_uri": "https://localhost:8080/"
        },
        "id": "whmTvOEwKeyw",
        "outputId": "c3e4c680-a12c-47d9-ad10-9adc764671e6"
      },
      "source": [
        "A=[1,2,3,4,5]\r\n",
        "for a in A:\r\n",
        "    print(a)"
      ],
      "execution_count": 26,
      "outputs": [
        {
          "output_type": "stream",
          "text": [
            "1\n",
            "2\n",
            "3\n",
            "4\n",
            "5\n"
          ],
          "name": "stdout"
        }
      ]
    },
    {
      "cell_type": "markdown",
      "metadata": {
        "id": "QVdZ49z0LrGB"
      },
      "source": [
        "Find the value of  x  that will print out the sequence  1,2,..,10 "
      ]
    },
    {
      "cell_type": "code",
      "metadata": {
        "colab": {
          "base_uri": "https://localhost:8080/"
        },
        "id": "ijHIn5MFLorf",
        "outputId": "d35faefa-f37f-4dfb-bf4c-c723ed0fd7ba"
      },
      "source": [
        "x=11\r\n",
        "y=1\r\n",
        "while(y< x):\r\n",
        "    print(y)\r\n",
        "    y=y+1"
      ],
      "execution_count": 27,
      "outputs": [
        {
          "output_type": "stream",
          "text": [
            "1\n",
            "2\n",
            "3\n",
            "4\n",
            "5\n",
            "6\n",
            "7\n",
            "8\n",
            "9\n",
            "10\n"
          ],
          "name": "stdout"
        }
      ]
    },
    {
      "cell_type": "markdown",
      "metadata": {
        "id": "KbidpG5OL0r7"
      },
      "source": [
        "what is the output of the following lines of code:\r\n",
        "\r\n",
        "\r\n",
        "\r\n",
        "```\r\n",
        "A=[3,4,5]\r\n",
        "\r\n",
        "for a in A:\r\n",
        "\r\n",
        "  print(a)\r\n",
        "```\r\n",
        "\r\n"
      ]
    },
    {
      "cell_type": "code",
      "metadata": {
        "colab": {
          "base_uri": "https://localhost:8080/"
        },
        "id": "PgU2IA_GLwqR",
        "outputId": "d83cd6c4-ac0f-4d61-aa34-4a15e8512bfa"
      },
      "source": [
        "A=[3,4,5]\r\n",
        "\r\n",
        "for a in A:\r\n",
        "\r\n",
        "  print(a)"
      ],
      "execution_count": 28,
      "outputs": [
        {
          "output_type": "stream",
          "text": [
            "3\n",
            "4\n",
            "5\n"
          ],
          "name": "stdout"
        }
      ]
    },
    {
      "cell_type": "markdown",
      "metadata": {
        "id": "nydS1BCAMBcr"
      },
      "source": [
        "what is the output of the following lines of code:\r\n",
        "\r\n",
        "\r\n",
        "\r\n",
        "```\r\n",
        "x=3\r\n",
        "\r\n",
        "y=1\r\n",
        "\r\n",
        "while(y!= x):\r\n",
        "\r\n",
        "  print(y)\r\n",
        "\r\n",
        "  y=y+1\r\n",
        "```\r\n",
        "\r\n"
      ]
    },
    {
      "cell_type": "code",
      "metadata": {
        "colab": {
          "base_uri": "https://localhost:8080/"
        },
        "id": "JKZj5oGXL7oj",
        "outputId": "15403440-8724-4df1-ce31-55384c72319a"
      },
      "source": [
        "x=3\r\n",
        "\r\n",
        "y=1\r\n",
        "\r\n",
        "while(y!= x):\r\n",
        "\r\n",
        "  print(y)\r\n",
        "\r\n",
        "  y=y+1"
      ],
      "execution_count": 29,
      "outputs": [
        {
          "output_type": "stream",
          "text": [
            "1\n",
            "2\n"
          ],
          "name": "stdout"
        }
      ]
    },
    {
      "cell_type": "markdown",
      "metadata": {
        "id": "myaFgmizMu3c"
      },
      "source": [
        "Write a for loop the prints out all the element between -5 and 5 using the range function."
      ]
    },
    {
      "cell_type": "code",
      "metadata": {
        "colab": {
          "base_uri": "https://localhost:8080/"
        },
        "id": "M4qcSD4WMHnu",
        "outputId": "50943049-bc12-4850-9445-c250fc3f40f3"
      },
      "source": [
        "for i in range(-5,6):\r\n",
        "  print(i)\r\n"
      ],
      "execution_count": 30,
      "outputs": [
        {
          "output_type": "stream",
          "text": [
            "-5\n",
            "-4\n",
            "-3\n",
            "-2\n",
            "-1\n",
            "0\n",
            "1\n",
            "2\n",
            "3\n",
            "4\n",
            "5\n"
          ],
          "name": "stdout"
        }
      ]
    },
    {
      "cell_type": "markdown",
      "metadata": {
        "id": "lymYJAbhM7uR"
      },
      "source": [
        "Print the elements of the following list: \r\n",
        "`Genres=[ 'rock', 'R&B', 'Soundtrack', 'R&B', 'soul', 'pop'] `\r\n",
        "\r\n",
        "Make sure you follow Python conventions."
      ]
    },
    {
      "cell_type": "code",
      "metadata": {
        "colab": {
          "base_uri": "https://localhost:8080/"
        },
        "id": "-DiFv_1xM2vb",
        "outputId": "40edb2b9-43bc-4d98-8eda-b2f722795e21"
      },
      "source": [
        "Genres=[ 'rock', 'R&B', 'Soundtrack', 'R&B', 'soul', 'pop'] \r\n",
        "for Genre in Genres:\r\n",
        "  print(Genre)"
      ],
      "execution_count": 31,
      "outputs": [
        {
          "output_type": "stream",
          "text": [
            "rock\n",
            "R&B\n",
            "Soundtrack\n",
            "R&B\n",
            "soul\n",
            "pop\n"
          ],
          "name": "stdout"
        }
      ]
    },
    {
      "cell_type": "markdown",
      "metadata": {
        "id": "gz8kQk02NSCM"
      },
      "source": [
        "Write a for loop that prints out the following list: `squares=['red', 'yellow', 'green', 'purple', 'blue']`"
      ]
    },
    {
      "cell_type": "code",
      "metadata": {
        "colab": {
          "base_uri": "https://localhost:8080/"
        },
        "id": "aLcVT8PUNF7h",
        "outputId": "1e541330-efc3-4e8f-98cb-9c0621d78e80"
      },
      "source": [
        "squares=['red', 'yellow', 'green', 'purple', 'blue']\r\n",
        "for square in squares:\r\n",
        "  print(square)"
      ],
      "execution_count": 32,
      "outputs": [
        {
          "output_type": "stream",
          "text": [
            "red\n",
            "yellow\n",
            "green\n",
            "purple\n",
            "blue\n"
          ],
          "name": "stdout"
        }
      ]
    },
    {
      "cell_type": "markdown",
      "metadata": {
        "id": "6UwdwMBINgYu"
      },
      "source": [
        "Write a while loop to display the values of the Rating of an album playlist stored in the list PlayListRatings. If the score is less than 6, exit the loop. The list PlayListRatings is given by: `PlayListRatings = [10, 9.5, 10, 8, 7.5, 5, 10, 10]`"
      ]
    },
    {
      "cell_type": "code",
      "metadata": {
        "colab": {
          "base_uri": "https://localhost:8080/"
        },
        "id": "Qv6M7nzlNa4s",
        "outputId": "5509ed84-20a9-42ee-9774-ffdf51212b8b"
      },
      "source": [
        "PlayListRatings = [10, 9.5, 10, 8, 7.5, 5, 10, 10]\r\n",
        "i = 1\r\n",
        "Rating = PlayListRatings[0]\r\n",
        "while(Rating >= 6):\r\n",
        "    print(Rating)\r\n",
        "    Rating = PlayListRatings[i]\r\n",
        "    i = i + 1"
      ],
      "execution_count": 33,
      "outputs": [
        {
          "output_type": "stream",
          "text": [
            "10\n",
            "9.5\n",
            "10\n",
            "8\n",
            "7.5\n"
          ],
          "name": "stdout"
        }
      ]
    },
    {
      "cell_type": "markdown",
      "metadata": {
        "id": "fo1SKrUON2Ft"
      },
      "source": [
        "Write a while loop to copy the strings 'orange' of the list squares to the list new_squares. Stop and exit the loop if the value on the list is not 'orange':"
      ]
    },
    {
      "cell_type": "code",
      "metadata": {
        "colab": {
          "base_uri": "https://localhost:8080/"
        },
        "id": "s6oOEzPYNwXj",
        "outputId": "9a1bf027-513c-452d-9130-04e709464e65"
      },
      "source": [
        "squares = ['orange', 'orange', 'purple', 'blue ', 'orange']\r\n",
        "new_squares = []\r\n",
        "i = 0\r\n",
        "while(squares[i] == 'orange'):\r\n",
        "    new_squares.append(squares[i])\r\n",
        "    i = i + 1\r\n",
        "print (new_squares)"
      ],
      "execution_count": 34,
      "outputs": [
        {
          "output_type": "stream",
          "text": [
            "['orange', 'orange']\n"
          ],
          "name": "stdout"
        }
      ]
    },
    {
      "cell_type": "markdown",
      "metadata": {
        "id": "6a2OoHMlONqW"
      },
      "source": [
        "##Functions"
      ]
    },
    {
      "cell_type": "markdown",
      "metadata": {
        "id": "-3HqDcEMPwLA"
      },
      "source": [
        "complete the function  f  so that it returns the product of  a  and  b  , you the next cell to test the function"
      ]
    },
    {
      "cell_type": "code",
      "metadata": {
        "id": "PV4VwzyaOHiU"
      },
      "source": [
        "def f(a,b):\r\n",
        "    \r\n",
        "    return a*b"
      ],
      "execution_count": 35,
      "outputs": []
    },
    {
      "cell_type": "markdown",
      "metadata": {
        "id": "wXKjnMtwPz3M"
      },
      "source": [
        "test the function using the next cell:"
      ]
    },
    {
      "cell_type": "code",
      "metadata": {
        "colab": {
          "base_uri": "https://localhost:8080/"
        },
        "id": "JG3GxRJuPySQ",
        "outputId": "adc859d9-7392-4d06-8296-5a4412a776f3"
      },
      "source": [
        "a=4\r\n",
        "b=2\r\n",
        "\r\n",
        "if a*b==f(a,b):   \r\n",
        "    print(\"correct\")   \r\n",
        "else:    \r\n",
        "    print(\"incorrect\")"
      ],
      "execution_count": 36,
      "outputs": [
        {
          "output_type": "stream",
          "text": [
            "correct\n"
          ],
          "name": "stdout"
        }
      ]
    },
    {
      "cell_type": "markdown",
      "metadata": {
        "id": "vqxZVKukP4C_"
      },
      "source": [
        "\r\n",
        "Complete the function  g  such that the input  c  is a list of integers and the output is the sum of all the elements in the list"
      ]
    },
    {
      "cell_type": "code",
      "metadata": {
        "id": "roxW8GgGP1_u"
      },
      "source": [
        "def g(c):\r\n",
        "\r\n",
        "    return sum(c)"
      ],
      "execution_count": 37,
      "outputs": []
    },
    {
      "cell_type": "markdown",
      "metadata": {
        "id": "1giOVmvaQBWK"
      },
      "source": [
        "\r\n",
        "test the function using the next cell:"
      ]
    },
    {
      "cell_type": "code",
      "metadata": {
        "colab": {
          "base_uri": "https://localhost:8080/"
        },
        "id": "RzQrqGoAQB7W",
        "outputId": "36de49f1-7336-4e77-9aff-0fb0af0fb59d"
      },
      "source": [
        "c=[1,2,3,4,5]\r\n",
        "\r\n",
        "if sum(c)==g(c):   \r\n",
        "    print(\"correct\")   \r\n",
        "else:    \r\n",
        "    print(\"incorrect\")"
      ],
      "execution_count": 38,
      "outputs": [
        {
          "output_type": "stream",
          "text": [
            "correct\n"
          ],
          "name": "stdout"
        }
      ]
    },
    {
      "cell_type": "markdown",
      "metadata": {
        "id": "qbpmXdK9QPKr"
      },
      "source": [
        "What is the value of c after the following block of code is run ?\r\n",
        "\r\n",
        "\r\n",
        "\r\n",
        "```\r\n",
        "a=1\r\n",
        "\r\n",
        "def add(b):\r\n",
        "\r\n",
        "  return a+b\r\n",
        "\r\n",
        "c=add(10)\r\n",
        "```\r\n",
        "\r\n"
      ]
    },
    {
      "cell_type": "code",
      "metadata": {
        "colab": {
          "base_uri": "https://localhost:8080/"
        },
        "id": "TZE9EW8WQFGH",
        "outputId": "cc270ab7-253c-4db9-9051-c11c3d000518"
      },
      "source": [
        "a=1\r\n",
        " \r\n",
        "def add(b):\r\n",
        " \r\n",
        "  return a+b\r\n",
        " \r\n",
        "c=add(10)\r\n",
        "c"
      ],
      "execution_count": 39,
      "outputs": [
        {
          "output_type": "execute_result",
          "data": {
            "text/plain": [
              "11"
            ]
          },
          "metadata": {
            "tags": []
          },
          "execution_count": 39
        }
      ]
    },
    {
      "cell_type": "markdown",
      "metadata": {
        "id": "EtMSRXlCQgXt"
      },
      "source": [
        "What is the value of c after the following block of code is run ?\r\n",
        "\r\n",
        "\r\n",
        "\r\n",
        "```\r\n",
        "def f(*x):\r\n",
        "\r\n",
        "  return sum(c)\r\n",
        "```\r\n",
        "\r\n"
      ]
    },
    {
      "cell_type": "code",
      "metadata": {
        "id": "WswqxU95QWbQ"
      },
      "source": [
        "def f(*x):\r\n",
        "\r\n",
        "  return sum(c) #c not defined"
      ],
      "execution_count": 40,
      "outputs": []
    },
    {
      "cell_type": "markdown",
      "metadata": {
        "id": "yjqmfKysS_xy"
      },
      "source": [
        "Come up with a function that divides the first input by the second input:"
      ]
    },
    {
      "cell_type": "code",
      "metadata": {
        "id": "QhaR2bkFQl4K"
      },
      "source": [
        "def divide(a,b):\r\n",
        "  return a/b"
      ],
      "execution_count": 41,
      "outputs": []
    },
    {
      "cell_type": "code",
      "metadata": {
        "colab": {
          "base_uri": "https://localhost:8080/"
        },
        "id": "25jG9W-eTFOp",
        "outputId": "f894e302-0694-45b4-8992-af4a42fe646d"
      },
      "source": [
        "divide(6,2)"
      ],
      "execution_count": 42,
      "outputs": [
        {
          "output_type": "execute_result",
          "data": {
            "text/plain": [
              "3.0"
            ]
          },
          "metadata": {
            "tags": []
          },
          "execution_count": 42
        }
      ]
    },
    {
      "cell_type": "markdown",
      "metadata": {
        "id": "It7Vx8YLTPPb"
      },
      "source": [
        "Use the function con for the following question."
      ]
    },
    {
      "cell_type": "code",
      "metadata": {
        "id": "u4uh60S-TIGu"
      },
      "source": [
        "def con(a, b):\r\n",
        "    return(a + b)"
      ],
      "execution_count": 43,
      "outputs": []
    },
    {
      "cell_type": "markdown",
      "metadata": {
        "id": "sOnYzG-1TT-7"
      },
      "source": [
        "Can the con function we defined before be used to add to integers or strings?"
      ]
    },
    {
      "cell_type": "code",
      "metadata": {
        "colab": {
          "base_uri": "https://localhost:8080/"
        },
        "id": "b6jFzgTDTRuW",
        "outputId": "b73a0b27-bf1c-45c2-b453-edcf94ef8f25"
      },
      "source": [
        "con(2,1)"
      ],
      "execution_count": 44,
      "outputs": [
        {
          "output_type": "execute_result",
          "data": {
            "text/plain": [
              "3"
            ]
          },
          "metadata": {
            "tags": []
          },
          "execution_count": 44
        }
      ]
    },
    {
      "cell_type": "code",
      "metadata": {
        "colab": {
          "base_uri": "https://localhost:8080/",
          "height": 35
        },
        "id": "X0xnzE-6TeTB",
        "outputId": "1de2542a-1c74-4301-83c3-c048fe14f1ac"
      },
      "source": [
        "con('abra ','kadabra')"
      ],
      "execution_count": 45,
      "outputs": [
        {
          "output_type": "execute_result",
          "data": {
            "application/vnd.google.colaboratory.intrinsic+json": {
              "type": "string"
            },
            "text/plain": [
              "'abra kadabra'"
            ]
          },
          "metadata": {
            "tags": []
          },
          "execution_count": 45
        }
      ]
    },
    {
      "cell_type": "markdown",
      "metadata": {
        "id": "Kn9KyWEDTsBL"
      },
      "source": [
        "Can the con function we defined before be used to concentrate a list or tuple?"
      ]
    },
    {
      "cell_type": "code",
      "metadata": {
        "colab": {
          "base_uri": "https://localhost:8080/"
        },
        "id": "3L1xCOZiTi-o",
        "outputId": "8fa73ed5-25ec-446b-b972-50dc7237fec3"
      },
      "source": [
        "con(['a', 1], ['b', 1])"
      ],
      "execution_count": 46,
      "outputs": [
        {
          "output_type": "execute_result",
          "data": {
            "text/plain": [
              "['a', 1, 'b', 1]"
            ]
          },
          "metadata": {
            "tags": []
          },
          "execution_count": 46
        }
      ]
    },
    {
      "cell_type": "code",
      "metadata": {
        "colab": {
          "base_uri": "https://localhost:8080/"
        },
        "id": "ijA0vv_FTupC",
        "outputId": "061d83f0-4e86-40e7-b9f2-8376b8614745"
      },
      "source": [
        "con(('a', 1), ('b', 1))"
      ],
      "execution_count": 47,
      "outputs": [
        {
          "output_type": "execute_result",
          "data": {
            "text/plain": [
              "('a', 1, 'b', 1)"
            ]
          },
          "metadata": {
            "tags": []
          },
          "execution_count": 47
        }
      ]
    },
    {
      "cell_type": "markdown",
      "metadata": {
        "id": "m-1iUPLB9jGi"
      },
      "source": [
        "##Object and Classes"
      ]
    },
    {
      "cell_type": "code",
      "metadata": {
        "id": "ntsqTHPBTx_I"
      },
      "source": [
        "class Car(object):\r\n",
        "    def __init__(self,make,model,color):\r\n",
        "        self.make=make;\r\n",
        "        self.model=model;\r\n",
        "        self.color=color;\r\n",
        "        self.owner_number=0 \r\n",
        "    def car_info(self):\r\n",
        "        print(\"make: \",self.make)\r\n",
        "        print(\"model:\", self.model)\r\n",
        "        print(\"color:\",self.color)\r\n",
        "        print(\"number of owners:\",self.owner_number)\r\n",
        "    def sell(self):\r\n",
        "        self.owner_number=self.owner_number+1"
      ],
      "execution_count": 48,
      "outputs": []
    },
    {
      "cell_type": "markdown",
      "metadata": {
        "id": "cpS1kufs-F5-"
      },
      "source": [
        "Create a  Car  object my_car with the given data attributes:\r\n",
        "\r\n",
        "\r\n",
        "\r\n",
        "```\r\n",
        "make=\"BMW\"\r\n",
        "model=\"M3\"\r\n",
        "color=\"red\"\r\n",
        "```\r\n",
        "\r\n"
      ]
    },
    {
      "cell_type": "code",
      "metadata": {
        "colab": {
          "base_uri": "https://localhost:8080/"
        },
        "id": "ueRBMEAd96Jt",
        "outputId": "fabf4c9b-9e60-4538-ce84-f4d59a7ca0c4"
      },
      "source": [
        "car=Car(make='bmw',model='M3',color='Red')\r\n",
        "car.car_info()"
      ],
      "execution_count": 55,
      "outputs": [
        {
          "output_type": "stream",
          "text": [
            "make:  bmw\n",
            "model: M3\n",
            "color: Red\n",
            "number of owners: 0\n"
          ],
          "name": "stdout"
        }
      ]
    },
    {
      "cell_type": "code",
      "metadata": {
        "colab": {
          "base_uri": "https://localhost:8080/"
        },
        "id": "W1w8zh2u-aoK",
        "outputId": "b484a316-3dde-40a2-ded7-2327577018a4"
      },
      "source": [
        "car=Car('bmw','M3','Red')\r\n",
        "car.car_info()"
      ],
      "execution_count": 59,
      "outputs": [
        {
          "output_type": "stream",
          "text": [
            "make:  bmw\n",
            "model: M3\n",
            "color: Red\n",
            "number of owners: 0\n"
          ],
          "name": "stdout"
        }
      ]
    },
    {
      "cell_type": "markdown",
      "metadata": {
        "id": "0BYxXR8j_g-B"
      },
      "source": [
        "Call the method  sell()  in the loop, then call the method  car_info() again"
      ]
    },
    {
      "cell_type": "code",
      "metadata": {
        "colab": {
          "base_uri": "https://localhost:8080/"
        },
        "id": "1swyFWMD-3Qz",
        "outputId": "959fe4b6-1229-4d2c-b459-8b18b5f226f9"
      },
      "source": [
        "for i in range(5):\r\n",
        "    car.sell()\r\n",
        "car.car_info()"
      ],
      "execution_count": 60,
      "outputs": [
        {
          "output_type": "stream",
          "text": [
            "make:  bmw\n",
            "model: M3\n",
            "color: Red\n",
            "number of owners: 5\n"
          ],
          "name": "stdout"
        }
      ]
    },
    {
      "cell_type": "code",
      "metadata": {
        "id": "lkU1OWfD_Mbb"
      },
      "source": [
        "import matplotlib.pyplot as plt\r\n",
        "%matplotlib inline  "
      ],
      "execution_count": 61,
      "outputs": []
    },
    {
      "cell_type": "code",
      "metadata": {
        "id": "Kc-MBOSqCNHJ"
      },
      "source": [
        "# Create a class Circle\r\n",
        "\r\n",
        "class Circle(object):\r\n",
        "    \r\n",
        "    # Constructor\r\n",
        "    def __init__(self, radius=3, color='blue'):\r\n",
        "        self.radius = radius\r\n",
        "        self.color = color \r\n",
        "    \r\n",
        "    # Method\r\n",
        "    def add_radius(self, r):\r\n",
        "        self.radius = self.radius + r\r\n",
        "        return(self.radius)\r\n",
        "    \r\n",
        "    # Method\r\n",
        "    def drawCircle(self):\r\n",
        "        plt.gca().add_patch(plt.Circle((0, 0), radius=self.radius, fc=self.color))\r\n",
        "        plt.axis('scaled')\r\n",
        "        plt.show() "
      ],
      "execution_count": 62,
      "outputs": []
    },
    {
      "cell_type": "code",
      "metadata": {
        "id": "6FrPHQrsCOc0"
      },
      "source": [
        "# Create an object RedCircle\r\n",
        "\r\n",
        "RedCircle = Circle(10, 'red')"
      ],
      "execution_count": 71,
      "outputs": []
    },
    {
      "cell_type": "code",
      "metadata": {
        "colab": {
          "base_uri": "https://localhost:8080/"
        },
        "id": "yi2vLeagC19b",
        "outputId": "eebaeca5-de11-4ff6-bf42-e3d92d821378"
      },
      "source": [
        "# Find out the methods can be used on the object RedCircle\r\n",
        "\r\n",
        "dir(RedCircle)"
      ],
      "execution_count": 74,
      "outputs": [
        {
          "output_type": "execute_result",
          "data": {
            "text/plain": [
              "['__class__',\n",
              " '__delattr__',\n",
              " '__dict__',\n",
              " '__dir__',\n",
              " '__doc__',\n",
              " '__eq__',\n",
              " '__format__',\n",
              " '__ge__',\n",
              " '__getattribute__',\n",
              " '__gt__',\n",
              " '__hash__',\n",
              " '__init__',\n",
              " '__init_subclass__',\n",
              " '__le__',\n",
              " '__lt__',\n",
              " '__module__',\n",
              " '__ne__',\n",
              " '__new__',\n",
              " '__reduce__',\n",
              " '__reduce_ex__',\n",
              " '__repr__',\n",
              " '__setattr__',\n",
              " '__sizeof__',\n",
              " '__str__',\n",
              " '__subclasshook__',\n",
              " '__weakref__',\n",
              " 'add_radius',\n",
              " 'color',\n",
              " 'drawCircle',\n",
              " 'radius']"
            ]
          },
          "metadata": {
            "tags": []
          },
          "execution_count": 74
        }
      ]
    },
    {
      "cell_type": "code",
      "metadata": {
        "colab": {
          "base_uri": "https://localhost:8080/"
        },
        "id": "XHlL4XbyCR86",
        "outputId": "75bad2cc-f707-46ae-b8d2-6afe371255d2"
      },
      "source": [
        "RedCircle.add_radius(-8)"
      ],
      "execution_count": 72,
      "outputs": [
        {
          "output_type": "execute_result",
          "data": {
            "text/plain": [
              "2"
            ]
          },
          "metadata": {
            "tags": []
          },
          "execution_count": 72
        }
      ]
    },
    {
      "cell_type": "code",
      "metadata": {
        "colab": {
          "base_uri": "https://localhost:8080/",
          "height": 265
        },
        "id": "Cdx17PIPCaS-",
        "outputId": "ebab0759-d3e7-4f94-e5f4-0b89316ecaf0"
      },
      "source": [
        "RedCircle.drawCircle()"
      ],
      "execution_count": 73,
      "outputs": [
        {
          "output_type": "display_data",
          "data": {
            "image/png": "[encoded data removed]",
            "text/plain": [
              "<Figure size 432x288 with 1 Axes>"
            ]
          },
          "metadata": {
            "tags": [],
            "needs_background": "light"
          }
        }
      ]
    },
    {
      "cell_type": "code",
      "metadata": {
        "id": "YOjIULevCp4q"
      },
      "source": [
        "# Create a new Rectangle class for creating a rectangle object\r\n",
        "\r\n",
        "class Rectangle(object):\r\n",
        "    \r\n",
        "    # Constructor\r\n",
        "    def __init__(self, width=2, height=3, color='r'):\r\n",
        "        self.height = height \r\n",
        "        self.width = width\r\n",
        "        self.color = color\r\n",
        "    \r\n",
        "    # Method\r\n",
        "    def drawRectangle(self):\r\n",
        "        plt.gca().add_patch(plt.Rectangle((0, 0), self.width, self.height ,fc=self.color))\r\n",
        "        plt.axis('scaled')\r\n",
        "        plt.show()"
      ],
      "execution_count": 75,
      "outputs": []
    },
    {
      "cell_type": "code",
      "metadata": {
        "id": "fmVcHgmuDOR0"
      },
      "source": [
        "# Create a new object rectangle\r\n",
        "\r\n",
        "SkinnyBlueRectangle = Rectangle(2, 10, 'blue')"
      ],
      "execution_count": 76,
      "outputs": []
    },
    {
      "cell_type": "code",
      "metadata": {
        "colab": {
          "base_uri": "https://localhost:8080/"
        },
        "id": "AdztpIgeDTsE",
        "outputId": "c4a89075-8114-480a-cd05-cb37dc37cfe5"
      },
      "source": [
        "# Print the object attribute height\r\n",
        "\r\n",
        "SkinnyBlueRectangle.height "
      ],
      "execution_count": 77,
      "outputs": [
        {
          "output_type": "execute_result",
          "data": {
            "text/plain": [
              "10"
            ]
          },
          "metadata": {
            "tags": []
          },
          "execution_count": 77
        }
      ]
    },
    {
      "cell_type": "code",
      "metadata": {
        "colab": {
          "base_uri": "https://localhost:8080/"
        },
        "id": "oVkbGVDcDWGk",
        "outputId": "56659b77-2849-410d-86b2-ad4f575ae987"
      },
      "source": [
        "# Print the object attribute width\r\n",
        "\r\n",
        "SkinnyBlueRectangle.width"
      ],
      "execution_count": 78,
      "outputs": [
        {
          "output_type": "execute_result",
          "data": {
            "text/plain": [
              "2"
            ]
          },
          "metadata": {
            "tags": []
          },
          "execution_count": 78
        }
      ]
    },
    {
      "cell_type": "code",
      "metadata": {
        "colab": {
          "base_uri": "https://localhost:8080/",
          "height": 265
        },
        "id": "8rbrrW3MDX_Q",
        "outputId": "63f26374-e38e-4adc-8fe8-aa49fb8c00ab"
      },
      "source": [
        "SkinnyBlueRectangle.drawRectangle()"
      ],
      "execution_count": 79,
      "outputs": [
        {
          "output_type": "display_data",
          "data": {
            "image/png": "[encoded data removed]",
            "text/plain": [
              "<Figure size 432x288 with 1 Axes>"
            ]
          },
          "metadata": {
            "tags": [],
            "needs_background": "light"
          }
        }
      ]
    },
    {
      "cell_type": "code",
      "metadata": {
        "id": "FGT4yYkSDd5_"
      },
      "source": [
        "# Create a new object rectangle\r\n",
        "\r\n",
        "FatYellowRectangle = Rectangle(20, 5, 'yellow')"
      ],
      "execution_count": 80,
      "outputs": []
    },
    {
      "cell_type": "code",
      "metadata": {
        "colab": {
          "base_uri": "https://localhost:8080/"
        },
        "id": "YzVIpMqODhte",
        "outputId": "531f2fc8-54e1-4e1e-9315-fd54357671b0"
      },
      "source": [
        "# Print the object attribute height\r\n",
        "\r\n",
        "FatYellowRectangle.height "
      ],
      "execution_count": 81,
      "outputs": [
        {
          "output_type": "execute_result",
          "data": {
            "text/plain": [
              "5"
            ]
          },
          "metadata": {
            "tags": []
          },
          "execution_count": 81
        }
      ]
    },
    {
      "cell_type": "code",
      "metadata": {
        "colab": {
          "base_uri": "https://localhost:8080/"
        },
        "id": "n67tWxSeDkN4",
        "outputId": "8b54d4c0-2bc4-46f5-b28b-6ecaa3705208"
      },
      "source": [
        "# Print the object attribute width\r\n",
        "\r\n",
        "FatYellowRectangle.width"
      ],
      "execution_count": 82,
      "outputs": [
        {
          "output_type": "execute_result",
          "data": {
            "text/plain": [
              "20"
            ]
          },
          "metadata": {
            "tags": []
          },
          "execution_count": 82
        }
      ]
    },
    {
      "cell_type": "code",
      "metadata": {
        "colab": {
          "base_uri": "https://localhost:8080/",
          "height": 35
        },
        "id": "BsD7JlQyDnfh",
        "outputId": "62d0d668-adc1-4040-8e96-2a7d6302bf9f"
      },
      "source": [
        "# Print the object attribute color\r\n",
        "\r\n",
        "FatYellowRectangle.color"
      ],
      "execution_count": 83,
      "outputs": [
        {
          "output_type": "execute_result",
          "data": {
            "application/vnd.google.colaboratory.intrinsic+json": {
              "type": "string"
            },
            "text/plain": [
              "'yellow'"
            ]
          },
          "metadata": {
            "tags": []
          },
          "execution_count": 83
        }
      ]
    },
    {
      "cell_type": "code",
      "metadata": {
        "colab": {
          "base_uri": "https://localhost:8080/",
          "height": 132
        },
        "id": "B5-29jbBDptx",
        "outputId": "86c7a168-17e2-4115-cb48-f517fe093cec"
      },
      "source": [
        "# Use the drawRectangle method to draw the shape\r\n",
        "\r\n",
        "FatYellowRectangle.drawRectangle()"
      ],
      "execution_count": 84,
      "outputs": [
        {
          "output_type": "display_data",
          "data": {
            "image/png": "[encoded data removed]",
            "text/plain": [
              "<Figure size 432x288 with 1 Axes>"
            ]
          },
          "metadata": {
            "tags": [],
            "needs_background": "light"
          }
        }
      ]
    },
    {
      "cell_type": "markdown",
      "metadata": {
        "id": "Rpl18e_QKkIB"
      },
      "source": [
        "What is the output of the following lines of code:"
      ]
    },
    {
      "cell_type": "code",
      "metadata": {
        "colab": {
          "base_uri": "https://localhost:8080/"
        },
        "id": "N5MtDnCIDsyT",
        "outputId": "87c262fd-41bb-4815-f024-e8dae8665847"
      },
      "source": [
        "x=1\r\n",
        "\r\n",
        "if(x!=1):\r\n",
        "\r\n",
        "  print('Hello')\r\n",
        "\r\n",
        "else:\r\n",
        "\r\n",
        "  print('Hi')\r\n",
        "\r\n",
        "print('Mike')"
      ],
      "execution_count": 85,
      "outputs": [
        {
          "output_type": "stream",
          "text": [
            "Hi\n",
            "Mike\n"
          ],
          "name": "stdout"
        }
      ]
    },
    {
      "cell_type": "markdown",
      "metadata": {
        "id": "CDcsENv7KvL6"
      },
      "source": [
        "What is the output of the following few lines of code ?"
      ]
    },
    {
      "cell_type": "code",
      "metadata": {
        "colab": {
          "base_uri": "https://localhost:8080/"
        },
        "id": "UKEOwj2_Kn93",
        "outputId": "4ec1461c-9094-4526-f81a-f1ed37ee8a8f"
      },
      "source": [
        "A=['1','2','3']\r\n",
        "\r\n",
        "for a in A:\r\n",
        "\r\n",
        "  print(2*a)"
      ],
      "execution_count": 86,
      "outputs": [
        {
          "output_type": "stream",
          "text": [
            "11\n",
            "22\n",
            "33\n"
          ],
          "name": "stdout"
        }
      ]
    },
    {
      "cell_type": "markdown",
      "metadata": {
        "id": "E_sG2RcIK3CV"
      },
      "source": [
        "Consider the function Delta, when will the function return a value of 1"
      ]
    },
    {
      "cell_type": "code",
      "metadata": {
        "id": "xe0Q_J27KyrJ"
      },
      "source": [
        "def Delta(x):\r\n",
        "\r\n",
        "  if x==0:\r\n",
        "\r\n",
        "    y=1;\r\n",
        "\r\n",
        "  else:\r\n",
        "\r\n",
        "    y=0;\r\n",
        "\r\n",
        "  return(y)"
      ],
      "execution_count": 87,
      "outputs": []
    },
    {
      "cell_type": "code",
      "metadata": {
        "colab": {
          "base_uri": "https://localhost:8080/"
        },
        "id": "CBTR6lPjK7iD",
        "outputId": "7bac6cdb-bde5-4fcf-8389-211770bc851d"
      },
      "source": [
        "Delta(0)"
      ],
      "execution_count": 89,
      "outputs": [
        {
          "output_type": "execute_result",
          "data": {
            "text/plain": [
              "1"
            ]
          },
          "metadata": {
            "tags": []
          },
          "execution_count": 89
        }
      ]
    },
    {
      "cell_type": "markdown",
      "metadata": {
        "id": "Hv6W72RlLPEN"
      },
      "source": [
        "What is the correct way to sort the list 'B' using a method, the result should not return a new list, just change the list 'B'."
      ]
    },
    {
      "cell_type": "code",
      "metadata": {
        "colab": {
          "base_uri": "https://localhost:8080/"
        },
        "id": "W8ieid_iK_Fg",
        "outputId": "f577aa9a-ee85-4b36-8594-bab66d79c641"
      },
      "source": [
        "B=[1,3,4,0,-2]\r\n",
        "B"
      ],
      "execution_count": 90,
      "outputs": [
        {
          "output_type": "execute_result",
          "data": {
            "text/plain": [
              "[1, 3, 4, 0, -2]"
            ]
          },
          "metadata": {
            "tags": []
          },
          "execution_count": 90
        }
      ]
    },
    {
      "cell_type": "code",
      "metadata": {
        "colab": {
          "base_uri": "https://localhost:8080/"
        },
        "id": "h6mMuljBLT2u",
        "outputId": "ebaf352b-2199-4277-8e66-2fd16d7b456b"
      },
      "source": [
        "#creates a new list sorted\r\n",
        "sorted(B)"
      ],
      "execution_count": 94,
      "outputs": [
        {
          "output_type": "execute_result",
          "data": {
            "text/plain": [
              "[-2, 0, 1, 3, 4]"
            ]
          },
          "metadata": {
            "tags": []
          },
          "execution_count": 94
        }
      ]
    },
    {
      "cell_type": "code",
      "metadata": {
        "id": "txi_ke4DLV_X"
      },
      "source": [
        "#sorts the list without creating a new one\r\n",
        "B.sort()"
      ],
      "execution_count": 96,
      "outputs": []
    },
    {
      "cell_type": "code",
      "metadata": {
        "colab": {
          "base_uri": "https://localhost:8080/"
        },
        "id": "bhj9aLyELiVx",
        "outputId": "d8d15419-5ee2-4706-e7b7-cb6bc04019db"
      },
      "source": [
        "B"
      ],
      "execution_count": 97,
      "outputs": [
        {
          "output_type": "execute_result",
          "data": {
            "text/plain": [
              "[-2, 0, 1, 3, 4]"
            ]
          },
          "metadata": {
            "tags": []
          },
          "execution_count": 97
        }
      ]
    },
    {
      "cell_type": "markdown",
      "metadata": {
        "id": "9CwZ-fgKNHA7"
      },
      "source": [
        "what are the keys of the of the following {'a':1,'b':2}"
      ]
    },
    {
      "cell_type": "code",
      "metadata": {
        "colab": {
          "base_uri": "https://localhost:8080/"
        },
        "id": "grpxPXBJM3D2",
        "outputId": "44c4b25e-2eee-4764-ef5e-e952aef3e2c9"
      },
      "source": [
        "dic={'a':1,'b':2}\r\n",
        "dic.keys()"
      ],
      "execution_count": 99,
      "outputs": [
        {
          "output_type": "execute_result",
          "data": {
            "text/plain": [
              "dict_keys(['a', 'b'])"
            ]
          },
          "metadata": {
            "tags": []
          },
          "execution_count": 99
        }
      ]
    },
    {
      "cell_type": "markdown",
      "metadata": {
        "id": "Z8UcoVwpNYpl"
      },
      "source": [
        "#Module 4"
      ]
    },
    {
      "cell_type": "markdown",
      "metadata": {
        "id": "qcxdHreE3n9G"
      },
      "source": [
        "##Pandas"
      ]
    },
    {
      "cell_type": "markdown",
      "metadata": {
        "id": "LNGKGUf_615c"
      },
      "source": [
        "Consider the dataframe df, how would you find the element in the second-row and first column."
      ]
    },
    {
      "cell_type": "code",
      "metadata": {
        "id": "MXr5qDLwNKfO"
      },
      "source": [
        "import pandas as pd\r\n",
        "\r\n",
        "df=pd.DataFrame({'a':[11,21,31],'b':[21,22,23]})"
      ],
      "execution_count": 101,
      "outputs": []
    },
    {
      "cell_type": "code",
      "metadata": {
        "id": "Hvc0YtBp4sL2",
        "outputId": "ccec025f-abc7-486e-f4cd-88f0a1f8b319",
        "colab": {
          "base_uri": "https://localhost:8080/"
        }
      },
      "source": [
        "df.iloc[1,0]"
      ],
      "execution_count": 104,
      "outputs": [
        {
          "output_type": "execute_result",
          "data": {
            "text/plain": [
              "21"
            ]
          },
          "metadata": {
            "tags": []
          },
          "execution_count": 104
        }
      ]
    },
    {
      "cell_type": "markdown",
      "metadata": {
        "id": "nReDtbBe7X7J"
      },
      "source": [
        "will the following code run"
      ]
    },
    {
      "cell_type": "code",
      "metadata": {
        "id": "eU1ekHR27Gxk",
        "outputId": "89d39607-b84c-4489-ee28-49cfd14f8fd5",
        "colab": {
          "base_uri": "https://localhost:8080/",
          "height": 142
        }
      },
      "source": [
        "import pandas as banana\r\n",
        "\r\n",
        "df=banana.DataFrame({'a':[11,21,31],'b':[21,22,23]})\r\n",
        "\r\n",
        "df.head()"
      ],
      "execution_count": 105,
      "outputs": [
        {
          "output_type": "execute_result",
          "data": {
            "text/html": [
              "<div>\n",
              "<style scoped>\n",
              "    .dataframe tbody tr th:only-of-type {\n",
              "        vertical-align: middle;\n",
              "    }\n",
              "\n",
              "    .dataframe tbody tr th {\n",
              "        vertical-align: top;\n",
              "    }\n",
              "\n",
              "    .dataframe thead th {\n",
              "        text-align: right;\n",
              "    }\n",
              "</style>\n",
              "<table border=\"1\" class=\"dataframe\">\n",
              "  <thead>\n",
              "    <tr style=\"text-align: right;\">\n",
              "      <th></th>\n",
              "      <th>a</th>\n",
              "      <th>b</th>\n",
              "    </tr>\n",
              "  </thead>\n",
              "  <tbody>\n",
              "    <tr>\n",
              "      <th>0</th>\n",
              "      <td>11</td>\n",
              "      <td>21</td>\n",
              "    </tr>\n",
              "    <tr>\n",
              "      <th>1</th>\n",
              "      <td>21</td>\n",
              "      <td>22</td>\n",
              "    </tr>\n",
              "    <tr>\n",
              "      <th>2</th>\n",
              "      <td>31</td>\n",
              "      <td>23</td>\n",
              "    </tr>\n",
              "  </tbody>\n",
              "</table>\n",
              "</div>"
            ],
            "text/plain": [
              "    a   b\n",
              "0  11  21\n",
              "1  21  22\n",
              "2  31  23"
            ]
          },
          "metadata": {
            "tags": []
          },
          "execution_count": 105
        }
      ]
    },
    {
      "cell_type": "code",
      "metadata": {
        "id": "4YgM5-q57alO"
      },
      "source": [
        "import pandas as pd\r\n",
        "\r\n",
        "df=pd.DataFrame({'a':[1,2,1],'b':[1,1,1]})"
      ],
      "execution_count": 108,
      "outputs": []
    },
    {
      "cell_type": "markdown",
      "metadata": {
        "id": "m_1yVLcQ8EIz"
      },
      "source": [
        "1) find the unique values in column  'a' :"
      ]
    },
    {
      "cell_type": "code",
      "metadata": {
        "id": "B8KCRmKt8E8q",
        "outputId": "a7c676c8-ce20-4980-9dad-74c3657f746f",
        "colab": {
          "base_uri": "https://localhost:8080/"
        }
      },
      "source": [
        "df['a'].unique()"
      ],
      "execution_count": 110,
      "outputs": [
        {
          "output_type": "execute_result",
          "data": {
            "text/plain": [
              "array([1, 2])"
            ]
          },
          "metadata": {
            "tags": []
          },
          "execution_count": 110
        }
      ]
    },
    {
      "cell_type": "markdown",
      "metadata": {
        "id": "2WS-6AWU8aJA"
      },
      "source": [
        "2) return a dataframe with only the rows where column  a  is less than two"
      ]
    },
    {
      "cell_type": "code",
      "metadata": {
        "id": "JMLnkNzY8H6p",
        "outputId": "c853f084-f70c-4b2f-df4d-c335fb89703d",
        "colab": {
          "base_uri": "https://localhost:8080/",
          "height": 111
        }
      },
      "source": [
        "df[df['a']<2]"
      ],
      "execution_count": 111,
      "outputs": [
        {
          "output_type": "execute_result",
          "data": {
            "text/html": [
              "<div>\n",
              "<style scoped>\n",
              "    .dataframe tbody tr th:only-of-type {\n",
              "        vertical-align: middle;\n",
              "    }\n",
              "\n",
              "    .dataframe tbody tr th {\n",
              "        vertical-align: top;\n",
              "    }\n",
              "\n",
              "    .dataframe thead th {\n",
              "        text-align: right;\n",
              "    }\n",
              "</style>\n",
              "<table border=\"1\" class=\"dataframe\">\n",
              "  <thead>\n",
              "    <tr style=\"text-align: right;\">\n",
              "      <th></th>\n",
              "      <th>a</th>\n",
              "      <th>b</th>\n",
              "    </tr>\n",
              "  </thead>\n",
              "  <tbody>\n",
              "    <tr>\n",
              "      <th>0</th>\n",
              "      <td>1</td>\n",
              "      <td>1</td>\n",
              "    </tr>\n",
              "    <tr>\n",
              "      <th>2</th>\n",
              "      <td>1</td>\n",
              "      <td>1</td>\n",
              "    </tr>\n",
              "  </tbody>\n",
              "</table>\n",
              "</div>"
            ],
            "text/plain": [
              "   a  b\n",
              "0  1  1\n",
              "2  1  1"
            ]
          },
          "metadata": {
            "tags": []
          },
          "execution_count": 111
        }
      ]
    },
    {
      "cell_type": "markdown",
      "metadata": {
        "id": "N928hWwy8gSn"
      },
      "source": [
        "consider the dataframe `df=pd.DataFrame({'a':[1,2,1],'b':[1,1,1]})`\r\n",
        "\r\n",
        "what type does the following return `df['a']==1`"
      ]
    },
    {
      "cell_type": "code",
      "metadata": {
        "id": "I_smXf6p8f94",
        "outputId": "8e215f0e-c334-4811-ba5a-9cf4bcca9135",
        "colab": {
          "base_uri": "https://localhost:8080/"
        }
      },
      "source": [
        "df=pd.DataFrame({'a':[1,2,1],'b':[1,1,1]})\r\n",
        "df['a']==1"
      ],
      "execution_count": 112,
      "outputs": [
        {
          "output_type": "execute_result",
          "data": {
            "text/plain": [
              "0     True\n",
              "1    False\n",
              "2     True\n",
              "Name: a, dtype: bool"
            ]
          },
          "metadata": {
            "tags": []
          },
          "execution_count": 112
        }
      ]
    },
    {
      "cell_type": "markdown",
      "metadata": {
        "id": "5uTB6dG2BGjz"
      },
      "source": [
        "##API"
      ]
    },
    {
      "cell_type": "markdown",
      "metadata": {
        "id": "32hEpdEKGnbw"
      },
      "source": [
        "IBM Watson speech to text"
      ]
    },
    {
      "cell_type": "code",
      "metadata": {
        "id": "ibC4BlZL8cGv",
        "outputId": "9087f90d-3c08-4273-9a7a-9ae8bb4f6ece",
        "colab": {
          "base_uri": "https://localhost:8080/"
        }
      },
      "source": [
        "#you will need the following library \r\n",
        "!pip install ibm_watson wget"
      ],
      "execution_count": 113,
      "outputs": [
        {
          "output_type": "stream",
          "text": [
            "Collecting ibm_watson\n",
            "\u001b[?25l  Downloading https://files.pythonhosted.org/packages/b4/7f/3d641d975e3349741a1877f98b2e99e8616126c8974ddf0340ea25b6e88e/ibm-watson-5.0.0.tar.gz (381kB)\n",
            "\r\u001b[K     |▉                               | 10kB 18.0MB/s eta 0:00:01\r\u001b[K     |█▊                              | 20kB 22.0MB/s eta 0:00:01\r\u001b[K     |██▋                             | 30kB 10.1MB/s eta 0:00:01\r\u001b[K     |███▍                            | 40kB 8.4MB/s eta 0:00:01\r\u001b[K     |████▎                           | 51kB 4.3MB/s eta 0:00:01\r\u001b[K     |█████▏                          | 61kB 4.8MB/s eta 0:00:01\r\u001b[K     |██████                          | 71kB 4.7MB/s eta 0:00:01\r\u001b[K     |██████▉                         | 81kB 5.1MB/s eta 0:00:01\r\u001b[K     |███████▊                        | 92kB 5.4MB/s eta 0:00:01\r\u001b[K     |████████▋                       | 102kB 5.8MB/s eta 0:00:01\r\u001b[K     |█████████▍                      | 112kB 5.8MB/s eta 0:00:01\r\u001b[K     |██████████▎                     | 122kB 5.8MB/s eta 0:00:01\r\u001b[K     |███████████▏                    | 133kB 5.8MB/s eta 0:00:01\r\u001b[K     |████████████                    | 143kB 5.8MB/s eta 0:00:01\r\u001b[K     |████████████▉                   | 153kB 5.8MB/s eta 0:00:01\r\u001b[K     |█████████████▊                  | 163kB 5.8MB/s eta 0:00:01\r\u001b[K     |██████████████▋                 | 174kB 5.8MB/s eta 0:00:01\r\u001b[K     |███████████████▌                | 184kB 5.8MB/s eta 0:00:01\r\u001b[K     |████████████████▎               | 194kB 5.8MB/s eta 0:00:01\r\u001b[K     |█████████████████▏              | 204kB 5.8MB/s eta 0:00:01\r\u001b[K     |██████████████████              | 215kB 5.8MB/s eta 0:00:01\r\u001b[K     |██████████████████▉             | 225kB 5.8MB/s eta 0:00:01\r\u001b[K     |███████████████████▊            | 235kB 5.8MB/s eta 0:00:01\r\u001b[K     |████████████████████▋           | 245kB 5.8MB/s eta 0:00:01\r\u001b[K     |█████████████████████▌          | 256kB 5.8MB/s eta 0:00:01\r\u001b[K     |██████████████████████▎         | 266kB 5.8MB/s eta 0:00:01\r\u001b[K     |███████████████████████▏        | 276kB 5.8MB/s eta 0:00:01\r\u001b[K     |████████████████████████        | 286kB 5.8MB/s eta 0:00:01\r\u001b[K     |████████████████████████▉       | 296kB 5.8MB/s eta 0:00:01\r\u001b[K     |█████████████████████████▊      | 307kB 5.8MB/s eta 0:00:01\r\u001b[K     |██████████████████████████▋     | 317kB 5.8MB/s eta 0:00:01\r\u001b[K     |███████████████████████████▌    | 327kB 5.8MB/s eta 0:00:01\r\u001b[K     |████████████████████████████▎   | 337kB 5.8MB/s eta 0:00:01\r\u001b[K     |█████████████████████████████▏  | 348kB 5.8MB/s eta 0:00:01\r\u001b[K     |██████████████████████████████  | 358kB 5.8MB/s eta 0:00:01\r\u001b[K     |███████████████████████████████ | 368kB 5.8MB/s eta 0:00:01\r\u001b[K     |███████████████████████████████▊| 378kB 5.8MB/s eta 0:00:01\r\u001b[K     |████████████████████████████████| 389kB 5.8MB/s \n",
            "\u001b[?25hCollecting wget\n",
            "  Downloading https://files.pythonhosted.org/packages/47/6a/62e288da7bcda82b935ff0c6cfe542970f04e29c756b0e147251b2fb251f/wget-3.2.zip\n",
            "Requirement already satisfied: requests<3.0,>=2.0 in /usr/local/lib/python3.6/dist-packages (from ibm_watson) (2.23.0)\n",
            "Requirement already satisfied: python_dateutil>=2.5.3 in /usr/local/lib/python3.6/dist-packages (from ibm_watson) (2.8.1)\n",
            "Collecting websocket-client==0.48.0\n",
            "\u001b[?25l  Downloading https://files.pythonhosted.org/packages/8a/a1/72ef9aa26cfe1a75cee09fc1957e4723add9de098c15719416a1ee89386b/websocket_client-0.48.0-py2.py3-none-any.whl (198kB)\n",
            "\u001b[K     |████████████████████████████████| 204kB 32.2MB/s \n",
            "\u001b[?25hCollecting ibm_cloud_sdk_core==1.7.3\n",
            "  Downloading https://files.pythonhosted.org/packages/b7/23/aa9ae242f6348a1ed28fca2e6d3e76e043c3db951f9b516e1992518fe2c3/ibm-cloud-sdk-core-1.7.3.tar.gz\n",
            "Requirement already satisfied: chardet<4,>=3.0.2 in /usr/local/lib/python3.6/dist-packages (from requests<3.0,>=2.0->ibm_watson) (3.0.4)\n",
            "Requirement already satisfied: urllib3!=1.25.0,!=1.25.1,<1.26,>=1.21.1 in /usr/local/lib/python3.6/dist-packages (from requests<3.0,>=2.0->ibm_watson) (1.24.3)\n",
            "Requirement already satisfied: idna<3,>=2.5 in /usr/local/lib/python3.6/dist-packages (from requests<3.0,>=2.0->ibm_watson) (2.10)\n",
            "Requirement already satisfied: certifi>=2017.4.17 in /usr/local/lib/python3.6/dist-packages (from requests<3.0,>=2.0->ibm_watson) (2020.12.5)\n",
            "Requirement already satisfied: six>=1.5 in /usr/local/lib/python3.6/dist-packages (from python_dateutil>=2.5.3->ibm_watson) (1.15.0)\n",
            "Collecting PyJWT>=1.7.1\n",
            "  Downloading https://files.pythonhosted.org/packages/87/8b/6a9f14b5f781697e51259d81657e6048fd31a113229cf346880bb7545565/PyJWT-1.7.1-py2.py3-none-any.whl\n",
            "Building wheels for collected packages: ibm-watson, wget, ibm-cloud-sdk-core\n",
            "  Building wheel for ibm-watson (setup.py) ... \u001b[?25l\u001b[?25hdone\n",
            "  Created wheel for ibm-watson: filename=ibm_watson-5.0.0-cp36-none-any.whl size=375162 sha256=b01031149eb2c1409756309bfcf24ac15e38da3d7ccc668bff732117b77b3908\n",
            "  Stored in directory: /root/.cache/pip/wheels/2a/f9/1d/0d00e705dd1ecf6668af2d48eec0ba87d62479080957d1bc4a\n",
            "  Building wheel for wget (setup.py) ... \u001b[?25l\u001b[?25hdone\n",
            "  Created wheel for wget: filename=wget-3.2-cp36-none-any.whl size=9681 sha256=c61fcd321845d7764ad362d0d4205e4abf5e806810e2872cca5ff276f4d233c4\n",
            "  Stored in directory: /root/.cache/pip/wheels/40/15/30/7d8f7cea2902b4db79e3fea550d7d7b85ecb27ef992b618f3f\n",
            "  Building wheel for ibm-cloud-sdk-core (setup.py) ... \u001b[?25l\u001b[?25hdone\n",
            "  Created wheel for ibm-cloud-sdk-core: filename=ibm_cloud_sdk_core-1.7.3-cp36-none-any.whl size=45945 sha256=ccb09e1baac51eb35e719b3c45903d598ff2da2605a08dbe72562d68e541d4d3\n",
            "  Stored in directory: /root/.cache/pip/wheels/34/6e/58/589e0f841c2fae9dad99630d78ddc7a60c5c7663a16a39cdbb\n",
            "Successfully built ibm-watson wget ibm-cloud-sdk-core\n",
            "Installing collected packages: websocket-client, PyJWT, ibm-cloud-sdk-core, ibm-watson, wget\n",
            "Successfully installed PyJWT-1.7.1 ibm-cloud-sdk-core-1.7.3 ibm-watson-5.0.0 websocket-client-0.48.0 wget-3.2\n"
          ],
          "name": "stdout"
        }
      ]
    },
    {
      "cell_type": "code",
      "metadata": {
        "id": "cLWgz98gGIfR"
      },
      "source": [
        "from ibm_watson import SpeechToTextV1 \r\n",
        "import json\r\n",
        "from ibm_cloud_sdk_core.authenticators import IAMAuthenticator"
      ],
      "execution_count": 114,
      "outputs": []
    },
    {
      "cell_type": "code",
      "metadata": {
        "id": "GrjTskTzGLSL",
        "outputId": "88fee060-4bb4-430d-9acd-e139d5946da1",
        "colab": {
          "base_uri": "https://localhost:8080/"
        }
      },
      "source": [
        "url_s2t = \"https://api.us-south.speech-to-text.watson.cloud.ibm.com/instances/88c7177c-6f7a-45a3-af32-f8198de2857b\"\r\n",
        "iam_apikey_s2t = \"v9afTjJoOfOP7ZKOqghiUV5A2lO-72CJckJ_IuNOjpSY\"\r\n",
        "authenticator = IAMAuthenticator(iam_apikey_s2t)\r\n",
        "s2t = SpeechToTextV1(authenticator=authenticator)\r\n",
        "s2t.set_service_url(url_s2t)\r\n",
        "s2t"
      ],
      "execution_count": 115,
      "outputs": [
        {
          "output_type": "execute_result",
          "data": {
            "text/plain": [
              "<ibm_watson.speech_to_text_v1_adapter.SpeechToTextV1Adapter at 0x7fb5cc2a3358>"
            ]
          },
          "metadata": {
            "tags": []
          },
          "execution_count": 115
        }
      ]
    },
    {
      "cell_type": "code",
      "metadata": {
        "id": "G__IfH6lGRdX",
        "outputId": "62420d25-19d2-4ae7-a3e5-0edeab1680ee",
        "colab": {
          "base_uri": "https://localhost:8080/"
        }
      },
      "source": [
        "!wget -O PolynomialRegressionandPipelines.mp3  https://s3-api.us-geo.objectstorage.softlayer.net/cf-courses-data/CognitiveClass/PY0101EN/labs/PolynomialRegressionandPipelines.mp3\r\n",
        "\r\n"
      ],
      "execution_count": 116,
      "outputs": [
        {
          "output_type": "stream",
          "text": [
            "--2020-12-16 19:49:16--  https://s3-api.us-geo.objectstorage.softlayer.net/cf-courses-data/CognitiveClass/PY0101EN/labs/PolynomialRegressionandPipelines.mp3\n",
            "Resolving s3-api.us-geo.objectstorage.softlayer.net (s3-api.us-geo.objectstorage.softlayer.net)... 67.228.254.196\n",
            "Connecting to s3-api.us-geo.objectstorage.softlayer.net (s3-api.us-geo.objectstorage.softlayer.net)|67.228.254.196|:443... connected.\n",
            "HTTP request sent, awaiting response... 200 OK\n",
            "Length: 4234179 (4.0M) [audio/mpeg]\n",
            "Saving to: ‘PolynomialRegressionandPipelines.mp3’\n",
            "\n",
            "PolynomialRegressio 100%[===================>]   4.04M  1.28MB/s    in 3.6s    \n",
            "\n",
            "2020-12-16 19:49:21 (1.12 MB/s) - ‘PolynomialRegressionandPipelines.mp3’ saved [4234179/4234179]\n",
            "\n"
          ],
          "name": "stdout"
        }
      ]
    },
    {
      "cell_type": "code",
      "metadata": {
        "id": "DhZxtvhpGX-S"
      },
      "source": [
        "filename='PolynomialRegressionandPipelines.mp3'"
      ],
      "execution_count": 117,
      "outputs": []
    },
    {
      "cell_type": "code",
      "metadata": {
        "id": "VcqUG4LvGbYm"
      },
      "source": [
        "with open(filename, mode=\"rb\")  as wav:\r\n",
        "    response = s2t.recognize(audio=wav, content_type='audio/mp3')"
      ],
      "execution_count": 118,
      "outputs": []
    },
    {
      "cell_type": "code",
      "metadata": {
        "id": "_PvHBgCBGdeS",
        "outputId": "b65fd8df-64bb-4528-ac60-3974bb3b49f1",
        "colab": {
          "base_uri": "https://localhost:8080/"
        }
      },
      "source": [
        "response.result"
      ],
      "execution_count": 119,
      "outputs": [
        {
          "output_type": "execute_result",
          "data": {
            "text/plain": [
              "{'result_index': 0,\n",
              " 'results': [{'alternatives': [{'confidence': 0.94,\n",
              "     'transcript': 'in this video we will cover polynomial regression and pipelines '}],\n",
              "   'final': True},\n",
              "  {'alternatives': [{'confidence': 0.9,\n",
              "     'transcript': \"what do we do when a linear model is not the best fit for our data let's look into another type of regression model the polynomial regression we transform our data into a polynomial then use linear regression to fit the parameters that we will discuss pipelines pipelines are way to simplify your code \"}],\n",
              "   'final': True},\n",
              "  {'alternatives': [{'confidence': 0.95,\n",
              "     'transcript': \"polynomial regression is a special case of the general linear regression this method is beneficial for describing curvilinear relationships what is a curvilinear relationship it's what you get by squaring or setting higher order terms of the predictor variables in the model transforming the data the model can be quadratic which means the predictor variable in the model is squared we use a bracket to indicated as an exponent this is the second order polynomial regression with a figure representing the function \"}],\n",
              "   'final': True},\n",
              "  {'alternatives': [{'confidence': 0.95,\n",
              "     'transcript': 'the model can be cubic which means the predictor variable is cute this is the third order polynomial regression we see by examining the figure that the function has more variation '}],\n",
              "   'final': True},\n",
              "  {'alternatives': [{'confidence': 0.91,\n",
              "     'transcript': \"there also exists higher order polynomial regressions when a good fit hasn't been achieved by second or third order we can see in figures how much the graphs change when we change the order of the polynomial regression the degree of the regression makes a big difference and can result in a better fit if you pick the right value in all cases the relationship between the variable in the parameter is always linear \"}],\n",
              "   'final': True},\n",
              "  {'alternatives': [{'confidence': 0.89,\n",
              "     'transcript': \"let's look at an example from our data we generate a polynomial regression model \"}],\n",
              "   'final': True},\n",
              "  {'alternatives': [{'confidence': 0.92,\n",
              "     'transcript': 'in python we do this by using the poly fit function in this example we develop a third order polynomial regression model base we can print out the model symbolic form for the model is given by the following expression '}],\n",
              "   'final': True},\n",
              "  {'alternatives': [{'confidence': 0.9,\n",
              "     'transcript': \"negative one point five five seven X. one cute plus two hundred four point eight X. one squared plus eight thousand nine hundred sixty five X. one plus one point three seven times ten to the power of five we can also have multi dimensional polynomial linear regression the expression can get complicated here are just some of the terms for two dimensional second order polynomial none pies poly fit function cannot perform this type of regression we use the preprocessing librarian scikit learn to create a polynomial feature object the constructor takes the degree of the polynomial as a parameter then we transform the features into a polynomial feature with the fit underscore transform method let's do a more intuitive example \"}],\n",
              "   'final': True},\n",
              "  {'alternatives': [{'confidence': 0.9,\n",
              "     'transcript': 'consider the feature shown here applying the method we transform the data we now have a new set of features that are transformed version of our original features as that I mention of the data gets larger we may want to normalize multiple features as scikit learn instead we can use the preprocessing module to simplify many tasks for example we can standardize each feature simultaneously we import standard scaler we train the object fit the scale object then transform the data into a new data frame on a rate X. underscore scale there are more normalization methods available in the pre processing library as well as other transformations we can simplify our code by using a pipeline library there are many steps to getting a prediction for example normalization polynomial transform and linear regression we simplify the process using a pipeline '}],\n",
              "   'final': True},\n",
              "  {'alternatives': [{'confidence': 0.89,\n",
              "     'transcript': 'pipeline sequentially perform a series of transformations the last step carries out a prediction first we import all the modules we need then we import the library pipeline we create a list of topples the first element in the topple contains the name of the estimator model the second element contains model constructor we input the list in the pipeline constructor we now have a pipeline object we can train the pipeline by applying the train method to the pipeline object we can also produce a prediction as well '}],\n",
              "   'final': True},\n",
              "  {'alternatives': [{'confidence': 0.89,\n",
              "     'transcript': 'the method normalizes the data performs a polynomial transform then outputs a prediction '}],\n",
              "   'final': True}]}"
            ]
          },
          "metadata": {
            "tags": []
          },
          "execution_count": 119
        }
      ]
    },
    {
      "cell_type": "code",
      "metadata": {
        "id": "37uU-7FzHMuU",
        "outputId": "661a3d82-9ea4-44cf-efbb-3143afa68b27",
        "colab": {
          "base_uri": "https://localhost:8080/",
          "height": 424
        }
      },
      "source": [
        "from pandas.io.json import json_normalize\r\n",
        "\r\n",
        "json_normalize(response.result['results'],\"alternatives\")"
      ],
      "execution_count": 120,
      "outputs": [
        {
          "output_type": "stream",
          "text": [
            "/usr/local/lib/python3.6/dist-packages/ipykernel_launcher.py:3: FutureWarning: pandas.io.json.json_normalize is deprecated, use pandas.json_normalize instead\n",
            "  This is separate from the ipykernel package so we can avoid doing imports until\n"
          ],
          "name": "stderr"
        },
        {
          "output_type": "execute_result",
          "data": {
            "text/html": [
              "<div>\n",
              "<style scoped>\n",
              "    .dataframe tbody tr th:only-of-type {\n",
              "        vertical-align: middle;\n",
              "    }\n",
              "\n",
              "    .dataframe tbody tr th {\n",
              "        vertical-align: top;\n",
              "    }\n",
              "\n",
              "    .dataframe thead th {\n",
              "        text-align: right;\n",
              "    }\n",
              "</style>\n",
              "<table border=\"1\" class=\"dataframe\">\n",
              "  <thead>\n",
              "    <tr style=\"text-align: right;\">\n",
              "      <th></th>\n",
              "      <th>transcript</th>\n",
              "      <th>confidence</th>\n",
              "    </tr>\n",
              "  </thead>\n",
              "  <tbody>\n",
              "    <tr>\n",
              "      <th>0</th>\n",
              "      <td>in this video we will cover polynomial regress...</td>\n",
              "      <td>0.94</td>\n",
              "    </tr>\n",
              "    <tr>\n",
              "      <th>1</th>\n",
              "      <td>what do we do when a linear model is not the b...</td>\n",
              "      <td>0.90</td>\n",
              "    </tr>\n",
              "    <tr>\n",
              "      <th>2</th>\n",
              "      <td>polynomial regression is a special case of the...</td>\n",
              "      <td>0.95</td>\n",
              "    </tr>\n",
              "    <tr>\n",
              "      <th>3</th>\n",
              "      <td>the model can be cubic which means the predict...</td>\n",
              "      <td>0.95</td>\n",
              "    </tr>\n",
              "    <tr>\n",
              "      <th>4</th>\n",
              "      <td>there also exists higher order polynomial regr...</td>\n",
              "      <td>0.91</td>\n",
              "    </tr>\n",
              "    <tr>\n",
              "      <th>5</th>\n",
              "      <td>let's look at an example from our data we gene...</td>\n",
              "      <td>0.89</td>\n",
              "    </tr>\n",
              "    <tr>\n",
              "      <th>6</th>\n",
              "      <td>in python we do this by using the poly fit fun...</td>\n",
              "      <td>0.92</td>\n",
              "    </tr>\n",
              "    <tr>\n",
              "      <th>7</th>\n",
              "      <td>negative one point five five seven X. one cute...</td>\n",
              "      <td>0.90</td>\n",
              "    </tr>\n",
              "    <tr>\n",
              "      <th>8</th>\n",
              "      <td>consider the feature shown here applying the m...</td>\n",
              "      <td>0.90</td>\n",
              "    </tr>\n",
              "    <tr>\n",
              "      <th>9</th>\n",
              "      <td>pipeline sequentially perform a series of tran...</td>\n",
              "      <td>0.89</td>\n",
              "    </tr>\n",
              "    <tr>\n",
              "      <th>10</th>\n",
              "      <td>the method normalizes the data performs a poly...</td>\n",
              "      <td>0.89</td>\n",
              "    </tr>\n",
              "  </tbody>\n",
              "</table>\n",
              "</div>"
            ],
            "text/plain": [
              "                                           transcript  confidence\n",
              "0   in this video we will cover polynomial regress...        0.94\n",
              "1   what do we do when a linear model is not the b...        0.90\n",
              "2   polynomial regression is a special case of the...        0.95\n",
              "3   the model can be cubic which means the predict...        0.95\n",
              "4   there also exists higher order polynomial regr...        0.91\n",
              "5   let's look at an example from our data we gene...        0.89\n",
              "6   in python we do this by using the poly fit fun...        0.92\n",
              "7   negative one point five five seven X. one cute...        0.90\n",
              "8   consider the feature shown here applying the m...        0.90\n",
              "9   pipeline sequentially perform a series of tran...        0.89\n",
              "10  the method normalizes the data performs a poly...        0.89"
            ]
          },
          "metadata": {
            "tags": []
          },
          "execution_count": 120
        }
      ]
    },
    {
      "cell_type": "code",
      "metadata": {
        "id": "beBIrJ6AHRLi",
        "outputId": "937a2fb3-826e-4db2-8766-24d643634bcf",
        "colab": {
          "base_uri": "https://localhost:8080/"
        }
      },
      "source": [
        "response"
      ],
      "execution_count": 121,
      "outputs": [
        {
          "output_type": "execute_result",
          "data": {
            "text/plain": [
              "<ibm_cloud_sdk_core.detailed_response.DetailedResponse at 0x7fb5cc2c9f98>"
            ]
          },
          "metadata": {
            "tags": []
          },
          "execution_count": 121
        }
      ]
    },
    {
      "cell_type": "code",
      "metadata": {
        "id": "qCTTV-e_HZbu",
        "outputId": "84c67ea4-fa15-4539-c21d-27f1544ef675",
        "colab": {
          "base_uri": "https://localhost:8080/"
        }
      },
      "source": [
        "recognized_text=response.result['results'][0][\"alternatives\"][0][\"transcript\"]\r\n",
        "type(recognized_text)"
      ],
      "execution_count": 122,
      "outputs": [
        {
          "output_type": "execute_result",
          "data": {
            "text/plain": [
              "str"
            ]
          },
          "metadata": {
            "tags": []
          },
          "execution_count": 122
        }
      ]
    },
    {
      "cell_type": "markdown",
      "metadata": {
        "id": "FsSZ6txqHeC5"
      },
      "source": [
        "Language translator"
      ]
    },
    {
      "cell_type": "code",
      "metadata": {
        "id": "S86WnR1LHcJU"
      },
      "source": [
        "from ibm_watson import LanguageTranslatorV3"
      ],
      "execution_count": 123,
      "outputs": []
    },
    {
      "cell_type": "code",
      "metadata": {
        "id": "UzE15XchHgf7",
        "outputId": "3f811ae9-02e5-4737-eb3b-8b024299ab6d",
        "colab": {
          "base_uri": "https://localhost:8080/"
        }
      },
      "source": [
        "url_lt='https://api.us-east.language-translator.watson.cloud.ibm.com/instances/5c4d096f-3958-429d-9e61-eb0ecbf26bc9'\r\n",
        "apikey_lt='9hb4pVEsqOE3MlCJWUBcfv2SMCLgE_wmEgPpHU-mZsMR'\r\n",
        "version_lt='2018-05-01'\r\n",
        "authenticator = IAMAuthenticator(apikey_lt)\r\n",
        "language_translator = LanguageTranslatorV3(version=version_lt,authenticator=authenticator)\r\n",
        "language_translator.set_service_url(url_lt)\r\n",
        "language_translator"
      ],
      "execution_count": 124,
      "outputs": [
        {
          "output_type": "execute_result",
          "data": {
            "text/plain": [
              "<ibm_watson.language_translator_v3.LanguageTranslatorV3 at 0x7fb5cbd3b9e8>"
            ]
          },
          "metadata": {
            "tags": []
          },
          "execution_count": 124
        }
      ]
    },
    {
      "cell_type": "code",
      "metadata": {
        "id": "3Ssjh_QsHoHt",
        "outputId": "5130cd23-7da5-41fa-8677-5d50615cf429",
        "colab": {
          "base_uri": "https://localhost:8080/",
          "height": 453
        }
      },
      "source": [
        "from pandas.io.json import json_normalize\r\n",
        "\r\n",
        "json_normalize(language_translator.list_identifiable_languages().get_result(), \"languages\")"
      ],
      "execution_count": 125,
      "outputs": [
        {
          "output_type": "stream",
          "text": [
            "/usr/local/lib/python3.6/dist-packages/ipykernel_launcher.py:3: FutureWarning: pandas.io.json.json_normalize is deprecated, use pandas.json_normalize instead\n",
            "  This is separate from the ipykernel package so we can avoid doing imports until\n"
          ],
          "name": "stderr"
        },
        {
          "output_type": "execute_result",
          "data": {
            "text/html": [
              "<div>\n",
              "<style scoped>\n",
              "    .dataframe tbody tr th:only-of-type {\n",
              "        vertical-align: middle;\n",
              "    }\n",
              "\n",
              "    .dataframe tbody tr th {\n",
              "        vertical-align: top;\n",
              "    }\n",
              "\n",
              "    .dataframe thead th {\n",
              "        text-align: right;\n",
              "    }\n",
              "</style>\n",
              "<table border=\"1\" class=\"dataframe\">\n",
              "  <thead>\n",
              "    <tr style=\"text-align: right;\">\n",
              "      <th></th>\n",
              "      <th>language</th>\n",
              "      <th>name</th>\n",
              "    </tr>\n",
              "  </thead>\n",
              "  <tbody>\n",
              "    <tr>\n",
              "      <th>0</th>\n",
              "      <td>af</td>\n",
              "      <td>Afrikaans</td>\n",
              "    </tr>\n",
              "    <tr>\n",
              "      <th>1</th>\n",
              "      <td>ar</td>\n",
              "      <td>Arabic</td>\n",
              "    </tr>\n",
              "    <tr>\n",
              "      <th>2</th>\n",
              "      <td>az</td>\n",
              "      <td>Azerbaijani</td>\n",
              "    </tr>\n",
              "    <tr>\n",
              "      <th>3</th>\n",
              "      <td>ba</td>\n",
              "      <td>Bashkir</td>\n",
              "    </tr>\n",
              "    <tr>\n",
              "      <th>4</th>\n",
              "      <td>be</td>\n",
              "      <td>Belarusian</td>\n",
              "    </tr>\n",
              "    <tr>\n",
              "      <th>...</th>\n",
              "      <td>...</td>\n",
              "      <td>...</td>\n",
              "    </tr>\n",
              "    <tr>\n",
              "      <th>71</th>\n",
              "      <td>uk</td>\n",
              "      <td>Ukrainian</td>\n",
              "    </tr>\n",
              "    <tr>\n",
              "      <th>72</th>\n",
              "      <td>ur</td>\n",
              "      <td>Urdu</td>\n",
              "    </tr>\n",
              "    <tr>\n",
              "      <th>73</th>\n",
              "      <td>vi</td>\n",
              "      <td>Vietnamese</td>\n",
              "    </tr>\n",
              "    <tr>\n",
              "      <th>74</th>\n",
              "      <td>zh</td>\n",
              "      <td>Simplified Chinese</td>\n",
              "    </tr>\n",
              "    <tr>\n",
              "      <th>75</th>\n",
              "      <td>zh-TW</td>\n",
              "      <td>Traditional Chinese</td>\n",
              "    </tr>\n",
              "  </tbody>\n",
              "</table>\n",
              "<p>76 rows × 2 columns</p>\n",
              "</div>"
            ],
            "text/plain": [
              "   language                 name\n",
              "0        af            Afrikaans\n",
              "1        ar               Arabic\n",
              "2        az          Azerbaijani\n",
              "3        ba              Bashkir\n",
              "4        be           Belarusian\n",
              "..      ...                  ...\n",
              "71       uk            Ukrainian\n",
              "72       ur                 Urdu\n",
              "73       vi           Vietnamese\n",
              "74       zh   Simplified Chinese\n",
              "75    zh-TW  Traditional Chinese\n",
              "\n",
              "[76 rows x 2 columns]"
            ]
          },
          "metadata": {
            "tags": []
          },
          "execution_count": 125
        }
      ]
    },
    {
      "cell_type": "code",
      "metadata": {
        "id": "pKWmu5STHqxK",
        "outputId": "3bde095e-29d9-402b-f612-7551bb8c1ee2",
        "colab": {
          "base_uri": "https://localhost:8080/"
        }
      },
      "source": [
        "translation_response = language_translator.translate(\\\r\n",
        "    text=recognized_text, model_id='en-pt')\r\n",
        "translation_response"
      ],
      "execution_count": 127,
      "outputs": [
        {
          "output_type": "execute_result",
          "data": {
            "text/plain": [
              "<ibm_cloud_sdk_core.detailed_response.DetailedResponse at 0x7fb5d5f5b7b8>"
            ]
          },
          "metadata": {
            "tags": []
          },
          "execution_count": 127
        }
      ]
    },
    {
      "cell_type": "code",
      "metadata": {
        "id": "XX15HpjNHt4X",
        "outputId": "c33119da-7062-4e6c-edab-7d4fc39d3957",
        "colab": {
          "base_uri": "https://localhost:8080/"
        }
      },
      "source": [
        "translation=translation_response.get_result()\r\n",
        "translation"
      ],
      "execution_count": 128,
      "outputs": [
        {
          "output_type": "execute_result",
          "data": {
            "text/plain": [
              "{'character_count': 64,\n",
              " 'translations': [{'translation': 'neste vídeo vamos cobrir regressão polinomial e dutos '}],\n",
              " 'word_count': 10}"
            ]
          },
          "metadata": {
            "tags": []
          },
          "execution_count": 128
        }
      ]
    },
    {
      "cell_type": "code",
      "metadata": {
        "id": "1gd7vb9nHyNB",
        "outputId": "0e5af212-6365-4457-88bc-13ba602ca90f",
        "colab": {
          "base_uri": "https://localhost:8080/",
          "height": 35
        }
      },
      "source": [
        "port_translation =translation['translations'][0]['translation']\r\n",
        "port_translation "
      ],
      "execution_count": 129,
      "outputs": [
        {
          "output_type": "execute_result",
          "data": {
            "application/vnd.google.colaboratory.intrinsic+json": {
              "type": "string"
            },
            "text/plain": [
              "'neste vídeo vamos cobrir regressão polinomial e dutos '"
            ]
          },
          "metadata": {
            "tags": []
          },
          "execution_count": 129
        }
      ]
    },
    {
      "cell_type": "code",
      "metadata": {
        "id": "hyaClzImH4m8"
      },
      "source": [
        "translation_new = language_translator.translate(text=port_translation ,model_id='pt-en').get_result()"
      ],
      "execution_count": 132,
      "outputs": []
    },
    {
      "cell_type": "code",
      "metadata": {
        "id": "RcPB0yz3H-sq",
        "outputId": "cd84407a-b713-4f49-a0ef-3ffdf3622016",
        "colab": {
          "base_uri": "https://localhost:8080/",
          "height": 35
        }
      },
      "source": [
        "translation_eng=translation_new['translations'][0]['translation']\r\n",
        "translation_eng"
      ],
      "execution_count": 133,
      "outputs": [
        {
          "output_type": "execute_result",
          "data": {
            "application/vnd.google.colaboratory.intrinsic+json": {
              "type": "string"
            },
            "text/plain": [
              "'in this video we will cover polynomial regression and ducts '"
            ]
          },
          "metadata": {
            "tags": []
          },
          "execution_count": 133
        }
      ]
    },
    {
      "cell_type": "markdown",
      "metadata": {
        "id": "gWIJYS_aJMUa"
      },
      "source": [
        "#Module 5"
      ]
    },
    {
      "cell_type": "markdown",
      "metadata": {
        "id": "jCJ8mfNTJPVf"
      },
      "source": [
        "##Numpy"
      ]
    },
    {
      "cell_type": "markdown",
      "metadata": {
        "id": "tgj4ezkQK7hF"
      },
      "source": [
        "cast the following list to a numpy array:"
      ]
    },
    {
      "cell_type": "code",
      "metadata": {
        "id": "-JgTZdwJIExg"
      },
      "source": [
        "import numpy as np\r\n",
        "a=[1,2,3,4,5]"
      ],
      "execution_count": 134,
      "outputs": []
    },
    {
      "cell_type": "code",
      "metadata": {
        "id": "YWlwXxNSK50L"
      },
      "source": [
        "a=np.array(a)"
      ],
      "execution_count": 135,
      "outputs": []
    },
    {
      "cell_type": "code",
      "metadata": {
        "id": "S9YNW8AAK_5T",
        "outputId": "a9880cef-e334-4baf-e8c2-4337abb16e03",
        "colab": {
          "base_uri": "https://localhost:8080/"
        }
      },
      "source": [
        "type(a)"
      ],
      "execution_count": 137,
      "outputs": [
        {
          "output_type": "execute_result",
          "data": {
            "text/plain": [
              "numpy.ndarray"
            ]
          },
          "metadata": {
            "tags": []
          },
          "execution_count": 137
        }
      ]
    },
    {
      "cell_type": "code",
      "metadata": {
        "id": "Q4zcK8nDLAXK",
        "outputId": "fb667fdf-b9ed-4064-809c-d652549ab187",
        "colab": {
          "base_uri": "https://localhost:8080/"
        }
      },
      "source": [
        "a.shape"
      ],
      "execution_count": 138,
      "outputs": [
        {
          "output_type": "execute_result",
          "data": {
            "text/plain": [
              "(5,)"
            ]
          },
          "metadata": {
            "tags": []
          },
          "execution_count": 138
        }
      ]
    },
    {
      "cell_type": "code",
      "metadata": {
        "id": "4tGzdvgULJEi",
        "outputId": "54ce91f6-969e-426b-9897-dc81088e52fc",
        "colab": {
          "base_uri": "https://localhost:8080/"
        }
      },
      "source": [
        "a.dtype"
      ],
      "execution_count": 140,
      "outputs": [
        {
          "output_type": "execute_result",
          "data": {
            "text/plain": [
              "dtype('int64')"
            ]
          },
          "metadata": {
            "tags": []
          },
          "execution_count": 140
        }
      ]
    },
    {
      "cell_type": "code",
      "metadata": {
        "id": "tFFbYPwcLnDF",
        "outputId": "f4538d47-fc55-496e-d989-2a66a408a29b",
        "colab": {
          "base_uri": "https://localhost:8080/"
        }
      },
      "source": [
        "a.mean()"
      ],
      "execution_count": 141,
      "outputs": [
        {
          "output_type": "execute_result",
          "data": {
            "text/plain": [
              "3.0"
            ]
          },
          "metadata": {
            "tags": []
          },
          "execution_count": 141
        }
      ]
    },
    {
      "cell_type": "markdown",
      "metadata": {
        "id": "U5w1NfESLxnz"
      },
      "source": [
        "1) create the following functions using the numpy array  x "
      ]
    },
    {
      "cell_type": "code",
      "metadata": {
        "id": "FqyDmI9gLrMZ"
      },
      "source": [
        "x=np.linspace(0,2*np.pi,100)\r\n",
        "𝑦=np.𝑠𝑖𝑛(𝑥)+2"
      ],
      "execution_count": 143,
      "outputs": []
    },
    {
      "cell_type": "markdown",
      "metadata": {
        "id": "XZqwEAh6MEKh"
      },
      "source": [
        "2) plot the function"
      ]
    },
    {
      "cell_type": "code",
      "metadata": {
        "id": "aVfvrjbLL14I"
      },
      "source": [
        "import matplotlib.pyplot as plt\r\n",
        "%matplotlib inline  "
      ],
      "execution_count": null,
      "outputs": []
    },
    {
      "cell_type": "code",
      "metadata": {
        "id": "lXnzlq9LMGrA",
        "outputId": "7021bd9c-0c48-4ba7-fa05-6bfcf06c4ee5",
        "colab": {
          "base_uri": "https://localhost:8080/",
          "height": 282
        }
      },
      "source": [
        "plt.plot(x,y)"
      ],
      "execution_count": 144,
      "outputs": [
        {
          "output_type": "execute_result",
          "data": {
            "text/plain": [
              "[<matplotlib.lines.Line2D at 0x7fb5cb849828>]"
            ]
          },
          "metadata": {
            "tags": []
          },
          "execution_count": 144
        },
        {
          "output_type": "display_data",
          "data": {
            "image/png": "[encoded data removed]",
            "text/plain": [
              "<Figure size 432x288 with 1 Axes>"
            ]
          },
          "metadata": {
            "tags": [],
            "needs_background": "light"
          }
        }
      ]
    },
    {
      "cell_type": "markdown",
      "metadata": {
        "id": "Wif-0jaGMSEO"
      },
      "source": [
        "What is the result of the following operation"
      ]
    },
    {
      "cell_type": "code",
      "metadata": {
        "id": "z4umlS0eMJK4",
        "outputId": "0c0c5bab-a904-4cda-eb91-540a87367572",
        "colab": {
          "base_uri": "https://localhost:8080/"
        }
      },
      "source": [
        "np.array([1,-1])*np.array([1,1])"
      ],
      "execution_count": 145,
      "outputs": [
        {
          "output_type": "execute_result",
          "data": {
            "text/plain": [
              "array([ 1, -1])"
            ]
          },
          "metadata": {
            "tags": []
          },
          "execution_count": 145
        }
      ]
    },
    {
      "cell_type": "markdown",
      "metadata": {
        "id": "nZ93_pXmMYaT"
      },
      "source": [
        "What is the result of the following operation"
      ]
    },
    {
      "cell_type": "code",
      "metadata": {
        "id": "ipzREsymMT2b",
        "outputId": "668c4857-1629-48a7-fb99-224c869bf0f5",
        "colab": {
          "base_uri": "https://localhost:8080/"
        }
      },
      "source": [
        "np.dot(np.array([1,-1]),np.array([1,1]))"
      ],
      "execution_count": 146,
      "outputs": [
        {
          "output_type": "execute_result",
          "data": {
            "text/plain": [
              "0"
            ]
          },
          "metadata": {
            "tags": []
          },
          "execution_count": 146
        }
      ]
    },
    {
      "cell_type": "markdown",
      "metadata": {
        "id": "DywJL5dvMthb"
      },
      "source": [
        "###Lab Numpy"
      ]
    },
    {
      "cell_type": "code",
      "metadata": {
        "id": "eGxBOjYJMafG"
      },
      "source": [
        "# Import the libraries\r\n",
        "\r\n",
        "import time \r\n",
        "import sys\r\n",
        "import numpy as np \r\n",
        "\r\n",
        "import matplotlib.pyplot as plt\r\n",
        "%matplotlib inline  "
      ],
      "execution_count": 147,
      "outputs": []
    },
    {
      "cell_type": "code",
      "metadata": {
        "id": "f22qwaFKMvzJ"
      },
      "source": [
        "# Plotting functions\r\n",
        "\r\n",
        "def Plotvec1(u, z, v):\r\n",
        "    \r\n",
        "    ax = plt.axes()\r\n",
        "    ax.arrow(0, 0, *u, head_width=0.05, color='r', head_length=0.1)\r\n",
        "    plt.text(*(u + 0.1), 'u')\r\n",
        "    \r\n",
        "    ax.arrow(0, 0, *v, head_width=0.05, color='b', head_length=0.1)\r\n",
        "    plt.text(*(v + 0.1), 'v')\r\n",
        "    ax.arrow(0, 0, *z, head_width=0.05, head_length=0.1)\r\n",
        "    plt.text(*(z + 0.1), 'z')\r\n",
        "    plt.ylim(-2, 2)\r\n",
        "    plt.xlim(-2, 2)\r\n",
        "\r\n",
        "def Plotvec2(a,b):\r\n",
        "    ax = plt.axes()\r\n",
        "    ax.arrow(0, 0, *a, head_width=0.05, color ='r', head_length=0.1)\r\n",
        "    plt.text(*(a + 0.1), 'a')\r\n",
        "    ax.arrow(0, 0, *b, head_width=0.05, color ='b', head_length=0.1)\r\n",
        "    plt.text(*(b + 0.1), 'b')\r\n",
        "    plt.ylim(-2, 2)\r\n",
        "    plt.xlim(-2, 2)"
      ],
      "execution_count": 148,
      "outputs": []
    },
    {
      "cell_type": "code",
      "metadata": {
        "id": "o3gGcm0dMzro"
      },
      "source": [
        "# Create a python list\r\n",
        "\r\n",
        "a = [\"0\", 1, \"two\", \"3\", 4]"
      ],
      "execution_count": 149,
      "outputs": []
    },
    {
      "cell_type": "markdown",
      "metadata": {
        "id": "PtmptP7ePmgA"
      },
      "source": [
        "####2D numpy arrays\r\n"
      ]
    },
    {
      "cell_type": "markdown",
      "metadata": {
        "id": "umNjK5QiPs5Q"
      },
      "source": [
        "how many rows is the following numpy array:"
      ]
    },
    {
      "cell_type": "code",
      "metadata": {
        "id": "6BiaxFa9M2My",
        "outputId": "bb9235c7-8a0a-4b05-e03d-de18cde1ebb7",
        "colab": {
          "base_uri": "https://localhost:8080/"
        }
      },
      "source": [
        "A=np.array([[1,2],[3,4],[5,6],[7,8]])\r\n",
        "A.shape"
      ],
      "execution_count": 151,
      "outputs": [
        {
          "output_type": "execute_result",
          "data": {
            "text/plain": [
              "(4, 2)"
            ]
          },
          "metadata": {
            "tags": []
          },
          "execution_count": 151
        }
      ]
    },
    {
      "cell_type": "markdown",
      "metadata": {
        "id": "llEOUKgeP4OV"
      },
      "source": [
        "Can you perform the following operation : No - number of columns in the first array is different from the number of rows of the second array"
      ]
    },
    {
      "cell_type": "code",
      "metadata": {
        "id": "beeIqMSTPv9E",
        "outputId": "f4bff7fe-3fbe-4011-a9db-9e486e3d4c66",
        "colab": {
          "base_uri": "https://localhost:8080/",
          "height": 231
        }
      },
      "source": [
        "A=np.array([[1,2],[3,4],[5,6],[7,8]])\r\n",
        "\r\n",
        "B=np.array([[1,2,3],[4,5,6],[7,8,9]])\r\n",
        "\r\n",
        "np.dot(A,B)"
      ],
      "execution_count": 152,
      "outputs": [
        {
          "output_type": "error",
          "ename": "ValueError",
          "evalue": "ignored",
          "traceback": [
            "\u001b[0;31m---------------------------------------------------------------------------\u001b[0m",
            "\u001b[0;31mValueError\u001b[0m                                Traceback (most recent call last)",
            "\u001b[0;32m<ipython-input-152-940f499fdc90>\u001b[0m in \u001b[0;36m<module>\u001b[0;34m()\u001b[0m\n\u001b[1;32m      3\u001b[0m \u001b[0mB\u001b[0m\u001b[0;34m=\u001b[0m\u001b[0mnp\u001b[0m\u001b[0;34m.\u001b[0m\u001b[0marray\u001b[0m\u001b[0;34m(\u001b[0m\u001b[0;34m[\u001b[0m\u001b[0;34m[\u001b[0m\u001b[0;36m1\u001b[0m\u001b[0;34m,\u001b[0m\u001b[0;36m2\u001b[0m\u001b[0;34m,\u001b[0m\u001b[0;36m3\u001b[0m\u001b[0;34m]\u001b[0m\u001b[0;34m,\u001b[0m\u001b[0;34m[\u001b[0m\u001b[0;36m4\u001b[0m\u001b[0;34m,\u001b[0m\u001b[0;36m5\u001b[0m\u001b[0;34m,\u001b[0m\u001b[0;36m6\u001b[0m\u001b[0;34m]\u001b[0m\u001b[0;34m,\u001b[0m\u001b[0;34m[\u001b[0m\u001b[0;36m7\u001b[0m\u001b[0;34m,\u001b[0m\u001b[0;36m8\u001b[0m\u001b[0;34m,\u001b[0m\u001b[0;36m9\u001b[0m\u001b[0;34m]\u001b[0m\u001b[0;34m]\u001b[0m\u001b[0;34m)\u001b[0m\u001b[0;34m\u001b[0m\u001b[0;34m\u001b[0m\u001b[0m\n\u001b[1;32m      4\u001b[0m \u001b[0;34m\u001b[0m\u001b[0m\n\u001b[0;32m----> 5\u001b[0;31m \u001b[0mnp\u001b[0m\u001b[0;34m.\u001b[0m\u001b[0mdot\u001b[0m\u001b[0;34m(\u001b[0m\u001b[0mA\u001b[0m\u001b[0;34m,\u001b[0m\u001b[0mB\u001b[0m\u001b[0;34m)\u001b[0m\u001b[0;34m\u001b[0m\u001b[0;34m\u001b[0m\u001b[0m\n\u001b[0m",
            "\u001b[0;32m<__array_function__ internals>\u001b[0m in \u001b[0;36mdot\u001b[0;34m(*args, **kwargs)\u001b[0m\n",
            "\u001b[0;31mValueError\u001b[0m: shapes (4,2) and (3,3) not aligned: 2 (dim 1) != 3 (dim 0)"
          ]
        }
      ]
    },
    {
      "cell_type": "markdown",
      "metadata": {
        "id": "hYfqIdGgQWId"
      },
      "source": [
        "what is the result of the following lines of code:"
      ]
    },
    {
      "cell_type": "code",
      "metadata": {
        "id": "8_bLGsdJP6No",
        "outputId": "6dc43e5d-1828-4203-b836-709fcacdb47b",
        "colab": {
          "base_uri": "https://localhost:8080/"
        }
      },
      "source": [
        "a=np.array([0,1,0,1,0])\r\n",
        "\r\n",
        "b=np.array([1,0,1,0,1])\r\n",
        "\r\n",
        "a*b"
      ],
      "execution_count": 153,
      "outputs": [
        {
          "output_type": "execute_result",
          "data": {
            "text/plain": [
              "array([0, 0, 0, 0, 0])"
            ]
          },
          "metadata": {
            "tags": []
          },
          "execution_count": 153
        }
      ]
    },
    {
      "cell_type": "markdown",
      "metadata": {
        "id": "DdrK2NSLQcyy"
      },
      "source": [
        "what is the result of the following lines of code:"
      ]
    },
    {
      "cell_type": "code",
      "metadata": {
        "id": "6KY1YKRNQYR-",
        "outputId": "e1f5fb8b-9aca-43e9-c702-a977d70756eb",
        "colab": {
          "base_uri": "https://localhost:8080/"
        }
      },
      "source": [
        "a=np.array([0,1])\r\n",
        "\r\n",
        "b=np.array([1,0])\r\n",
        "\r\n",
        "np.dot(a,b)"
      ],
      "execution_count": 154,
      "outputs": [
        {
          "output_type": "execute_result",
          "data": {
            "text/plain": [
              "0"
            ]
          },
          "metadata": {
            "tags": []
          },
          "execution_count": 154
        }
      ]
    },
    {
      "cell_type": "markdown",
      "metadata": {
        "id": "gPOyobJ5QiYN"
      },
      "source": [
        "what is the result of the following lines of code:"
      ]
    },
    {
      "cell_type": "code",
      "metadata": {
        "id": "zLUkGeMvQelT",
        "outputId": "3d31c4db-fa10-4b5a-a60d-00c2ebd0bebe",
        "colab": {
          "base_uri": "https://localhost:8080/"
        }
      },
      "source": [
        "a=np.array([1,1,1,1,1])\r\n",
        "\r\n",
        "a+10"
      ],
      "execution_count": 155,
      "outputs": [
        {
          "output_type": "execute_result",
          "data": {
            "text/plain": [
              "array([11, 11, 11, 11, 11])"
            ]
          },
          "metadata": {
            "tags": []
          },
          "execution_count": 155
        }
      ]
    },
    {
      "cell_type": "markdown",
      "metadata": {
        "id": "2RUy2KUcQnXn"
      },
      "source": [
        "what is the correct code to perform matrix multiplication on the matrix A and B"
      ]
    },
    {
      "cell_type": "code",
      "metadata": {
        "id": "e44B6YfKQj8q"
      },
      "source": [
        ""
      ],
      "execution_count": null,
      "outputs": []
    },
    {
      "cell_type": "markdown",
      "metadata": {
        "id": "GWmEzJPKRs5E"
      },
      "source": [
        "#Final"
      ]
    },
    {
      "cell_type": "code",
      "metadata": {
        "id": "gcfK9aUFRsQU",
        "outputId": "71bf2f5d-4040-45bd-9a8e-0fd6c1ce352a",
        "colab": {
          "base_uri": "https://localhost:8080/"
        }
      },
      "source": [
        "3+2*2"
      ],
      "execution_count": 156,
      "outputs": [
        {
          "output_type": "execute_result",
          "data": {
            "text/plain": [
              "7"
            ]
          },
          "metadata": {
            "tags": []
          },
          "execution_count": 156
        }
      ]
    },
    {
      "cell_type": "code",
      "metadata": {
        "id": "-4hHXayVR1lM",
        "outputId": "62556ec3-6e9f-4d34-f857-62d708d68520",
        "colab": {
          "base_uri": "https://localhost:8080/"
        }
      },
      "source": [
        "int(3.2)"
      ],
      "execution_count": 158,
      "outputs": [
        {
          "output_type": "execute_result",
          "data": {
            "text/plain": [
              "3"
            ]
          },
          "metadata": {
            "tags": []
          },
          "execution_count": 158
        }
      ]
    },
    {
      "cell_type": "code",
      "metadata": {
        "id": "gnHAfqyVR5xu",
        "outputId": "10384c43-53d1-4b83-d143-86319571071c",
        "colab": {
          "base_uri": "https://localhost:8080/",
          "height": 35
        }
      },
      "source": [
        "A='1234567'\r\n",
        "A[1::2]"
      ],
      "execution_count": 159,
      "outputs": [
        {
          "output_type": "execute_result",
          "data": {
            "application/vnd.google.colaboratory.intrinsic+json": {
              "type": "string"
            },
            "text/plain": [
              "'246'"
            ]
          },
          "metadata": {
            "tags": []
          },
          "execution_count": 159
        }
      ]
    },
    {
      "cell_type": "code",
      "metadata": {
        "id": "ZXHBRwA9SDky"
      },
      "source": [
        "Name=\"Michael Jackson\""
      ],
      "execution_count": 160,
      "outputs": []
    },
    {
      "cell_type": "code",
      "metadata": {
        "id": "Z_pVZps_SHTJ",
        "outputId": "ba948aa7-63ac-4fa7-d4ac-0947bb5337cc",
        "colab": {
          "base_uri": "https://localhost:8080/"
        }
      },
      "source": [
        "Name.find('el')"
      ],
      "execution_count": 161,
      "outputs": [
        {
          "output_type": "execute_result",
          "data": {
            "text/plain": [
              "5"
            ]
          },
          "metadata": {
            "tags": []
          },
          "execution_count": 161
        }
      ]
    },
    {
      "cell_type": "code",
      "metadata": {
        "id": "7mufDGykSI_g"
      },
      "source": [
        "A='1'\r\n",
        "B='2'"
      ],
      "execution_count": 162,
      "outputs": []
    },
    {
      "cell_type": "code",
      "metadata": {
        "id": "ocnT5K7_SQ-5",
        "outputId": "95ed9e15-1646-4133-f633-09fb2fab527b",
        "colab": {
          "base_uri": "https://localhost:8080/",
          "height": 35
        }
      },
      "source": [
        "A+B"
      ],
      "execution_count": 163,
      "outputs": [
        {
          "output_type": "execute_result",
          "data": {
            "application/vnd.google.colaboratory.intrinsic+json": {
              "type": "string"
            },
            "text/plain": [
              "'12'"
            ]
          },
          "metadata": {
            "tags": []
          },
          "execution_count": 163
        }
      ]
    },
    {
      "cell_type": "code",
      "metadata": {
        "id": "mYcHGweTSSZs"
      },
      "source": [
        "F=\"You are wrong\""
      ],
      "execution_count": 164,
      "outputs": []
    },
    {
      "cell_type": "code",
      "metadata": {
        "id": "jidZX5S7SVec",
        "outputId": "3813d8ce-1b3d-49a2-c03b-cb383cc8a3cf",
        "colab": {
          "base_uri": "https://localhost:8080/",
          "height": 35
        }
      },
      "source": [
        "F.upper()"
      ],
      "execution_count": 165,
      "outputs": [
        {
          "output_type": "execute_result",
          "data": {
            "application/vnd.google.colaboratory.intrinsic+json": {
              "type": "string"
            },
            "text/plain": [
              "'YOU ARE WRONG'"
            ]
          },
          "metadata": {
            "tags": []
          },
          "execution_count": 165
        }
      ]
    },
    {
      "cell_type": "code",
      "metadata": {
        "id": "pzDK_qnFSYLw"
      },
      "source": [
        "tuple1=(\"A\",\"B\",\"C\" )"
      ],
      "execution_count": 166,
      "outputs": []
    },
    {
      "cell_type": "code",
      "metadata": {
        "id": "-rcu-epfScPk",
        "outputId": "150f5a5c-105e-4476-c759-874cea450f29",
        "colab": {
          "base_uri": "https://localhost:8080/",
          "height": 35
        }
      },
      "source": [
        "tuple1[-1]"
      ],
      "execution_count": 167,
      "outputs": [
        {
          "output_type": "execute_result",
          "data": {
            "application/vnd.google.colaboratory.intrinsic+json": {
              "type": "string"
            },
            "text/plain": [
              "'C'"
            ]
          },
          "metadata": {
            "tags": []
          },
          "execution_count": 167
        }
      ]
    },
    {
      "cell_type": "code",
      "metadata": {
        "id": "6pNCQqnsSeOy"
      },
      "source": [
        "A=((11,12),[21,22])"
      ],
      "execution_count": 168,
      "outputs": []
    },
    {
      "cell_type": "code",
      "metadata": {
        "id": "gYwm60NiShky",
        "outputId": "b06267bb-01cd-47c2-b97d-9c4c73d21397",
        "colab": {
          "base_uri": "https://localhost:8080/"
        }
      },
      "source": [
        "A[1]"
      ],
      "execution_count": 169,
      "outputs": [
        {
          "output_type": "execute_result",
          "data": {
            "text/plain": [
              "[21, 22]"
            ]
          },
          "metadata": {
            "tags": []
          },
          "execution_count": 169
        }
      ]
    },
    {
      "cell_type": "code",
      "metadata": {
        "id": "6jiJlGPVSkM1"
      },
      "source": [
        "A=((11,12),[21,22])"
      ],
      "execution_count": 170,
      "outputs": []
    },
    {
      "cell_type": "code",
      "metadata": {
        "id": "suh6HwmMSpVn",
        "outputId": "b752cadf-5929-4277-e144-8ef9980ed8ab",
        "colab": {
          "base_uri": "https://localhost:8080/"
        }
      },
      "source": [
        "A[0][1]"
      ],
      "execution_count": 171,
      "outputs": [
        {
          "output_type": "execute_result",
          "data": {
            "text/plain": [
              "12"
            ]
          },
          "metadata": {
            "tags": []
          },
          "execution_count": 171
        }
      ]
    },
    {
      "cell_type": "code",
      "metadata": {
        "id": "mkoj6vRVSrjB",
        "outputId": "080549a2-9546-49dc-fd28-fd2d3c57e375",
        "colab": {
          "base_uri": "https://localhost:8080/"
        }
      },
      "source": [
        "'1,2,3,4'.split(',')"
      ],
      "execution_count": 172,
      "outputs": [
        {
          "output_type": "execute_result",
          "data": {
            "text/plain": [
              "['1', '2', '3', '4']"
            ]
          },
          "metadata": {
            "tags": []
          },
          "execution_count": 172
        }
      ]
    },
    {
      "cell_type": "code",
      "metadata": {
        "id": "2_egM-OMSvci",
        "outputId": "9d3f0c6e-2f1e-4a26-bfcd-9cabb1d26063",
        "colab": {
          "base_uri": "https://localhost:8080/"
        }
      },
      "source": [
        "A=[1,'a']\r\n",
        "B=[2,1,'d']\r\n",
        "A+B"
      ],
      "execution_count": 173,
      "outputs": [
        {
          "output_type": "execute_result",
          "data": {
            "text/plain": [
              "[1, 'a', 2, 1, 'd']"
            ]
          },
          "metadata": {
            "tags": []
          },
          "execution_count": 173
        }
      ]
    },
    {
      "cell_type": "code",
      "metadata": {
        "id": "oNKV-NZfS3NX"
      },
      "source": [
        "V={'A','B'}"
      ],
      "execution_count": 174,
      "outputs": []
    },
    {
      "cell_type": "code",
      "metadata": {
        "id": "B8W_PoAVTAfc"
      },
      "source": [
        "V.add('C')"
      ],
      "execution_count": 175,
      "outputs": []
    },
    {
      "cell_type": "code",
      "metadata": {
        "id": "osR34STYTCSl",
        "outputId": "8d3e7dcd-f273-489c-a229-f3e7e9cc995e",
        "colab": {
          "base_uri": "https://localhost:8080/"
        }
      },
      "source": [
        "V"
      ],
      "execution_count": 176,
      "outputs": [
        {
          "output_type": "execute_result",
          "data": {
            "text/plain": [
              "{'A', 'B', 'C'}"
            ]
          },
          "metadata": {
            "tags": []
          },
          "execution_count": 176
        }
      ]
    },
    {
      "cell_type": "code",
      "metadata": {
        "id": "l8Wt3ykUTDEc"
      },
      "source": [
        "V={'A','B','C' }"
      ],
      "execution_count": 177,
      "outputs": []
    },
    {
      "cell_type": "code",
      "metadata": {
        "id": "elHdbrlSTHQs"
      },
      "source": [
        "V.add('C')"
      ],
      "execution_count": 178,
      "outputs": []
    },
    {
      "cell_type": "code",
      "metadata": {
        "id": "LK0injMiTJSl",
        "outputId": "6b1ab60e-2486-4bae-ca12-d6ca0078c5d2",
        "colab": {
          "base_uri": "https://localhost:8080/"
        }
      },
      "source": [
        "V"
      ],
      "execution_count": 179,
      "outputs": [
        {
          "output_type": "execute_result",
          "data": {
            "text/plain": [
              "{'A', 'B', 'C'}"
            ]
          },
          "metadata": {
            "tags": []
          },
          "execution_count": 179
        }
      ]
    },
    {
      "cell_type": "code",
      "metadata": {
        "id": "xVDk6cCrTKJY",
        "outputId": "0930d706-9d97-4b78-a4aa-b3c853f9c7fd",
        "colab": {
          "base_uri": "https://localhost:8080/"
        }
      },
      "source": [
        "x=\"Go\"\r\n",
        "\r\n",
        "if(x!=\"Go\"):\r\n",
        "\r\n",
        "  print('Stop')\r\n",
        "\r\n",
        "else:\r\n",
        "\r\n",
        "  print('Go ')\r\n",
        "\r\n",
        "print('Mike')"
      ],
      "execution_count": 180,
      "outputs": [
        {
          "output_type": "stream",
          "text": [
            "Go \n",
            "Mike\n"
          ],
          "name": "stdout"
        }
      ]
    },
    {
      "cell_type": "code",
      "metadata": {
        "id": "eD-L0iV3TQYB",
        "outputId": "efc54320-1c49-4472-977a-ea1873597f01",
        "colab": {
          "base_uri": "https://localhost:8080/"
        }
      },
      "source": [
        "x=\"Go\"\r\n",
        "\r\n",
        "if(x==\"Go\"):\r\n",
        "\r\n",
        "  print('Go ')\r\n",
        "\r\n",
        "else:\r\n",
        "\r\n",
        "  print('Stop')\r\n",
        "\r\n",
        "print('Mike')"
      ],
      "execution_count": 182,
      "outputs": [
        {
          "output_type": "stream",
          "text": [
            "Go \n",
            "Mike\n"
          ],
          "name": "stdout"
        }
      ]
    },
    {
      "cell_type": "code",
      "metadata": {
        "id": "5kgrYdHhTVwQ",
        "outputId": "139a44d7-fdb9-42bb-ed82-dc6042742b2a",
        "colab": {
          "base_uri": "https://localhost:8080/"
        }
      },
      "source": [
        "for n in range(3):\r\n",
        "\r\n",
        "  print(n)"
      ],
      "execution_count": 183,
      "outputs": [
        {
          "output_type": "stream",
          "text": [
            "0\n",
            "1\n",
            "2\n"
          ],
          "name": "stdout"
        }
      ]
    },
    {
      "cell_type": "code",
      "metadata": {
        "id": "BP-RxiiVTga9",
        "outputId": "030e182f-48fd-4c72-ff03-13d7596e3c6e",
        "colab": {
          "base_uri": "https://localhost:8080/"
        }
      },
      "source": [
        "for n in range(3):\r\n",
        "\r\n",
        "  print(n+1)"
      ],
      "execution_count": 184,
      "outputs": [
        {
          "output_type": "stream",
          "text": [
            "1\n",
            "2\n",
            "3\n"
          ],
          "name": "stdout"
        }
      ]
    },
    {
      "cell_type": "code",
      "metadata": {
        "id": "J2LS3LWnTlDo",
        "outputId": "d63bb591-a2ac-4c12-f2d1-73b4e849fc75",
        "colab": {
          "base_uri": "https://localhost:8080/"
        }
      },
      "source": [
        "A=['1','2','3']\r\n",
        "\r\n",
        "for a in A:\r\n",
        "\r\n",
        "  print(2*a)"
      ],
      "execution_count": 185,
      "outputs": [
        {
          "output_type": "stream",
          "text": [
            "11\n",
            "22\n",
            "33\n"
          ],
          "name": "stdout"
        }
      ]
    },
    {
      "cell_type": "code",
      "metadata": {
        "id": "q0IQ_4H-TpSd"
      },
      "source": [
        "def Add(x,y):\r\n",
        "\r\n",
        "  z=y+x\r\n",
        "\r\n",
        "  return(y)"
      ],
      "execution_count": 186,
      "outputs": []
    },
    {
      "cell_type": "code",
      "metadata": {
        "id": "GqMGkyKjTyaM",
        "outputId": "e0b76a41-ddae-4d33-a853-3829d336a40b",
        "colab": {
          "base_uri": "https://localhost:8080/",
          "height": 35
        }
      },
      "source": [
        "Add('1','1')"
      ],
      "execution_count": 187,
      "outputs": [
        {
          "output_type": "execute_result",
          "data": {
            "application/vnd.google.colaboratory.intrinsic+json": {
              "type": "string"
            },
            "text/plain": [
              "'1'"
            ]
          },
          "metadata": {
            "tags": []
          },
          "execution_count": 187
        }
      ]
    },
    {
      "cell_type": "code",
      "metadata": {
        "id": "xA2HWiWBT1PS",
        "outputId": "39fefc57-7b00-497d-d6db-09df77c76d98",
        "colab": {
          "base_uri": "https://localhost:8080/"
        }
      },
      "source": [
        "class Points(object):\r\n",
        "\r\n",
        "  def __init__(self,x,y):\r\n",
        "\r\n",
        "    self.x=x\r\n",
        "\r\n",
        "    self.y=y\r\n",
        "\r\n",
        "  def print_point(self):\r\n",
        "\r\n",
        "    print('x=',self.x,' y=',self.y)\r\n",
        "\r\n",
        "p1=Points(1,2)\r\n",
        "\r\n",
        "p1.print_point()"
      ],
      "execution_count": 188,
      "outputs": [
        {
          "output_type": "stream",
          "text": [
            "x= 1  y= 2\n"
          ],
          "name": "stdout"
        }
      ]
    },
    {
      "cell_type": "code",
      "metadata": {
        "id": "yRuFrLnKUDDM",
        "outputId": "edbda13a-ae00-4b3b-923d-f43ec92a07bb",
        "colab": {
          "base_uri": "https://localhost:8080/"
        }
      },
      "source": [
        "class Points(object):\r\n",
        "\r\n",
        "  def __init__(self,x,y):\r\n",
        "\r\n",
        "    self.x=x\r\n",
        "\r\n",
        "    self.y=y\r\n",
        "\r\n",
        "  def print_point(self):\r\n",
        "\r\n",
        "    print('x=',self.x,' y=',self.y)\r\n",
        "\r\n",
        "p2=Points(1,2)\r\n",
        "\r\n",
        "p2.x=2\r\n",
        "\r\n",
        "p2.print_point()"
      ],
      "execution_count": 189,
      "outputs": [
        {
          "output_type": "stream",
          "text": [
            "x= 2  y= 2\n"
          ],
          "name": "stdout"
        }
      ]
    },
    {
      "cell_type": "code",
      "metadata": {
        "id": "5NTVBtQZUL4N"
      },
      "source": [
        ""
      ],
      "execution_count": null,
      "outputs": []
    }
  ]
}