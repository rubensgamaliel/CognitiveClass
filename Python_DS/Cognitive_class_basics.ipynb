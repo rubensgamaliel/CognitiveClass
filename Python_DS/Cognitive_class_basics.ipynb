{
  "nbformat": 4,
  "nbformat_minor": 0,
  "metadata": {
    "colab": {
      "name": "Cognitive_class_basics.ipynb",
      "provenance": [],
      "authorship_tag": "ABX9TyN3TMZZ7/5X3aLf4YZW6Wdw",
      "include_colab_link": true
    },
    "kernelspec": {
      "name": "python3",
      "display_name": "Python 3"
    }
  },
  "cells": [
    {
      "cell_type": "markdown",
      "metadata": {
        "id": "view-in-github",
        "colab_type": "text"
      },
      "source": [
        "<a href=\"https://colab.research.google.com/github/rubensgamaliel/CognitiveClass/blob/main/Python_DS/Cognitive_class_basics.ipynb\" target=\"_parent\"><img src=\"https://colab.research.google.com/assets/colab-badge.svg\" alt=\"Open In Colab\"/></a>"
      ]
    },
    {
      "cell_type": "markdown",
      "metadata": {
        "id": "0wO9XNnHJd6c"
      },
      "source": [
        "#Material from the **Python for data science** class from **IBM** by [cognitive class](https://courses.cognitiveclass.ai/courses/course-v1:Cognitiveclass+PY0101EN+v2/course/)"
      ]
    },
    {
      "cell_type": "markdown",
      "metadata": {
        "id": "-i-wCzaEa5oC"
      },
      "source": [
        "Consider the following string:\r\n",
        "\r\n",
        "Numbers=\"0123456\"\r\n",
        "\r\n",
        "how would you obtain the even elements ?"
      ]
    },
    {
      "cell_type": "code",
      "metadata": {
        "id": "rttTen36JUlZ",
        "colab": {
          "base_uri": "https://localhost:8080/",
          "height": 35
        },
        "outputId": "a515f157-22e3-4c96-a1bd-8e798dd2f738"
      },
      "source": [
        "Numbers=\"0123456\"\r\n",
        "Numbers[::2]"
      ],
      "execution_count": 4,
      "outputs": [
        {
          "output_type": "execute_result",
          "data": {
            "application/vnd.google.colaboratory.intrinsic+json": {
              "type": "string"
            },
            "text/plain": [
              "'0246'"
            ]
          },
          "metadata": {
            "tags": []
          },
          "execution_count": 4
        }
      ]
    },
    {
      "cell_type": "markdown",
      "metadata": {
        "id": "6XqVspbLbYpI"
      },
      "source": [
        "What is the result of the following line of code:\r\n",
        "\r\n",
        "\"0123456\".find('1')"
      ]
    },
    {
      "cell_type": "code",
      "metadata": {
        "id": "_RFi-gaWbEvX",
        "outputId": "a00c04b7-ef6b-4be9-ed33-4181af595e35",
        "colab": {
          "base_uri": "https://localhost:8080/"
        }
      },
      "source": [
        "\"0123456\".find('1')"
      ],
      "execution_count": 5,
      "outputs": [
        {
          "output_type": "execute_result",
          "data": {
            "text/plain": [
              "1"
            ]
          },
          "metadata": {
            "tags": []
          },
          "execution_count": 5
        }
      ]
    },
    {
      "cell_type": "code",
      "metadata": {
        "id": "w_Kf7cmxbaeD",
        "outputId": "455e5d1a-482a-46b8-a531-1485869697e9",
        "colab": {
          "base_uri": "https://localhost:8080/"
        }
      },
      "source": [
        "type(\"0123456\".find('1'))"
      ],
      "execution_count": 6,
      "outputs": [
        {
          "output_type": "execute_result",
          "data": {
            "text/plain": [
              "int"
            ]
          },
          "metadata": {
            "tags": []
          },
          "execution_count": 6
        }
      ]
    },
    {
      "cell_type": "markdown",
      "metadata": {
        "id": "z4ewUN8wdfGz"
      },
      "source": [
        "What is the result of the following operation in Python:\r\n",
        "\r\n",
        "3 + 2 * 2"
      ]
    },
    {
      "cell_type": "code",
      "metadata": {
        "id": "fidV5KWtbfEr",
        "outputId": "c134bd24-bbc4-4e46-df16-2aa6b47876b0",
        "colab": {
          "base_uri": "https://localhost:8080/"
        }
      },
      "source": [
        "3 + 2 * 2"
      ],
      "execution_count": 7,
      "outputs": [
        {
          "output_type": "execute_result",
          "data": {
            "text/plain": [
              "7"
            ]
          },
          "metadata": {
            "tags": []
          },
          "execution_count": 7
        }
      ]
    },
    {
      "cell_type": "markdown",
      "metadata": {
        "id": "fPD75JH-dlx4"
      },
      "source": [
        "In Python, if you executed name = 'Lizz', what would be the output of print(name[0:2])?"
      ]
    },
    {
      "cell_type": "code",
      "metadata": {
        "id": "DmJ8KUM4dht_",
        "outputId": "2e32836d-cf45-4b6a-cf4a-a0c1cfa88204",
        "colab": {
          "base_uri": "https://localhost:8080/"
        }
      },
      "source": [
        "name = 'Lizz'\r\n",
        "print(name[0:2])"
      ],
      "execution_count": 8,
      "outputs": [
        {
          "output_type": "stream",
          "text": [
            "Li\n"
          ],
          "name": "stdout"
        }
      ]
    },
    {
      "cell_type": "markdown",
      "metadata": {
        "id": "xxKqRkfaduQe"
      },
      "source": [
        "In Python, if you executed var = '01234567', what would be the result of print(var[::2])?"
      ]
    },
    {
      "cell_type": "code",
      "metadata": {
        "id": "o-mLTGVvdqXt",
        "outputId": "d6bb7977-5906-416c-c905-d46b14cc1e2d",
        "colab": {
          "base_uri": "https://localhost:8080/"
        }
      },
      "source": [
        "var = '01234567'\r\n",
        "print(var[::2])"
      ],
      "execution_count": 9,
      "outputs": [
        {
          "output_type": "stream",
          "text": [
            "0246\n"
          ],
          "name": "stdout"
        }
      ]
    },
    {
      "cell_type": "markdown",
      "metadata": {
        "id": "QXGyodHYd2WR"
      },
      "source": [
        "In Python, what is the result of the following operation '1'+'2'"
      ]
    },
    {
      "cell_type": "code",
      "metadata": {
        "id": "8GwxQCYAdyy1",
        "outputId": "9b85adee-1c4e-4cee-979d-cf311a9d514f",
        "colab": {
          "base_uri": "https://localhost:8080/",
          "height": 35
        }
      },
      "source": [
        "'1'+'2'"
      ],
      "execution_count": 10,
      "outputs": [
        {
          "output_type": "execute_result",
          "data": {
            "application/vnd.google.colaboratory.intrinsic+json": {
              "type": "string"
            },
            "text/plain": [
              "'12'"
            ]
          },
          "metadata": {
            "tags": []
          },
          "execution_count": 10
        }
      ]
    },
    {
      "cell_type": "markdown",
      "metadata": {
        "id": "DSyCkOBbd7gR"
      },
      "source": [
        "Given myvar = 'hello', how would you convert myvar into uppercase?"
      ]
    },
    {
      "cell_type": "code",
      "metadata": {
        "id": "xU-K7b3Ed4Mj",
        "outputId": "06ef917b-524f-4d19-d81d-cfef42cdb8d3",
        "colab": {
          "base_uri": "https://localhost:8080/",
          "height": 35
        }
      },
      "source": [
        "myvar = 'hello'\r\n",
        "myvar.upper()"
      ],
      "execution_count": 12,
      "outputs": [
        {
          "output_type": "execute_result",
          "data": {
            "application/vnd.google.colaboratory.intrinsic+json": {
              "type": "string"
            },
            "text/plain": [
              "'HELLO'"
            ]
          },
          "metadata": {
            "tags": []
          },
          "execution_count": 12
        }
      ]
    },
    {
      "cell_type": "markdown",
      "metadata": {
        "id": "BFLC1WSex4o4"
      },
      "source": [
        "how do you access the last element of the tuple: A=(0,1,2,3) :"
      ]
    },
    {
      "cell_type": "code",
      "metadata": {
        "id": "qpAXaEJzd_iY",
        "outputId": "ce528820-42ff-4efb-b6a2-da11bd3dd51e",
        "colab": {
          "base_uri": "https://localhost:8080/"
        }
      },
      "source": [
        "A=(0,1,2,3)\r\n",
        "A[-1]\r\n",
        "A[3]"
      ],
      "execution_count": 14,
      "outputs": [
        {
          "output_type": "execute_result",
          "data": {
            "text/plain": [
              "3"
            ]
          },
          "metadata": {
            "tags": []
          },
          "execution_count": 14
        }
      ]
    },
    {
      "cell_type": "markdown",
      "metadata": {
        "id": "7u0Um1ugyG6P"
      },
      "source": [
        "Consider the list B=[\"a\",\"b\",\"c\"]\r\n",
        "\r\n",
        "what is the result of the following B[1:]"
      ]
    },
    {
      "cell_type": "code",
      "metadata": {
        "id": "L6zptoGvx9Bx",
        "outputId": "4f9bf4c8-061d-4eb9-bf06-db39ce193775",
        "colab": {
          "base_uri": "https://localhost:8080/"
        }
      },
      "source": [
        "B=[\"a\",\"b\",\"c\"]\r\n",
        "B[1:]"
      ],
      "execution_count": 15,
      "outputs": [
        {
          "output_type": "execute_result",
          "data": {
            "text/plain": [
              "['b', 'c']"
            ]
          },
          "metadata": {
            "tags": []
          },
          "execution_count": 15
        }
      ]
    },
    {
      "cell_type": "markdown",
      "metadata": {
        "id": "bo4qLWq6z5UI"
      },
      "source": [
        "What is the result of the following lines of code:\r\n",
        "\r\n",
        "S={'A','B','C'}\r\n",
        "\r\n",
        "U={'A','Z','C'}\r\n",
        "\r\n",
        "U.union(S)"
      ]
    },
    {
      "cell_type": "code",
      "metadata": {
        "id": "ohm6UeZpyKV-",
        "outputId": "7643506d-a85b-4bac-86e9-bccd208c83a8",
        "colab": {
          "base_uri": "https://localhost:8080/"
        }
      },
      "source": [
        "S={'A','B','C'}\r\n",
        "\r\n",
        "U={'A','Z','C'}\r\n",
        "\r\n",
        "U.union(S)"
      ],
      "execution_count": 16,
      "outputs": [
        {
          "output_type": "execute_result",
          "data": {
            "text/plain": [
              "{'A', 'B', 'C', 'Z'}"
            ]
          },
          "metadata": {
            "tags": []
          },
          "execution_count": 16
        }
      ]
    },
    {
      "cell_type": "markdown",
      "metadata": {
        "id": "kf_yI6eF0DuJ"
      },
      "source": [
        "What is the intersection of set S and U\r\n",
        "\r\n",
        "S={'A','B','C'}\r\n",
        "\r\n",
        "U={'A','Z','C'}"
      ]
    },
    {
      "cell_type": "code",
      "metadata": {
        "id": "mpJSDI9nz-nF",
        "outputId": "cd0e614c-c319-4284-a997-ebd6422160d4",
        "colab": {
          "base_uri": "https://localhost:8080/"
        }
      },
      "source": [
        "S={'A','B','C'}\r\n",
        "\r\n",
        "U={'A','Z','C'}\r\n",
        "\r\n",
        "S & U"
      ],
      "execution_count": 17,
      "outputs": [
        {
          "output_type": "execute_result",
          "data": {
            "text/plain": [
              "{'A', 'C'}"
            ]
          },
          "metadata": {
            "tags": []
          },
          "execution_count": 17
        }
      ]
    },
    {
      "cell_type": "code",
      "metadata": {
        "id": "krtV--jo0HzM"
      },
      "source": [
        ""
      ],
      "execution_count": null,
      "outputs": []
    }
  ]
}